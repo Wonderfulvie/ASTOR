{
 "cells": [
  {
   "cell_type": "markdown",
   "metadata": {
    "id": "RHr1WxbDjRrS"
   },
   "source": [
    "# Final Group Project"
   ]
  },
  {
   "cell_type": "code",
   "execution_count": null,
   "metadata": {
    "colab": {
     "base_uri": "https://localhost:8080/"
    },
    "id": "mNhpn1V-sdSX",
    "outputId": "64e4ea38-56b7-4267-d0a0-6e76036323c6"
   },
   "outputs": [
    {
     "name": "stdout",
     "output_type": "stream",
     "text": [
      "Mounted at /content/drive\n"
     ]
    }
   ],
   "source": [
    "#Mount with Google Drive\n",
    "from google.colab import drive\n",
    "drive.mount('/content/drive')\n",
    "import os \n",
    "os.chdir('/content/drive/MyDrive/DAT 562 Project') "
   ]
  },
  {
   "cell_type": "markdown",
   "metadata": {
    "id": "QXQqg4rYY3SB"
   },
   "source": [
    "## Prepare For Datasets: Review, Business, and Merged Datasets"
   ]
  },
  {
   "cell_type": "code",
   "execution_count": null,
   "metadata": {
    "colab": {
     "base_uri": "https://localhost:8080/"
    },
    "id": "9ce70856-8e12-4a29-bb78-3b15cf36d11f",
    "outputId": "7703268e-3913-48d7-bc3d-c390d9b4ef66"
   },
   "outputs": [
    {
     "name": "stdout",
     "output_type": "stream",
     "text": [
      "{'business_id': '0DI8Dt2PJp07XkVvIElIcQ', 'name': 'Innovative Vapors', 'neighborhood': '', 'address': '227 E Baseline Rd, Ste J2', 'city': 'Tempe', 'state': 'AZ', 'postal_code': '85283', 'latitude': 33.3782141, 'longitude': -111.936102, 'stars': 4.5, 'review_count': 17, 'is_open': 0, 'attributes': ['BikeParking: True', 'BusinessAcceptsBitcoin: False', 'BusinessAcceptsCreditCards: True', \"BusinessParking: {'garage': False, 'street': False, 'validated': False, 'lot': True, 'valet': False}\", 'DogsAllowed: False', 'RestaurantsPriceRange2: 2', 'WheelchairAccessible: True'], 'categories': ['Tobacco Shops', 'Nightlife', 'Vape Shops', 'Shopping'], 'hours': ['Monday 11:0-21:0', 'Tuesday 11:0-21:0', 'Wednesday 11:0-21:0', 'Thursday 11:0-21:0', 'Friday 11:0-22:0', 'Saturday 10:0-22:0', 'Sunday 11:0-18:0'], 'type': 'business'}\n",
      "144072\n",
      "{'review_id': 'NxL8SIC5yqOdnlXCg18IBg', 'user_id': 'KpkOkG6RIf4Ra25Lhhxf1A', 'business_id': '2aFiy99vNLklCx3T_tGS9A', 'stars': 5, 'date': '2011-10-10', 'text': \"If you enjoy service by someone who is as competent as he is personable, I would recommend Corey Kaplan highly. The time he has spent here has been very productive and working with him educational and enjoyable. I hope not to need him again (though this is highly unlikely) but knowing he is there if I do is very nice. By the way, I'm not from El Centro, CA. but Scottsdale, AZ.\", 'useful': 0, 'funny': 0, 'cool': 0, 'type': 'review'}\n"
     ]
    },
    {
     "data": {
      "text/plain": [
       "4153150"
      ]
     },
     "execution_count": 2,
     "metadata": {},
     "output_type": "execute_result"
    }
   ],
   "source": [
    "# Read Files\n",
    "import json\n",
    "#OPENING YELP Business DATASETS\n",
    "with open(\"yelp_academic_dataset_business.json\",encoding=\"utf-8\") as f:\n",
    "    business = f.read().strip().split(\"\\n\")\n",
    "business=[json.loads(i) for i in business]\n",
    "print(business[0])\n",
    "print(len(business))\n",
    "#OPENING YELP Business DATASETS\n",
    "reviews=[]\n",
    "with open(\"yelp_academic_dataset_review.json\",encoding=\"utf-8\") as f:\n",
    "    for i in f:\n",
    "      content=i\n",
    "      reviews.append(json.loads(content))\n",
    "  \n",
    "print(reviews[0])\n",
    "len(reviews)"
   ]
  },
  {
   "cell_type": "code",
   "execution_count": null,
   "metadata": {
    "colab": {
     "base_uri": "https://localhost:8080/"
    },
    "id": "a82f8956-f74f-4eca-8462-84113644911b",
    "outputId": "1bb0f3ad-4d6f-4b1d-8576-490c052abbc2"
   },
   "outputs": [
    {
     "name": "stdout",
     "output_type": "stream",
     "text": [
      "2017-01-20 2004-07-22\n"
     ]
    }
   ],
   "source": [
    "# Construct review dataframe\n",
    "\n",
    "# View TimeFrame\n",
    "date = [review['date'] for review in reviews]\n",
    "print(max(date),min(date))\n",
    "# each line of the file is a separate JSON object\n",
    "texts = [review['text'] for review in reviews]\n",
    "stars = [review['stars'] for review in reviews]\n",
    "business_id=[review['business_id'] for review in reviews]\n",
    "useful=[review['useful'] for review in reviews]\n",
    "\n",
    "import pandas as pd\n",
    "df=pd.DataFrame({\"bid\":business_id,\"stars\":stars,\"reviews\":texts,\"date\":date,\"useful\":useful})\n",
    "# Generate Year Variable\n",
    "def f(x):\n",
    "  return int(x[:4])\n",
    "df[\"year\"]=df.date.apply(f)"
   ]
  },
  {
   "cell_type": "code",
   "execution_count": null,
   "metadata": {
    "colab": {
     "base_uri": "https://localhost:8080/"
    },
    "id": "VyxbKdkQHUGg",
    "outputId": "cec933c1-558e-4a72-e181-971a627afd35"
   },
   "outputs": [
    {
     "data": {
      "text/plain": [
       "(144072, 5)"
      ]
     },
     "execution_count": 3,
     "metadata": {},
     "output_type": "execute_result"
    }
   ],
   "source": [
    "# Construct business info dataframe\n",
    "import pandas as pd\n",
    "business_id_2 = [i['business_id'] for i in business]\n",
    "category = [i['categories'] for i in business]\n",
    "names= [i['name'] for i in business]\n",
    "stars_2= [i['stars'] for i in business]\n",
    "postal_code=[i['postal_code'] for i in business]\n",
    "state=[i['state'] for i in business]\n",
    "city=[i['city'] for i in business]\n",
    "df_b=pd.DataFrame({\"bid\":business_id_2,\"postal_code\":postal_code,\"state\":state,\"city\":city,\"categories\":category})\n",
    "df_b.head()\n",
    "df_b.shape"
   ]
  },
  {
   "cell_type": "code",
   "execution_count": null,
   "metadata": {
    "colab": {
     "base_uri": "https://localhost:8080/",
     "height": 355
    },
    "id": "lBJuz7l2Klki",
    "outputId": "23dd8a6e-bd63-48dc-9293-a6c3049dcd88"
   },
   "outputs": [
    {
     "name": "stdout",
     "output_type": "stream",
     "text": [
      "(4153150, 10)\n"
     ]
    },
    {
     "data": {
      "text/html": [
       "\n",
       "  <div id=\"df-2fd48769-b59a-4536-bf34-1648b5c3365c\">\n",
       "    <div class=\"colab-df-container\">\n",
       "      <div>\n",
       "<style scoped>\n",
       "    .dataframe tbody tr th:only-of-type {\n",
       "        vertical-align: middle;\n",
       "    }\n",
       "\n",
       "    .dataframe tbody tr th {\n",
       "        vertical-align: top;\n",
       "    }\n",
       "\n",
       "    .dataframe thead th {\n",
       "        text-align: right;\n",
       "    }\n",
       "</style>\n",
       "<table border=\"1\" class=\"dataframe\">\n",
       "  <thead>\n",
       "    <tr style=\"text-align: right;\">\n",
       "      <th></th>\n",
       "      <th>bid</th>\n",
       "      <th>stars</th>\n",
       "      <th>reviews</th>\n",
       "      <th>date</th>\n",
       "      <th>useful</th>\n",
       "      <th>year</th>\n",
       "      <th>postal_code</th>\n",
       "      <th>state</th>\n",
       "      <th>city</th>\n",
       "      <th>categories</th>\n",
       "    </tr>\n",
       "  </thead>\n",
       "  <tbody>\n",
       "    <tr>\n",
       "      <th>0</th>\n",
       "      <td>2aFiy99vNLklCx3T_tGS9A</td>\n",
       "      <td>5</td>\n",
       "      <td>If you enjoy service by someone who is as comp...</td>\n",
       "      <td>2011-10-10</td>\n",
       "      <td>0</td>\n",
       "      <td>2011</td>\n",
       "      <td>85050</td>\n",
       "      <td>AZ</td>\n",
       "      <td>Phoenix</td>\n",
       "      <td>[Web Design, IT Services &amp; Computer Repair, Lo...</td>\n",
       "    </tr>\n",
       "    <tr>\n",
       "      <th>1</th>\n",
       "      <td>2aFiy99vNLklCx3T_tGS9A</td>\n",
       "      <td>5</td>\n",
       "      <td>After being on the phone with Verizon Wireless...</td>\n",
       "      <td>2010-12-29</td>\n",
       "      <td>1</td>\n",
       "      <td>2010</td>\n",
       "      <td>85050</td>\n",
       "      <td>AZ</td>\n",
       "      <td>Phoenix</td>\n",
       "      <td>[Web Design, IT Services &amp; Computer Repair, Lo...</td>\n",
       "    </tr>\n",
       "    <tr>\n",
       "      <th>2</th>\n",
       "      <td>2aFiy99vNLklCx3T_tGS9A</td>\n",
       "      <td>5</td>\n",
       "      <td>Great service! Corey is very service oriented....</td>\n",
       "      <td>2011-04-29</td>\n",
       "      <td>0</td>\n",
       "      <td>2011</td>\n",
       "      <td>85050</td>\n",
       "      <td>AZ</td>\n",
       "      <td>Phoenix</td>\n",
       "      <td>[Web Design, IT Services &amp; Computer Repair, Lo...</td>\n",
       "    </tr>\n",
       "    <tr>\n",
       "      <th>3</th>\n",
       "      <td>2LfIuF3_sX6uwe-IR-P0jQ</td>\n",
       "      <td>5</td>\n",
       "      <td>Highly recommended. Went in yesterday looking ...</td>\n",
       "      <td>2014-07-14</td>\n",
       "      <td>0</td>\n",
       "      <td>2014</td>\n",
       "      <td>85013</td>\n",
       "      <td>AZ</td>\n",
       "      <td>Phoenix</td>\n",
       "      <td>[Home &amp; Garden, Antiques, Home Decor, Shopping]</td>\n",
       "    </tr>\n",
       "    <tr>\n",
       "      <th>4</th>\n",
       "      <td>2LfIuF3_sX6uwe-IR-P0jQ</td>\n",
       "      <td>4</td>\n",
       "      <td>I walked in here looking for a specific piece ...</td>\n",
       "      <td>2014-01-15</td>\n",
       "      <td>0</td>\n",
       "      <td>2014</td>\n",
       "      <td>85013</td>\n",
       "      <td>AZ</td>\n",
       "      <td>Phoenix</td>\n",
       "      <td>[Home &amp; Garden, Antiques, Home Decor, Shopping]</td>\n",
       "    </tr>\n",
       "  </tbody>\n",
       "</table>\n",
       "</div>\n",
       "      <button class=\"colab-df-convert\" onclick=\"convertToInteractive('df-2fd48769-b59a-4536-bf34-1648b5c3365c')\"\n",
       "              title=\"Convert this dataframe to an interactive table.\"\n",
       "              style=\"display:none;\">\n",
       "        \n",
       "  <svg xmlns=\"http://www.w3.org/2000/svg\" height=\"24px\"viewBox=\"0 0 24 24\"\n",
       "       width=\"24px\">\n",
       "    <path d=\"M0 0h24v24H0V0z\" fill=\"none\"/>\n",
       "    <path d=\"M18.56 5.44l.94 2.06.94-2.06 2.06-.94-2.06-.94-.94-2.06-.94 2.06-2.06.94zm-11 1L8.5 8.5l.94-2.06 2.06-.94-2.06-.94L8.5 2.5l-.94 2.06-2.06.94zm10 10l.94 2.06.94-2.06 2.06-.94-2.06-.94-.94-2.06-.94 2.06-2.06.94z\"/><path d=\"M17.41 7.96l-1.37-1.37c-.4-.4-.92-.59-1.43-.59-.52 0-1.04.2-1.43.59L10.3 9.45l-7.72 7.72c-.78.78-.78 2.05 0 2.83L4 21.41c.39.39.9.59 1.41.59.51 0 1.02-.2 1.41-.59l7.78-7.78 2.81-2.81c.8-.78.8-2.07 0-2.86zM5.41 20L4 18.59l7.72-7.72 1.47 1.35L5.41 20z\"/>\n",
       "  </svg>\n",
       "      </button>\n",
       "      \n",
       "  <style>\n",
       "    .colab-df-container {\n",
       "      display:flex;\n",
       "      flex-wrap:wrap;\n",
       "      gap: 12px;\n",
       "    }\n",
       "\n",
       "    .colab-df-convert {\n",
       "      background-color: #E8F0FE;\n",
       "      border: none;\n",
       "      border-radius: 50%;\n",
       "      cursor: pointer;\n",
       "      display: none;\n",
       "      fill: #1967D2;\n",
       "      height: 32px;\n",
       "      padding: 0 0 0 0;\n",
       "      width: 32px;\n",
       "    }\n",
       "\n",
       "    .colab-df-convert:hover {\n",
       "      background-color: #E2EBFA;\n",
       "      box-shadow: 0px 1px 2px rgba(60, 64, 67, 0.3), 0px 1px 3px 1px rgba(60, 64, 67, 0.15);\n",
       "      fill: #174EA6;\n",
       "    }\n",
       "\n",
       "    [theme=dark] .colab-df-convert {\n",
       "      background-color: #3B4455;\n",
       "      fill: #D2E3FC;\n",
       "    }\n",
       "\n",
       "    [theme=dark] .colab-df-convert:hover {\n",
       "      background-color: #434B5C;\n",
       "      box-shadow: 0px 1px 3px 1px rgba(0, 0, 0, 0.15);\n",
       "      filter: drop-shadow(0px 1px 2px rgba(0, 0, 0, 0.3));\n",
       "      fill: #FFFFFF;\n",
       "    }\n",
       "  </style>\n",
       "\n",
       "      <script>\n",
       "        const buttonEl =\n",
       "          document.querySelector('#df-2fd48769-b59a-4536-bf34-1648b5c3365c button.colab-df-convert');\n",
       "        buttonEl.style.display =\n",
       "          google.colab.kernel.accessAllowed ? 'block' : 'none';\n",
       "\n",
       "        async function convertToInteractive(key) {\n",
       "          const element = document.querySelector('#df-2fd48769-b59a-4536-bf34-1648b5c3365c');\n",
       "          const dataTable =\n",
       "            await google.colab.kernel.invokeFunction('convertToInteractive',\n",
       "                                                     [key], {});\n",
       "          if (!dataTable) return;\n",
       "\n",
       "          const docLinkHtml = 'Like what you see? Visit the ' +\n",
       "            '<a target=\"_blank\" href=https://colab.research.google.com/notebooks/data_table.ipynb>data table notebook</a>'\n",
       "            + ' to learn more about interactive tables.';\n",
       "          element.innerHTML = '';\n",
       "          dataTable['output_type'] = 'display_data';\n",
       "          await google.colab.output.renderOutput(dataTable, element);\n",
       "          const docLink = document.createElement('div');\n",
       "          docLink.innerHTML = docLinkHtml;\n",
       "          element.appendChild(docLink);\n",
       "        }\n",
       "      </script>\n",
       "    </div>\n",
       "  </div>\n",
       "  "
      ],
      "text/plain": [
       "                      bid  ...                                         categories\n",
       "0  2aFiy99vNLklCx3T_tGS9A  ...  [Web Design, IT Services & Computer Repair, Lo...\n",
       "1  2aFiy99vNLklCx3T_tGS9A  ...  [Web Design, IT Services & Computer Repair, Lo...\n",
       "2  2aFiy99vNLklCx3T_tGS9A  ...  [Web Design, IT Services & Computer Repair, Lo...\n",
       "3  2LfIuF3_sX6uwe-IR-P0jQ  ...    [Home & Garden, Antiques, Home Decor, Shopping]\n",
       "4  2LfIuF3_sX6uwe-IR-P0jQ  ...    [Home & Garden, Antiques, Home Decor, Shopping]\n",
       "\n",
       "[5 rows x 10 columns]"
      ]
     },
     "execution_count": 6,
     "metadata": {},
     "output_type": "execute_result"
    }
   ],
   "source": [
    "# Merge business info and reviews (dataset: df_big)\n",
    "df_big=pd.merge(df,df_b,how=\"left\",left_on=\"bid\",right_on=\"bid\")\n",
    "print(df_big.shape)\n",
    "df_big.head()"
   ]
  },
  {
   "cell_type": "code",
   "execution_count": null,
   "metadata": {
    "id": "dZJZtH3lZR4j"
   },
   "outputs": [],
   "source": [
    "del reviews\n",
    "del business"
   ]
  },
  {
   "cell_type": "markdown",
   "metadata": {
    "id": "-hAO1fUCZO3T"
   },
   "source": [
    "## Data Description"
   ]
  },
  {
   "cell_type": "code",
   "execution_count": null,
   "metadata": {
    "colab": {
     "base_uri": "https://localhost:8080/"
    },
    "id": "4fVX-GG9UpLZ",
    "outputId": "618fa1e9-0df5-41b4-832b-6bd62347f8c8"
   },
   "outputs": [
    {
     "data": {
      "text/plain": [
       "2004    0.000004\n",
       "2005    0.000208\n",
       "2006    0.001349\n",
       "2007    0.005503\n",
       "2008    0.014684\n",
       "2009    0.023559\n",
       "2010    0.044634\n",
       "2011    0.069160\n",
       "2012    0.083111\n",
       "2013    0.113317\n",
       "2014    0.161848\n",
       "2015    0.216824\n",
       "2016    0.251771\n",
       "2017    0.014029\n",
       "Name: year, dtype: float64"
      ]
     },
     "execution_count": 7,
     "metadata": {},
     "output_type": "execute_result"
    }
   ],
   "source": [
    "# Review Date Distribution\n",
    "df[\"year\"].value_counts(normalize=True).sort_index()"
   ]
  },
  {
   "cell_type": "code",
   "execution_count": null,
   "metadata": {
    "colab": {
     "base_uri": "https://localhost:8080/"
    },
    "id": "fb477c61-f0ae-4eb5-beae-0a7cc3cc595a",
    "outputId": "d1ace2e8-4efa-46e8-8a36-c6f27c28d95e"
   },
   "outputs": [
    {
     "name": "stdout",
     "output_type": "stream",
     "text": [
      "4JNXUYY8wbaaDmk3BPzlWw    6414\n",
      "RESDUcs7fIiihp38-d6_6g    5715\n",
      "K7lWdNUhCbcnEvI0NhGewg    5216\n",
      "cYwJA2A6I12KNkm2rtXd5g    5116\n",
      "DkYS3arLOhA8si5uUEmHOw    4655\n",
      "hihud--QRriCYZw1zZvW4g    4120\n",
      "eoHdUeQDNgQ6WYEnP2aiRw    3911\n",
      "f4x1YBxkLrZg652xt2KR5g    3881\n",
      "2weQS-RnoOBhb1KsHKyoSQ    3676\n",
      "ujHiaprwCQ5ewziu0Vi9rw    3482\n",
      "Name: bid, dtype: int64\n",
      "0.8238515343774043\n"
     ]
    }
   ],
   "source": [
    "# Business ID Distribution\n",
    "print(df.bid.value_counts()[:10])\n",
    "print(sum(df.bid.value_counts(normalize=True)[:round(df.shape[0]/100)]))\n"
   ]
  },
  {
   "cell_type": "code",
   "execution_count": null,
   "metadata": {
    "colab": {
     "base_uri": "https://localhost:8080/"
    },
    "id": "1BCrbUSygixv",
    "outputId": "8b182f53-555e-45aa-ec66-9e4215b47536"
   },
   "outputs": [
    {
     "name": "stdout",
     "output_type": "stream",
     "text": [
      "Business number: 144072\n",
      "Average num reviws/ business: 28.82690599144872\n"
     ]
    }
   ],
   "source": [
    "# BID distinct\n",
    "print(\"Business number:\",len(df.bid.value_counts()))\n",
    "print(\"Average num reviws/ business:\",len(df)/len(df.bid.value_counts()))\n"
   ]
  },
  {
   "cell_type": "code",
   "execution_count": null,
   "metadata": {
    "colab": {
     "base_uri": "https://localhost:8080/"
    },
    "id": "r7OmVcjnVXl3",
    "outputId": "71c9e799-3262-4811-e1c4-7bc10dd0ffab"
   },
   "outputs": [
    {
     "data": {
      "text/plain": [
       "5    0.410339\n",
       "4    0.248644\n",
       "1    0.130113\n",
       "3    0.124573\n",
       "2    0.086332\n",
       "Name: stars, dtype: float64"
      ]
     },
     "execution_count": 10,
     "metadata": {},
     "output_type": "execute_result"
    }
   ],
   "source": [
    "# Star Distribution\n",
    "df.stars.value_counts(normalize=True)\n"
   ]
  },
  {
   "cell_type": "code",
   "execution_count": null,
   "metadata": {
    "colab": {
     "base_uri": "https://localhost:8080/",
     "height": 300
    },
    "id": "mPCEAJQIdSSA",
    "outputId": "de655d73-826e-44e5-a08f-65671a4b1484"
   },
   "outputs": [
    {
     "data": {
      "text/html": [
       "<div>\n",
       "<style scoped>\n",
       "    .dataframe tbody tr th:only-of-type {\n",
       "        vertical-align: middle;\n",
       "    }\n",
       "\n",
       "    .dataframe tbody tr th {\n",
       "        vertical-align: top;\n",
       "    }\n",
       "\n",
       "    .dataframe thead th {\n",
       "        text-align: right;\n",
       "    }\n",
       "</style>\n",
       "<table border=\"1\" class=\"dataframe\">\n",
       "  <thead>\n",
       "    <tr style=\"text-align: right;\">\n",
       "      <th></th>\n",
       "      <th>stars</th>\n",
       "      <th>useful</th>\n",
       "      <th>year</th>\n",
       "    </tr>\n",
       "  </thead>\n",
       "  <tbody>\n",
       "    <tr>\n",
       "      <th>count</th>\n",
       "      <td>4.153150e+06</td>\n",
       "      <td>4.153150e+06</td>\n",
       "      <td>4.153150e+06</td>\n",
       "    </tr>\n",
       "    <tr>\n",
       "      <th>mean</th>\n",
       "      <td>3.722765e+00</td>\n",
       "      <td>1.008271e+00</td>\n",
       "      <td>2.013840e+03</td>\n",
       "    </tr>\n",
       "    <tr>\n",
       "      <th>std</th>\n",
       "      <td>1.405131e+00</td>\n",
       "      <td>2.585058e+00</td>\n",
       "      <td>2.144192e+00</td>\n",
       "    </tr>\n",
       "    <tr>\n",
       "      <th>min</th>\n",
       "      <td>1.000000e+00</td>\n",
       "      <td>0.000000e+00</td>\n",
       "      <td>2.004000e+03</td>\n",
       "    </tr>\n",
       "    <tr>\n",
       "      <th>25%</th>\n",
       "      <td>3.000000e+00</td>\n",
       "      <td>0.000000e+00</td>\n",
       "      <td>2.013000e+03</td>\n",
       "    </tr>\n",
       "    <tr>\n",
       "      <th>50%</th>\n",
       "      <td>4.000000e+00</td>\n",
       "      <td>0.000000e+00</td>\n",
       "      <td>2.014000e+03</td>\n",
       "    </tr>\n",
       "    <tr>\n",
       "      <th>75%</th>\n",
       "      <td>5.000000e+00</td>\n",
       "      <td>1.000000e+00</td>\n",
       "      <td>2.016000e+03</td>\n",
       "    </tr>\n",
       "    <tr>\n",
       "      <th>max</th>\n",
       "      <td>5.000000e+00</td>\n",
       "      <td>1.125000e+03</td>\n",
       "      <td>2.017000e+03</td>\n",
       "    </tr>\n",
       "  </tbody>\n",
       "</table>\n",
       "</div>"
      ],
      "text/plain": [
       "              stars        useful          year\n",
       "count  4.153150e+06  4.153150e+06  4.153150e+06\n",
       "mean   3.722765e+00  1.008271e+00  2.013840e+03\n",
       "std    1.405131e+00  2.585058e+00  2.144192e+00\n",
       "min    1.000000e+00  0.000000e+00  2.004000e+03\n",
       "25%    3.000000e+00  0.000000e+00  2.013000e+03\n",
       "50%    4.000000e+00  0.000000e+00  2.014000e+03\n",
       "75%    5.000000e+00  1.000000e+00  2.016000e+03\n",
       "max    5.000000e+00  1.125000e+03  2.017000e+03"
      ]
     },
     "execution_count": 11,
     "metadata": {},
     "output_type": "execute_result"
    }
   ],
   "source": [
    "df.describe()\n"
   ]
  },
  {
   "cell_type": "code",
   "execution_count": null,
   "metadata": {
    "colab": {
     "base_uri": "https://localhost:8080/",
     "height": 237
    },
    "id": "cBZJgGWIerSn",
    "outputId": "86bf573f-7265-498e-f233-34adc7c75d7b"
   },
   "outputs": [
    {
     "data": {
      "text/html": [
       "<div>\n",
       "<style scoped>\n",
       "    .dataframe tbody tr th:only-of-type {\n",
       "        vertical-align: middle;\n",
       "    }\n",
       "\n",
       "    .dataframe tbody tr th {\n",
       "        vertical-align: top;\n",
       "    }\n",
       "\n",
       "    .dataframe thead th {\n",
       "        text-align: right;\n",
       "    }\n",
       "</style>\n",
       "<table border=\"1\" class=\"dataframe\">\n",
       "  <thead>\n",
       "    <tr style=\"text-align: right;\">\n",
       "      <th>useful</th>\n",
       "      <th>0</th>\n",
       "      <th>1</th>\n",
       "    </tr>\n",
       "    <tr>\n",
       "      <th>stars</th>\n",
       "      <th></th>\n",
       "      <th></th>\n",
       "    </tr>\n",
       "  </thead>\n",
       "  <tbody>\n",
       "    <tr>\n",
       "      <th>1</th>\n",
       "      <td>258627</td>\n",
       "      <td>281750</td>\n",
       "    </tr>\n",
       "    <tr>\n",
       "      <th>2</th>\n",
       "      <td>180828</td>\n",
       "      <td>177722</td>\n",
       "    </tr>\n",
       "    <tr>\n",
       "      <th>3</th>\n",
       "      <td>286053</td>\n",
       "      <td>231316</td>\n",
       "    </tr>\n",
       "    <tr>\n",
       "      <th>4</th>\n",
       "      <td>583940</td>\n",
       "      <td>448714</td>\n",
       "    </tr>\n",
       "    <tr>\n",
       "      <th>5</th>\n",
       "      <td>1063442</td>\n",
       "      <td>640758</td>\n",
       "    </tr>\n",
       "  </tbody>\n",
       "</table>\n",
       "</div>"
      ],
      "text/plain": [
       "useful        0       1\n",
       "stars                  \n",
       "1        258627  281750\n",
       "2        180828  177722\n",
       "3        286053  231316\n",
       "4        583940  448714\n",
       "5       1063442  640758"
      ]
     },
     "execution_count": 12,
     "metadata": {},
     "output_type": "execute_result"
    }
   ],
   "source": [
    "pd.crosstab(index=df['stars'], columns=df.useful.apply(lambda x: 1 if x !=0 else 0))\n"
   ]
  },
  {
   "cell_type": "code",
   "execution_count": null,
   "metadata": {
    "colab": {
     "base_uri": "https://localhost:8080/"
    },
    "id": "3KV1NGxsfBj-",
    "outputId": "1378067f-1bb6-4e99-cc2d-58c676c15942"
   },
   "outputs": [
    {
     "data": {
      "text/plain": [
       "stars\n",
       "1    1.341495\n",
       "2    1.168183\n",
       "3    1.055421\n",
       "4    1.070230\n",
       "5    0.817108\n",
       "Name: useful, dtype: float64"
      ]
     },
     "execution_count": 13,
     "metadata": {},
     "output_type": "execute_result"
    }
   ],
   "source": [
    "\n",
    "# average useful times by review stars\n",
    "df.groupby(df[\"stars\"]).useful.mean()\n"
   ]
  },
  {
   "cell_type": "code",
   "execution_count": null,
   "metadata": {
    "colab": {
     "base_uri": "https://localhost:8080/"
    },
    "id": "Yqe2wGJXAFp9",
    "outputId": "6e4f345e-e980-4d0e-809b-841782bb6a73"
   },
   "outputs": [
    {
     "name": "stdout",
     "output_type": "stream",
     "text": [
      "Restaurants                  0.091897\n",
      "Shopping                     0.042581\n",
      "Food                         0.040161\n",
      "Beauty & Spas                0.025987\n",
      "Home Services                0.021306\n",
      "Nightlife                    0.019947\n",
      "Health & Medical             0.019856\n",
      "Bars                         0.017223\n",
      "Automotive                   0.016213\n",
      "Local Services               0.015415\n",
      "Event Planning & Services    0.013692\n",
      "Active Life                  0.012741\n",
      "Fashion                      0.011039\n",
      "American (Traditional)       0.010068\n",
      "Fast Food                    0.009951\n",
      "Pizza                        0.009911\n",
      "Sandwiches                   0.009894\n",
      "Coffee & Tea                 0.009664\n",
      "Hair Salons                  0.009208\n",
      "Hotels & Travel              0.009206\n",
      "dtype: float64\n"
     ]
    }
   ],
   "source": [
    "\n",
    "#View Most Frequent Categories of Business\n",
    "temp=df_b.categories\n",
    "temp1=[]\n",
    "for i in temp:\n",
    "  if type(i)==list:\n",
    "    temp1 +=i\n",
    "temp1=pd.DataFrame(temp1)\n",
    "print(temp1.value_counts(normalize=True)[:20])\n",
    "#df_temp=pd.DataFrame(temp1.value_counts())\n",
    "#df_temp.to_csv(r'category frequency for business.csv',index=True)\n"
   ]
  },
  {
   "cell_type": "code",
   "execution_count": null,
   "metadata": {
    "colab": {
     "base_uri": "https://localhost:8080/"
    },
    "id": "_fBuexjWNK3c",
    "outputId": "46533db8-4137-4fd3-9ee3-3a2023fb5d08"
   },
   "outputs": [
    {
     "name": "stdout",
     "output_type": "stream",
     "text": [
      "Restaurants                  0.149859\n",
      "Food                         0.043408\n",
      "Nightlife                    0.038712\n",
      "Bars                         0.035124\n",
      "American (New)               0.023968\n",
      "American (Traditional)       0.022674\n",
      "Breakfast & Brunch           0.019187\n",
      "Event Planning & Services    0.017356\n",
      "Shopping                     0.016914\n",
      "Arts & Entertainment         0.015508\n",
      "Beauty & Spas                0.013852\n",
      "Sandwiches                   0.013833\n",
      "Mexican                      0.013674\n",
      "Italian                      0.013420\n",
      "Pizza                        0.013086\n",
      "Hotels & Travel              0.012724\n",
      "Burgers                      0.012194\n",
      "Coffee & Tea                 0.010432\n",
      "Japanese                     0.010083\n",
      "Seafood                      0.009493\n",
      "dtype: float64\n"
     ]
    }
   ],
   "source": [
    "\n",
    "#View Most Frequent Categories of Reviews\n",
    "temp=df_big.categories\n",
    "\n",
    "temp1=[]\n",
    "for i in temp:\n",
    "  if type(i)==list:\n",
    "    temp1 +=i\n",
    "temp1=pd.DataFrame(temp1)\n",
    "print(temp1.value_counts(normalize=True)[:20])\n",
    "df_temp=pd.DataFrame(temp1.value_counts())\n",
    "df_temp.to_csv(r'category frequency for review.csv',index=True)\n"
   ]
  },
  {
   "cell_type": "code",
   "execution_count": null,
   "metadata": {
    "colab": {
     "base_uri": "https://localhost:8080/"
    },
    "id": "2GKEEOBZaa0e",
    "outputId": "79dbb651-fac8-4492-d503-aa1d535e7e0c"
   },
   "outputs": [
    {
     "data": {
      "text/plain": [
       "city\n",
       "Las Vegas                  1295505\n",
       "Phoenix                     456673\n",
       "Toronto                     349696\n",
       "Scottsdale                  245105\n",
       "Charlotte                   183619\n",
       "                            ...   \n",
       "CHARLOTTE                        3\n",
       "Mooers                           3\n",
       "Saint-Roch-De-L'achigan          3\n",
       "Morriston                        3\n",
       "East Credit                      3\n",
       "Length: 878, dtype: int64"
      ]
     },
     "execution_count": 91,
     "metadata": {},
     "output_type": "execute_result"
    }
   ],
   "source": [
    "df_big.value_counts(\"city\")"
   ]
  },
  {
   "cell_type": "markdown",
   "metadata": {
    "id": "4ObGAWGeZxwC"
   },
   "source": [
    "## Hoping to focus on restaurants and generate dataset"
   ]
  },
  {
   "cell_type": "code",
   "execution_count": null,
   "metadata": {
    "id": "RdUjSvX-srfL"
   },
   "outputs": [],
   "source": [
    "#Generate restaurant-related binary variable\n",
    "df_big[\"restaurant\"]=df_big.categories.apply(lambda x: 1 if x is not None and \"Restaurants\" in x else 0)"
   ]
  },
  {
   "cell_type": "code",
   "execution_count": null,
   "metadata": {
    "colab": {
     "base_uri": "https://localhost:8080/"
    },
    "id": "7DtOrJykuLTh",
    "outputId": "fa13bf96-9e4d-4b80-82b3-4999885a9046"
   },
   "outputs": [
    {
     "data": {
      "text/plain": [
       "5    15688\n",
       "4     8144\n",
       "1     4321\n",
       "3     4194\n",
       "2     2927\n",
       "Name: stars, dtype: int64"
      ]
     },
     "execution_count": 9,
     "metadata": {},
     "output_type": "execute_result"
    }
   ],
   "source": [
    "#Check whether there are enough Data for All restaurant in Year 2017\n",
    "df_big.loc[(df_big.restaurant==1) & (df_big.year>=2017),].stars.value_counts()\n"
   ]
  },
  {
   "cell_type": "code",
   "execution_count": null,
   "metadata": {
    "colab": {
     "base_uri": "https://localhost:8080/",
     "height": 337
    },
    "id": "_6qIFi-AYhzp",
    "outputId": "3721a46b-2eca-4766-ffe6-714dcd97b05b"
   },
   "outputs": [
    {
     "data": {
      "text/html": [
       "\n",
       "  <div id=\"df-8eec2b7f-724a-4566-92a8-550c4f7d749a\">\n",
       "    <div class=\"colab-df-container\">\n",
       "      <div>\n",
       "<style scoped>\n",
       "    .dataframe tbody tr th:only-of-type {\n",
       "        vertical-align: middle;\n",
       "    }\n",
       "\n",
       "    .dataframe tbody tr th {\n",
       "        vertical-align: top;\n",
       "    }\n",
       "\n",
       "    .dataframe thead th {\n",
       "        text-align: right;\n",
       "    }\n",
       "</style>\n",
       "<table border=\"1\" class=\"dataframe\">\n",
       "  <thead>\n",
       "    <tr style=\"text-align: right;\">\n",
       "      <th></th>\n",
       "      <th>bid</th>\n",
       "      <th>stars</th>\n",
       "      <th>reviews</th>\n",
       "      <th>date</th>\n",
       "      <th>useful</th>\n",
       "      <th>year</th>\n",
       "      <th>postal_code</th>\n",
       "      <th>state</th>\n",
       "      <th>city</th>\n",
       "      <th>categories</th>\n",
       "      <th>restaurant</th>\n",
       "    </tr>\n",
       "  </thead>\n",
       "  <tbody>\n",
       "    <tr>\n",
       "      <th>31</th>\n",
       "      <td>4P-vTvE6cncJyUyLh73pxw</td>\n",
       "      <td>4</td>\n",
       "      <td>This place is a area staple! Been around for y...</td>\n",
       "      <td>2014-03-29</td>\n",
       "      <td>0</td>\n",
       "      <td>2014</td>\n",
       "      <td>44141</td>\n",
       "      <td>OH</td>\n",
       "      <td>Brecksville</td>\n",
       "      <td>[Nightlife, American (Traditional), Pubs, Rest...</td>\n",
       "      <td>1</td>\n",
       "    </tr>\n",
       "    <tr>\n",
       "      <th>32</th>\n",
       "      <td>4P-vTvE6cncJyUyLh73pxw</td>\n",
       "      <td>4</td>\n",
       "      <td>Got my mojo back after having a few of their a...</td>\n",
       "      <td>2014-08-14</td>\n",
       "      <td>0</td>\n",
       "      <td>2014</td>\n",
       "      <td>44141</td>\n",
       "      <td>OH</td>\n",
       "      <td>Brecksville</td>\n",
       "      <td>[Nightlife, American (Traditional), Pubs, Rest...</td>\n",
       "      <td>1</td>\n",
       "    </tr>\n",
       "    <tr>\n",
       "      <th>33</th>\n",
       "      <td>4P-vTvE6cncJyUyLh73pxw</td>\n",
       "      <td>4</td>\n",
       "      <td>Don't go here for the decor, but the staff is ...</td>\n",
       "      <td>2012-10-20</td>\n",
       "      <td>1</td>\n",
       "      <td>2012</td>\n",
       "      <td>44141</td>\n",
       "      <td>OH</td>\n",
       "      <td>Brecksville</td>\n",
       "      <td>[Nightlife, American (Traditional), Pubs, Rest...</td>\n",
       "      <td>1</td>\n",
       "    </tr>\n",
       "    <tr>\n",
       "      <th>34</th>\n",
       "      <td>4P-vTvE6cncJyUyLh73pxw</td>\n",
       "      <td>5</td>\n",
       "      <td>I believe in awarding stars bearing in mind th...</td>\n",
       "      <td>2012-08-25</td>\n",
       "      <td>2</td>\n",
       "      <td>2012</td>\n",
       "      <td>44141</td>\n",
       "      <td>OH</td>\n",
       "      <td>Brecksville</td>\n",
       "      <td>[Nightlife, American (Traditional), Pubs, Rest...</td>\n",
       "      <td>1</td>\n",
       "    </tr>\n",
       "    <tr>\n",
       "      <th>35</th>\n",
       "      <td>4P-vTvE6cncJyUyLh73pxw</td>\n",
       "      <td>4</td>\n",
       "      <td>If you like fried food and laid back, then thi...</td>\n",
       "      <td>2015-07-27</td>\n",
       "      <td>0</td>\n",
       "      <td>2015</td>\n",
       "      <td>44141</td>\n",
       "      <td>OH</td>\n",
       "      <td>Brecksville</td>\n",
       "      <td>[Nightlife, American (Traditional), Pubs, Rest...</td>\n",
       "      <td>1</td>\n",
       "    </tr>\n",
       "  </tbody>\n",
       "</table>\n",
       "</div>\n",
       "      <button class=\"colab-df-convert\" onclick=\"convertToInteractive('df-8eec2b7f-724a-4566-92a8-550c4f7d749a')\"\n",
       "              title=\"Convert this dataframe to an interactive table.\"\n",
       "              style=\"display:none;\">\n",
       "        \n",
       "  <svg xmlns=\"http://www.w3.org/2000/svg\" height=\"24px\"viewBox=\"0 0 24 24\"\n",
       "       width=\"24px\">\n",
       "    <path d=\"M0 0h24v24H0V0z\" fill=\"none\"/>\n",
       "    <path d=\"M18.56 5.44l.94 2.06.94-2.06 2.06-.94-2.06-.94-.94-2.06-.94 2.06-2.06.94zm-11 1L8.5 8.5l.94-2.06 2.06-.94-2.06-.94L8.5 2.5l-.94 2.06-2.06.94zm10 10l.94 2.06.94-2.06 2.06-.94-2.06-.94-.94-2.06-.94 2.06-2.06.94z\"/><path d=\"M17.41 7.96l-1.37-1.37c-.4-.4-.92-.59-1.43-.59-.52 0-1.04.2-1.43.59L10.3 9.45l-7.72 7.72c-.78.78-.78 2.05 0 2.83L4 21.41c.39.39.9.59 1.41.59.51 0 1.02-.2 1.41-.59l7.78-7.78 2.81-2.81c.8-.78.8-2.07 0-2.86zM5.41 20L4 18.59l7.72-7.72 1.47 1.35L5.41 20z\"/>\n",
       "  </svg>\n",
       "      </button>\n",
       "      \n",
       "  <style>\n",
       "    .colab-df-container {\n",
       "      display:flex;\n",
       "      flex-wrap:wrap;\n",
       "      gap: 12px;\n",
       "    }\n",
       "\n",
       "    .colab-df-convert {\n",
       "      background-color: #E8F0FE;\n",
       "      border: none;\n",
       "      border-radius: 50%;\n",
       "      cursor: pointer;\n",
       "      display: none;\n",
       "      fill: #1967D2;\n",
       "      height: 32px;\n",
       "      padding: 0 0 0 0;\n",
       "      width: 32px;\n",
       "    }\n",
       "\n",
       "    .colab-df-convert:hover {\n",
       "      background-color: #E2EBFA;\n",
       "      box-shadow: 0px 1px 2px rgba(60, 64, 67, 0.3), 0px 1px 3px 1px rgba(60, 64, 67, 0.15);\n",
       "      fill: #174EA6;\n",
       "    }\n",
       "\n",
       "    [theme=dark] .colab-df-convert {\n",
       "      background-color: #3B4455;\n",
       "      fill: #D2E3FC;\n",
       "    }\n",
       "\n",
       "    [theme=dark] .colab-df-convert:hover {\n",
       "      background-color: #434B5C;\n",
       "      box-shadow: 0px 1px 3px 1px rgba(0, 0, 0, 0.15);\n",
       "      filter: drop-shadow(0px 1px 2px rgba(0, 0, 0, 0.3));\n",
       "      fill: #FFFFFF;\n",
       "    }\n",
       "  </style>\n",
       "\n",
       "      <script>\n",
       "        const buttonEl =\n",
       "          document.querySelector('#df-8eec2b7f-724a-4566-92a8-550c4f7d749a button.colab-df-convert');\n",
       "        buttonEl.style.display =\n",
       "          google.colab.kernel.accessAllowed ? 'block' : 'none';\n",
       "\n",
       "        async function convertToInteractive(key) {\n",
       "          const element = document.querySelector('#df-8eec2b7f-724a-4566-92a8-550c4f7d749a');\n",
       "          const dataTable =\n",
       "            await google.colab.kernel.invokeFunction('convertToInteractive',\n",
       "                                                     [key], {});\n",
       "          if (!dataTable) return;\n",
       "\n",
       "          const docLinkHtml = 'Like what you see? Visit the ' +\n",
       "            '<a target=\"_blank\" href=https://colab.research.google.com/notebooks/data_table.ipynb>data table notebook</a>'\n",
       "            + ' to learn more about interactive tables.';\n",
       "          element.innerHTML = '';\n",
       "          dataTable['output_type'] = 'display_data';\n",
       "          await google.colab.output.renderOutput(dataTable, element);\n",
       "          const docLink = document.createElement('div');\n",
       "          docLink.innerHTML = docLinkHtml;\n",
       "          element.appendChild(docLink);\n",
       "        }\n",
       "      </script>\n",
       "    </div>\n",
       "  </div>\n",
       "  "
      ],
      "text/plain": [
       "                       bid  ...  restaurant\n",
       "31  4P-vTvE6cncJyUyLh73pxw  ...           1\n",
       "32  4P-vTvE6cncJyUyLh73pxw  ...           1\n",
       "33  4P-vTvE6cncJyUyLh73pxw  ...           1\n",
       "34  4P-vTvE6cncJyUyLh73pxw  ...           1\n",
       "35  4P-vTvE6cncJyUyLh73pxw  ...           1\n",
       "\n",
       "[5 rows x 11 columns]"
      ]
     },
     "execution_count": 10,
     "metadata": {},
     "output_type": "execute_result"
    }
   ],
   "source": [
    "#Generate restaurant dataset\n",
    "df_restaurant=df_big.loc[(df_big.restaurant==1)]\n",
    "df_restaurant.head()"
   ]
  },
  {
   "cell_type": "markdown",
   "metadata": {
    "id": "y5-q710OanbN"
   },
   "source": [
    "### Prepare for Data Modeling"
   ]
  },
  {
   "cell_type": "code",
   "execution_count": null,
   "metadata": {
    "colab": {
     "base_uri": "https://localhost:8080/"
    },
    "id": "8Pb7jtAhZBEr",
    "outputId": "bd370fed-ced9-4d46-e5be-2401f18a2e4a"
   },
   "outputs": [
    {
     "name": "stdout",
     "output_type": "stream",
     "text": [
      "Requirement already satisfied: numpy in /usr/local/lib/python3.7/dist-packages (1.19.5)\n",
      "Requirement already satisfied: pandas in /usr/local/lib/python3.7/dist-packages (1.1.5)\n",
      "Requirement already satisfied: python-dateutil>=2.7.3 in /usr/local/lib/python3.7/dist-packages (from pandas) (2.8.2)\n",
      "Requirement already satisfied: pytz>=2017.2 in /usr/local/lib/python3.7/dist-packages (from pandas) (2018.9)\n",
      "Requirement already satisfied: numpy>=1.15.4 in /usr/local/lib/python3.7/dist-packages (from pandas) (1.19.5)\n",
      "Requirement already satisfied: six>=1.5 in /usr/local/lib/python3.7/dist-packages (from python-dateutil>=2.7.3->pandas) (1.15.0)\n",
      "Requirement already satisfied: nltk in /usr/local/lib/python3.7/dist-packages (3.2.5)\n",
      "Requirement already satisfied: six in /usr/local/lib/python3.7/dist-packages (from nltk) (1.15.0)\n",
      "Requirement already satisfied: sklearn in /usr/local/lib/python3.7/dist-packages (0.0)\n",
      "Requirement already satisfied: scikit-learn in /usr/local/lib/python3.7/dist-packages (from sklearn) (1.0.1)\n",
      "Requirement already satisfied: joblib>=0.11 in /usr/local/lib/python3.7/dist-packages (from scikit-learn->sklearn) (1.1.0)\n",
      "Requirement already satisfied: threadpoolctl>=2.0.0 in /usr/local/lib/python3.7/dist-packages (from scikit-learn->sklearn) (3.0.0)\n",
      "Requirement already satisfied: scipy>=1.1.0 in /usr/local/lib/python3.7/dist-packages (from scikit-learn->sklearn) (1.4.1)\n",
      "Requirement already satisfied: numpy>=1.14.6 in /usr/local/lib/python3.7/dist-packages (from scikit-learn->sklearn) (1.19.5)\n",
      "Collecting pyLDAvis\n",
      "  Downloading pyLDAvis-3.3.1.tar.gz (1.7 MB)\n",
      "\u001b[K     |████████████████████████████████| 1.7 MB 7.6 MB/s \n",
      "\u001b[?25h  Installing build dependencies ... \u001b[?25l\u001b[?25hdone\n",
      "  Getting requirements to build wheel ... \u001b[?25l\u001b[?25hdone\n",
      "  Installing backend dependencies ... \u001b[?25l\u001b[?25hdone\n",
      "    Preparing wheel metadata ... \u001b[?25l\u001b[?25hdone\n",
      "Requirement already satisfied: gensim in /usr/local/lib/python3.7/dist-packages (from pyLDAvis) (3.6.0)\n",
      "Collecting pandas>=1.2.0\n",
      "  Downloading pandas-1.3.5-cp37-cp37m-manylinux_2_17_x86_64.manylinux2014_x86_64.whl (11.3 MB)\n",
      "\u001b[K     |████████████████████████████████| 11.3 MB 40.6 MB/s \n",
      "\u001b[?25hCollecting funcy\n",
      "  Downloading funcy-1.16-py2.py3-none-any.whl (32 kB)\n",
      "Requirement already satisfied: setuptools in /usr/local/lib/python3.7/dist-packages (from pyLDAvis) (57.4.0)\n",
      "Requirement already satisfied: scikit-learn in /usr/local/lib/python3.7/dist-packages (from pyLDAvis) (1.0.1)\n",
      "Requirement already satisfied: joblib in /usr/local/lib/python3.7/dist-packages (from pyLDAvis) (1.1.0)\n",
      "Requirement already satisfied: future in /usr/local/lib/python3.7/dist-packages (from pyLDAvis) (0.16.0)\n",
      "Requirement already satisfied: scipy in /usr/local/lib/python3.7/dist-packages (from pyLDAvis) (1.4.1)\n",
      "Requirement already satisfied: jinja2 in /usr/local/lib/python3.7/dist-packages (from pyLDAvis) (2.11.3)\n",
      "Requirement already satisfied: sklearn in /usr/local/lib/python3.7/dist-packages (from pyLDAvis) (0.0)\n",
      "Requirement already satisfied: numexpr in /usr/local/lib/python3.7/dist-packages (from pyLDAvis) (2.7.3)\n",
      "Collecting numpy>=1.20.0\n",
      "  Downloading numpy-1.21.4-cp37-cp37m-manylinux_2_12_x86_64.manylinux2010_x86_64.whl (15.7 MB)\n",
      "\u001b[K     |████████████████████████████████| 15.7 MB 47.4 MB/s \n",
      "\u001b[?25hRequirement already satisfied: pytz>=2017.3 in /usr/local/lib/python3.7/dist-packages (from pandas>=1.2.0->pyLDAvis) (2018.9)\n",
      "Requirement already satisfied: python-dateutil>=2.7.3 in /usr/local/lib/python3.7/dist-packages (from pandas>=1.2.0->pyLDAvis) (2.8.2)\n",
      "Requirement already satisfied: six>=1.5 in /usr/local/lib/python3.7/dist-packages (from python-dateutil>=2.7.3->pandas>=1.2.0->pyLDAvis) (1.15.0)\n",
      "Requirement already satisfied: smart-open>=1.2.1 in /usr/local/lib/python3.7/dist-packages (from gensim->pyLDAvis) (5.2.1)\n",
      "Requirement already satisfied: MarkupSafe>=0.23 in /usr/local/lib/python3.7/dist-packages (from jinja2->pyLDAvis) (2.0.1)\n",
      "Requirement already satisfied: threadpoolctl>=2.0.0 in /usr/local/lib/python3.7/dist-packages (from scikit-learn->pyLDAvis) (3.0.0)\n",
      "Building wheels for collected packages: pyLDAvis\n",
      "  Building wheel for pyLDAvis (PEP 517) ... \u001b[?25l\u001b[?25hdone\n",
      "  Created wheel for pyLDAvis: filename=pyLDAvis-3.3.1-py2.py3-none-any.whl size=136897 sha256=89690878b57acdd97525e13dfadb7af8e24448f236d17c4869b4230002828c6a\n",
      "  Stored in directory: /root/.cache/pip/wheels/c9/21/f6/17bcf2667e8a68532ba2fbf6d5c72fdf4c7f7d9abfa4852d2f\n",
      "Successfully built pyLDAvis\n",
      "Installing collected packages: numpy, pandas, funcy, pyLDAvis\n",
      "  Attempting uninstall: numpy\n",
      "    Found existing installation: numpy 1.19.5\n",
      "    Uninstalling numpy-1.19.5:\n",
      "      Successfully uninstalled numpy-1.19.5\n",
      "  Attempting uninstall: pandas\n",
      "    Found existing installation: pandas 1.1.5\n",
      "    Uninstalling pandas-1.1.5:\n",
      "      Successfully uninstalled pandas-1.1.5\n",
      "\u001b[31mERROR: pip's dependency resolver does not currently take into account all the packages that are installed. This behaviour is the source of the following dependency conflicts.\n",
      "yellowbrick 1.3.post1 requires numpy<1.20,>=1.16.0, but you have numpy 1.21.4 which is incompatible.\n",
      "google-colab 1.0.0 requires pandas~=1.1.0; python_version >= \"3.0\", but you have pandas 1.3.5 which is incompatible.\n",
      "datascience 0.10.6 requires folium==0.2.1, but you have folium 0.8.3 which is incompatible.\n",
      "albumentations 0.1.12 requires imgaug<0.2.7,>=0.2.5, but you have imgaug 0.2.9 which is incompatible.\u001b[0m\n",
      "Successfully installed funcy-1.16 numpy-1.21.4 pandas-1.3.5 pyLDAvis-3.3.1\n"
     ]
    },
    {
     "name": "stderr",
     "output_type": "stream",
     "text": [
      "/usr/local/lib/python3.7/dist-packages/past/types/oldstr.py:5: DeprecationWarning: Using or importing the ABCs from 'collections' instead of from 'collections.abc' is deprecated since Python 3.3,and in 3.9 it will stop working\n",
      "  from collections import Iterable\n",
      "/usr/local/lib/python3.7/dist-packages/past/builtins/misc.py:4: DeprecationWarning: Using or importing the ABCs from 'collections' instead of from 'collections.abc' is deprecated since Python 3.3,and in 3.9 it will stop working\n",
      "  from collections import Mapping\n",
      "/usr/local/lib/python3.7/dist-packages/jsonschema/compat.py:6: DeprecationWarning: Using or importing the ABCs from 'collections' instead of from 'collections.abc' is deprecated since Python 3.3,and in 3.9 it will stop working\n",
      "  from collections import MutableMapping, Sequence  # noqa\n",
      "/usr/local/lib/python3.7/dist-packages/jsonschema/compat.py:6: DeprecationWarning: Using or importing the ABCs from 'collections' instead of from 'collections.abc' is deprecated since Python 3.3,and in 3.9 it will stop working\n",
      "  from collections import MutableMapping, Sequence  # noqa\n"
     ]
    },
    {
     "name": "stdout",
     "output_type": "stream",
     "text": [
      "Collecting html.parser\n",
      "  Downloading html-parser-0.2.tar.gz (904 bytes)\n",
      "Collecting ply\n",
      "  Downloading ply-3.11-py2.py3-none-any.whl (49 kB)\n",
      "\u001b[K     |████████████████████████████████| 49 kB 3.5 MB/s \n",
      "\u001b[?25hBuilding wheels for collected packages: html.parser\n",
      "  Building wheel for html.parser (setup.py) ... \u001b[?25l\u001b[?25hdone\n",
      "  Created wheel for html.parser: filename=html_parser-0.2-py3-none-any.whl size=1328 sha256=302afd1525d98823d12ad2b29470f996388f00c473b96fb189566236794a5996\n",
      "  Stored in directory: /root/.cache/pip/wheels/11/86/38/0554afea46105c70bae8d223c427bba371aa0c83ce88d57b27\n",
      "Successfully built html.parser\n",
      "Installing collected packages: ply, html.parser\n",
      "Successfully installed html.parser-0.2 ply-3.11\n",
      "Collecting pattern3\n",
      "  Downloading pattern3-3.0.0.tar.gz (23.7 MB)\n",
      "\u001b[K     |████████████████████████████████| 23.7 MB 1.2 MB/s \n",
      "\u001b[?25hRequirement already satisfied: beautifulsoup4 in /usr/local/lib/python3.7/dist-packages (from pattern3) (4.6.3)\n",
      "Collecting cherrypy\n",
      "  Downloading CherryPy-18.6.1-py2.py3-none-any.whl (419 kB)\n",
      "\u001b[K     |████████████████████████████████| 419 kB 29.1 MB/s \n",
      "\u001b[?25hCollecting docx\n",
      "  Downloading docx-0.2.4.tar.gz (54 kB)\n",
      "\u001b[K     |████████████████████████████████| 54 kB 3.4 MB/s \n",
      "\u001b[?25hCollecting feedparser\n",
      "  Downloading feedparser-6.0.8-py3-none-any.whl (81 kB)\n",
      "\u001b[K     |████████████████████████████████| 81 kB 8.6 MB/s \n",
      "\u001b[?25hCollecting pdfminer3k\n",
      "  Downloading pdfminer3k-1.3.4-py3-none-any.whl (100 kB)\n",
      "\u001b[K     |████████████████████████████████| 100 kB 7.3 MB/s \n",
      "\u001b[?25hCollecting simplejson\n",
      "  Downloading simplejson-3.17.6-cp37-cp37m-manylinux_2_5_x86_64.manylinux1_x86_64.manylinux_2_12_x86_64.manylinux2010_x86_64.whl (130 kB)\n",
      "\u001b[K     |████████████████████████████████| 130 kB 34.7 MB/s \n",
      "\u001b[?25hCollecting pdfminer.six\n",
      "  Downloading pdfminer.six-20211012-py3-none-any.whl (5.6 MB)\n",
      "\u001b[K     |████████████████████████████████| 5.6 MB 15.8 MB/s \n",
      "\u001b[?25hRequirement already satisfied: more-itertools in /usr/local/lib/python3.7/dist-packages (from cherrypy->pattern3) (8.12.0)\n",
      "Collecting portend>=2.1.1\n",
      "  Downloading portend-3.1.0-py3-none-any.whl (5.3 kB)\n",
      "Collecting zc.lockfile\n",
      "  Downloading zc.lockfile-2.0-py2.py3-none-any.whl (9.7 kB)\n",
      "Collecting jaraco.collections\n",
      "  Downloading jaraco.collections-3.4.0-py3-none-any.whl (10 kB)\n",
      "Collecting cheroot>=8.2.1\n",
      "  Downloading cheroot-8.5.2-py2.py3-none-any.whl (97 kB)\n",
      "\u001b[K     |████████████████████████████████| 97 kB 6.2 MB/s \n",
      "\u001b[?25hRequirement already satisfied: six>=1.11.0 in /usr/local/lib/python3.7/dist-packages (from cheroot>=8.2.1->cherrypy->pattern3) (1.15.0)\n",
      "Collecting jaraco.functools\n",
      "  Downloading jaraco.functools-3.4.0-py3-none-any.whl (6.9 kB)\n",
      "Collecting tempora>=1.8\n",
      "  Downloading tempora-4.1.2-py3-none-any.whl (15 kB)\n",
      "Requirement already satisfied: pytz in /usr/local/lib/python3.7/dist-packages (from tempora>=1.8->portend>=2.1.1->cherrypy->pattern3) (2018.9)\n",
      "Requirement already satisfied: lxml in /usr/local/lib/python3.7/dist-packages (from docx->pattern3) (4.2.6)\n",
      "Requirement already satisfied: Pillow>=2.0 in /usr/local/lib/python3.7/dist-packages (from docx->pattern3) (7.1.2)\n",
      "Collecting sgmllib3k\n",
      "  Downloading sgmllib3k-1.0.0.tar.gz (5.8 kB)\n",
      "Collecting jaraco.text\n",
      "  Downloading jaraco.text-3.6.0-py3-none-any.whl (8.1 kB)\n",
      "Collecting jaraco.classes\n",
      "  Downloading jaraco.classes-3.2.1-py3-none-any.whl (5.6 kB)\n",
      "Requirement already satisfied: importlib-resources in /usr/local/lib/python3.7/dist-packages (from jaraco.text->jaraco.collections->cherrypy->pattern3) (5.4.0)\n",
      "Requirement already satisfied: zipp>=3.1.0 in /usr/local/lib/python3.7/dist-packages (from importlib-resources->jaraco.text->jaraco.collections->cherrypy->pattern3) (3.6.0)\n",
      "Requirement already satisfied: chardet in /usr/local/lib/python3.7/dist-packages (from pdfminer.six->pattern3) (3.0.4)\n",
      "Collecting cryptography\n",
      "  Downloading cryptography-36.0.1-cp36-abi3-manylinux_2_24_x86_64.whl (3.6 MB)\n",
      "\u001b[K     |████████████████████████████████| 3.6 MB 36.4 MB/s \n",
      "\u001b[?25hRequirement already satisfied: cffi>=1.12 in /usr/local/lib/python3.7/dist-packages (from cryptography->pdfminer.six->pattern3) (1.15.0)\n",
      "Requirement already satisfied: pycparser in /usr/local/lib/python3.7/dist-packages (from cffi>=1.12->cryptography->pdfminer.six->pattern3) (2.21)\n",
      "Requirement already satisfied: ply in /usr/local/lib/python3.7/dist-packages (from pdfminer3k->pattern3) (3.11)\n",
      "Requirement already satisfied: setuptools in /usr/local/lib/python3.7/dist-packages (from zc.lockfile->cherrypy->pattern3) (57.4.0)\n",
      "Building wheels for collected packages: pattern3, docx, sgmllib3k\n",
      "  Building wheel for pattern3 (setup.py) ... \u001b[?25l\u001b[?25hdone\n",
      "  Created wheel for pattern3: filename=pattern3-3.0.0-py2.py3-none-any.whl size=18554351 sha256=044c7bb0b0524f6025bbf49e3992c5335e077afa790a1a027e18dcbd7e8bac92\n",
      "  Stored in directory: /root/.cache/pip/wheels/96/6b/e9/a93fc12f8f71cdf14f42e45b54ef9d036fd1f00c0b749762ff\n",
      "  Building wheel for docx (setup.py) ... \u001b[?25l\u001b[?25hdone\n",
      "  Created wheel for docx: filename=docx-0.2.4-py3-none-any.whl size=53924 sha256=e1db2edd04063474976507d48746e85ecc17523b07b13ac384e0003226d68e8b\n",
      "  Stored in directory: /root/.cache/pip/wheels/dc/ac/45/846e21706415c92fc6e0964e343be1eb31cfc63e149dee5fbe\n",
      "  Building wheel for sgmllib3k (setup.py) ... \u001b[?25l\u001b[?25hdone\n",
      "  Created wheel for sgmllib3k: filename=sgmllib3k-1.0.0-py3-none-any.whl size=6065 sha256=3fdaab6f08f90294a86d2540cdd5561d1d0fbe2950f329f027434dbb0c7abf53\n",
      "  Stored in directory: /root/.cache/pip/wheels/73/ad/a4/0dff4a6ef231fc0dfa12ffbac2a36cebfdddfe059f50e019aa\n",
      "Successfully built pattern3 docx sgmllib3k\n",
      "Installing collected packages: jaraco.functools, tempora, jaraco.text, jaraco.classes, zc.lockfile, sgmllib3k, portend, jaraco.collections, cryptography, cheroot, simplejson, pdfminer3k, pdfminer.six, feedparser, docx, cherrypy, pattern3\n",
      "Successfully installed cheroot-8.5.2 cherrypy-18.6.1 cryptography-36.0.1 docx-0.2.4 feedparser-6.0.8 jaraco.classes-3.2.1 jaraco.collections-3.4.0 jaraco.functools-3.4.0 jaraco.text-3.6.0 pattern3-3.0.0 pdfminer.six-20211012 pdfminer3k-1.3.4 portend-3.1.0 sgmllib3k-1.0.0 simplejson-3.17.6 tempora-4.1.2 zc.lockfile-2.0\n",
      "Requirement already satisfied: pyLDAvis in /usr/local/lib/python3.7/dist-packages (3.3.1)\n",
      "Requirement already satisfied: sklearn in /usr/local/lib/python3.7/dist-packages (from pyLDAvis) (0.0)\n",
      "Requirement already satisfied: gensim in /usr/local/lib/python3.7/dist-packages (from pyLDAvis) (3.6.0)\n",
      "Requirement already satisfied: funcy in /usr/local/lib/python3.7/dist-packages (from pyLDAvis) (1.16)\n",
      "Requirement already satisfied: setuptools in /usr/local/lib/python3.7/dist-packages (from pyLDAvis) (57.4.0)\n",
      "Requirement already satisfied: jinja2 in /usr/local/lib/python3.7/dist-packages (from pyLDAvis) (2.11.3)\n",
      "Requirement already satisfied: numexpr in /usr/local/lib/python3.7/dist-packages (from pyLDAvis) (2.7.3)\n",
      "Requirement already satisfied: pandas>=1.2.0 in /usr/local/lib/python3.7/dist-packages (from pyLDAvis) (1.3.5)\n",
      "Requirement already satisfied: scipy in /usr/local/lib/python3.7/dist-packages (from pyLDAvis) (1.4.1)\n",
      "Requirement already satisfied: joblib in /usr/local/lib/python3.7/dist-packages (from pyLDAvis) (1.1.0)\n",
      "Requirement already satisfied: scikit-learn in /usr/local/lib/python3.7/dist-packages (from pyLDAvis) (1.0.1)\n",
      "Requirement already satisfied: numpy>=1.20.0 in /usr/local/lib/python3.7/dist-packages (from pyLDAvis) (1.21.4)\n",
      "Requirement already satisfied: future in /usr/local/lib/python3.7/dist-packages (from pyLDAvis) (0.16.0)\n",
      "Requirement already satisfied: pytz>=2017.3 in /usr/local/lib/python3.7/dist-packages (from pandas>=1.2.0->pyLDAvis) (2018.9)\n",
      "Requirement already satisfied: python-dateutil>=2.7.3 in /usr/local/lib/python3.7/dist-packages (from pandas>=1.2.0->pyLDAvis) (2.8.2)\n",
      "Requirement already satisfied: six>=1.5 in /usr/local/lib/python3.7/dist-packages (from python-dateutil>=2.7.3->pandas>=1.2.0->pyLDAvis) (1.15.0)\n",
      "Requirement already satisfied: smart-open>=1.2.1 in /usr/local/lib/python3.7/dist-packages (from gensim->pyLDAvis) (5.2.1)\n",
      "Requirement already satisfied: MarkupSafe>=0.23 in /usr/local/lib/python3.7/dist-packages (from jinja2->pyLDAvis) (2.0.1)\n",
      "Requirement already satisfied: threadpoolctl>=2.0.0 in /usr/local/lib/python3.7/dist-packages (from scikit-learn->pyLDAvis) (3.0.0)\n",
      "[nltk_data] Downloading package stopwords to /root/nltk_data...\n",
      "[nltk_data]   Unzipping corpora/stopwords.zip.\n",
      "[nltk_data] Downloading package punkt to /root/nltk_data...\n",
      "[nltk_data]   Unzipping tokenizers/punkt.zip.\n",
      "Original:   <p>The circus dog in a plissé skirt jumped over Python who wasn't that large, just 3 feet long.</p>\n",
      "Processed:  ['<', 'p', '>', 'The', 'circus', 'dog', 'in', 'a', 'plissé', 'skirt', 'jumped', 'over', 'Python', 'who', 'was', \"n't\", 'that', 'large', ',', 'just', '3', 'feet', 'long.', '<', '/p', '>']\n",
      "Original:   <p>The circus dog in a plissé skirt jumped over Python who wasn't that large, just 3 feet long.</p>\n",
      "Processed:  <p>The circus dog in a plissé skirt jumped over Python who was not that large, just 3 feet long.</p>\n",
      "[nltk_data] Downloading package averaged_perceptron_tagger to\n",
      "[nltk_data]     /root/nltk_data...\n",
      "[nltk_data]   Unzipping taggers/averaged_perceptron_tagger.zip.\n",
      "[nltk_data] Downloading package wordnet to /root/nltk_data...\n",
      "[nltk_data]   Unzipping corpora/wordnet.zip.\n",
      "Original:   <p>The circus dog in a plissé skirt jumped over Python who wasn't that large, just 3 feet long.</p>\n",
      "Processed:  [('<', 'a'), ('p', 'n'), ('>', 'v'), ('the', None), ('circus', 'n'), ('dog', 'n'), ('in', None), ('a', None), ('plissé', 'n'), ('skirt', 'n'), ('jumped', 'v'), ('over', None), ('python', 'n'), ('who', None), ('was', 'v'), (\"n't\", 'r'), ('that', None), ('large', 'a'), (',', None), ('just', 'r'), ('3', None), ('feet', 'n'), ('long.', 'a'), ('<', 'n'), ('/p', 'n'), ('>', 'n')]\n",
      "Original:   <p>The circus dog in a plissé skirt jumped over Python who wasn't that large, just 3 feet long.</p>\n",
      "Processed:  < p > the circus dog in a plissé skirt jump over python who be n't that large , just 3 foot long. < /p >\n",
      "Original:   <p>The circus dog in a plissé skirt jumped over Python who wasn't that large, just 3 feet long.</p>\n",
      "Processed:    p   The circus dog in a plissé skirt jumped over Python who was n t that large   just 3 feet long     p  \n",
      "Original:   <p>The circus dog in a plissé skirt jumped over Python who wasn't that large, just 3 feet long.</p>\n",
      "Processed:  < p > The circus dog plissé skirt jumped Python n't large , 3 feet long. < /p >\n",
      "Original:   <p>The circus dog in a plissé skirt jumped over Python who wasn't that large, just 3 feet long.</p>\n",
      "Processed:  p The circus dog in a plissé skirt jumped over Python who was n't that large just feet long. /p\n",
      "Original:   <p>The circus dog in a plissé skirt jumped over Python who wasn't that large, just 3 feet long.</p>\n",
      "Processed:  The circus dog in a plissé skirt jumped over Python who wasn't that large, just 3 feet long.\n",
      "Original:   <p>The circus dog in a plissé skirt jumped over Python who wasn't that large, just 3 feet long.</p>\n",
      "Processed:  <p>The circus dog in a plisse skirt jumped over Python who wasn't that large, just 3 feet long.</p>\n"
     ]
    }
   ],
   "source": [
    "#the module 'sys' allows istalling module from inside Jupyter\n",
    "import sys\n",
    "\n",
    "!{sys.executable} -m pip install numpy\n",
    "import numpy as np\n",
    "\n",
    "!{sys.executable} -m pip install pandas\n",
    "import pandas as pd\n",
    "\n",
    "#Natrual Language ToolKit (NLTK)\n",
    "!{sys.executable} -m pip install nltk\n",
    "import nltk\n",
    "\n",
    "!{sys.executable} -m pip install sklearn\n",
    "from sklearn import metrics\n",
    "#from sklearn.model_selection import GridSearchCV\n",
    "from sklearn.feature_extraction.text import  CountVectorizer #bag-of-words vectorizer \n",
    "from sklearn.decomposition import LatentDirichletAllocation #package for LDA\n",
    "\n",
    "# Plotting tools\n",
    "\n",
    "from pprint import pprint\n",
    "!{sys.executable} -m pip install pyLDAvis #visualizing LDA\n",
    "import pyLDAvis\n",
    "import pyLDAvis.sklearn\n",
    "\n",
    "import matplotlib.pyplot as plt\n",
    "%matplotlib inline\n",
    "\n",
    "#define text normalization function\n",
    "%run ./Text_Normalization_Function.ipynb #defining text normalization function\n",
    "\n",
    "#ignore warnings about future changes in functions as they take too much space\n",
    "import warnings\n",
    "warnings.simplefilter(action='ignore', category=FutureWarning)\n",
    "warnings.filterwarnings(\"ignore\", category=DeprecationWarning)"
   ]
  },
  {
   "cell_type": "code",
   "execution_count": null,
   "metadata": {
    "colab": {
     "base_uri": "https://localhost:8080/"
    },
    "id": "52YWgzQEdgAs",
    "outputId": "9a74930e-8b2c-445f-d2b3-0f571e36a9b8"
   },
   "outputs": [
    {
     "name": "stdout",
     "output_type": "stream",
     "text": [
      "Requirement already satisfied: gensim in /usr/local/lib/python3.7/dist-packages (3.6.0)\n",
      "Requirement already satisfied: smart-open>=1.2.1 in /usr/local/lib/python3.7/dist-packages (from gensim) (5.2.1)\n",
      "Requirement already satisfied: numpy>=1.11.3 in /usr/local/lib/python3.7/dist-packages (from gensim) (1.21.4)\n",
      "Requirement already satisfied: scipy>=0.18.1 in /usr/local/lib/python3.7/dist-packages (from gensim) (1.4.1)\n",
      "Requirement already satisfied: six>=1.5.0 in /usr/local/lib/python3.7/dist-packages (from gensim) (1.15.0)\n"
     ]
    }
   ],
   "source": [
    "!{sys.executable} -m pip install gensim\n",
    "import gensim\n",
    "\n",
    "from gensim.models.coherencemodel import CoherenceModel\n",
    "from gensim.corpora.dictionary import Dictionary"
   ]
  },
  {
   "cell_type": "code",
   "execution_count": null,
   "metadata": {
    "id": "CcAKsqx5Zisj"
   },
   "outputs": [],
   "source": [
    "def display_topics(model, feature_names, no_top_words):\n",
    "    for topic_idx, topic in enumerate(model.components_):\n",
    "        print(\"Topic %d:\" % (topic_idx))\n",
    "        print(\" \".join([feature_names[i]\n",
    "                        for i in topic.argsort()[:-no_top_words - 1:-1]]))\n",
    "        \n",
    "def get_topic_words(vectorizer, lda_model, n_words):\n",
    "    keywords = np.array(vectorizer.get_feature_names())\n",
    "    topic_words = []\n",
    "    for topic_weights in lda_model.components_:\n",
    "        top_word_locs = (-topic_weights).argsort()[:n_words]\n",
    "        topic_words.append(keywords.take(top_word_locs).tolist())\n",
    "    return topic_words"
   ]
  },
  {
   "cell_type": "code",
   "execution_count": null,
   "metadata": {
    "id": "OKnQee-dsjW2"
   },
   "outputs": [],
   "source": [
    "# Define Bag-of-Words vecgtorizer, vectorize data, and word-weights dataframe\n",
    "def get_word_weights(normalized_reviews,numTopic,numTopWords,doc_topic_prior=0.25,topic_word_prior=0.25):\n",
    "  bow_vectorizer = CountVectorizer(max_features=1000)\n",
    "  bow = bow_vectorizer.fit_transform(normalized_reviews)\n",
    "  lda=LatentDirichletAllocation(n_components=numTopic, max_iter=100,doc_topic_prior = doc_topic_prior,topic_word_prior = topic_word_prior).fit(bow)\n",
    "  print(\"Log-Likelihood (higher values are better): \", lda.score(bow))\n",
    "  print(\"Perplexity (lower values are better): \", lda.perplexity(bow))\n",
    "  no_top_words = numTopWords\n",
    "  #display_topics(lda, bow_vectorizer.get_feature_names(), no_top_words)\n",
    "  word_weights = lda.components_ / lda.components_.sum(axis=1)[:, np.newaxis]\n",
    "  return(pd.DataFrame(word_weights.T,index = bow_vectorizer.get_feature_names(),columns = [\"Topic_\" + str(i) for i in range(numTopic)]))\n"
   ]
  },
  {
   "cell_type": "markdown",
   "metadata": {
    "id": "Ob8jg0Bbaxal"
   },
   "source": [
    "# Topic Modeling"
   ]
  },
  {
   "cell_type": "markdown",
   "metadata": {
    "id": "8kxDf8zFHzpQ"
   },
   "source": [
    "## Consider data in the most recent year--2017"
   ]
  },
  {
   "cell_type": "code",
   "execution_count": null,
   "metadata": {
    "id": "MYpVDGVnaAqk"
   },
   "outputs": [],
   "source": [
    "# Generate Normalized Dataset\n",
    "r_reviews=df_restaurant[\"reviews\"].loc[df_restaurant.year>=2017]\n",
    "normalized_reviews=normalize_corpus(r_reviews)"
   ]
  },
  {
   "cell_type": "markdown",
   "metadata": {
    "id": "LrIQCQnrIJhf"
   },
   "source": [
    "### Transform reviews into 3 topics and look for what consumers care about"
   ]
  },
  {
   "cell_type": "code",
   "execution_count": null,
   "metadata": {
    "colab": {
     "base_uri": "https://localhost:8080/"
    },
    "id": "GTCi8Z6tm-Bg",
    "outputId": "e796e9b9-a164-46eb-bc0f-df491ec66fa9"
   },
   "outputs": [
    {
     "name": "stdout",
     "output_type": "stream",
     "text": [
      "Log-Likelihood (higher values are better):  -7996002.451706701\n",
      "Perplexity (lower values are better):  522.3011982880071\n",
      "Topic: 0\n",
      "good       0.022201\n",
      "chicken    0.018175\n",
      "order      0.017107\n",
      "like       0.015454\n",
      "sauce      0.012143\n",
      "dish       0.011514\n",
      "taste      0.011373\n",
      "fry        0.010811\n",
      "salad      0.009972\n",
      "cheese     0.009382\n",
      "Name: Topic_0, dtype: float64\n",
      " \n",
      "Topic: 1\n",
      "order      0.022889\n",
      "food       0.022401\n",
      "time       0.019699\n",
      "us         0.016539\n",
      "wait       0.014577\n",
      "take       0.014412\n",
      "table      0.012323\n",
      "service    0.011657\n",
      "place      0.010312\n",
      "like       0.009927\n",
      "Name: Topic_1, dtype: float64\n",
      " \n",
      "Topic: 2\n",
      "great        0.043667\n",
      "food         0.040965\n",
      "place        0.036428\n",
      "good         0.027239\n",
      "service      0.024376\n",
      "love         0.017454\n",
      "best         0.014948\n",
      "friendly     0.014227\n",
      "always       0.013389\n",
      "delicious    0.011894\n",
      "Name: Topic_2, dtype: float64\n",
      " \n"
     ]
    }
   ],
   "source": [
    "# Look for 3 topics and corresponding 10 most frequent words\n",
    "\n",
    "word_weights_df=get_word_weights(normalized_reviews,3,10,0.5,0.5)\n",
    "for i in range(3):\n",
    "  print(\"Topic:\",i)\n",
    "  print(word_weights_df.iloc[:,i].sort_values(ascending=False).head(10))\n",
    "  print(\" \")\n"
   ]
  },
  {
   "cell_type": "code",
   "execution_count": null,
   "metadata": {
    "colab": {
     "base_uri": "https://localhost:8080/"
    },
    "id": "bAELFP2sCg4v",
    "outputId": "95280e92-f314-4c11-d7c3-896638317500"
   },
   "outputs": [
    {
     "name": "stdout",
     "output_type": "stream",
     "text": [
      "Log-Likelihood (higher values are better):  -7996382.044080114\n",
      "Perplexity (lower values are better):  522.4563950366223\n",
      "Topic: 0\n",
      "order      0.028216\n",
      "food       0.024436\n",
      "time       0.022238\n",
      "us         0.019896\n",
      "take       0.017728\n",
      "wait       0.016466\n",
      "service    0.012818\n",
      "table      0.012458\n",
      "give       0.011629\n",
      "even       0.010583\n",
      "Name: Topic_0, dtype: float64\n",
      " \n",
      "Topic: 1\n",
      "good      0.031193\n",
      "place     0.024803\n",
      "like      0.015852\n",
      "menu      0.013406\n",
      "really    0.012121\n",
      "bar       0.011791\n",
      "food      0.011590\n",
      "drink     0.011260\n",
      "nice      0.010686\n",
      "pretty    0.010277\n",
      "Name: Topic_1, dtype: float64\n",
      " \n",
      "Topic: 2\n",
      "great        0.058047\n",
      "food         0.054009\n",
      "place        0.038154\n",
      "service      0.033453\n",
      "love         0.026123\n",
      "best         0.022509\n",
      "good         0.021056\n",
      "always       0.020057\n",
      "friendly     0.018452\n",
      "delicious    0.018414\n",
      "Name: Topic_2, dtype: float64\n",
      " \n",
      "Topic: 3\n",
      "chicken    0.022823\n",
      "order      0.020684\n",
      "good       0.020637\n",
      "sauce      0.015249\n",
      "like       0.014304\n",
      "fry        0.013576\n",
      "dish       0.012494\n",
      "taste      0.012032\n",
      "cheese     0.011781\n",
      "salad      0.011286\n",
      "Name: Topic_3, dtype: float64\n",
      " \n"
     ]
    }
   ],
   "source": [
    "# Look for 4 topics and corresponding 10 most frequent words\n",
    "\n",
    "word_weights_df=get_word_weights(normalized_reviews,4,10,0.5,0.5)\n",
    "for i in range(4):\n",
    "  print(\"Topic:\",i)\n",
    "  print(word_weights_df.iloc[:,i].sort_values(ascending=False).head(10))\n",
    "  print(\" \")"
   ]
  },
  {
   "cell_type": "code",
   "execution_count": null,
   "metadata": {
    "colab": {
     "base_uri": "https://localhost:8080/",
     "height": 72
    },
    "id": "ez3ICzAkmOyX",
    "outputId": "3c7c1068-e7a6-4f73-d997-ede5bc69360c"
   },
   "outputs": [
    {
     "data": {
      "application/vnd.google.colaboratory.intrinsic+json": {
       "type": "string"
      },
      "text/plain": [
       "'\\n!pip install --upgrade pandas==1.2\\n#prepare to display result in the Jupyter notebook\\npyLDAvis.enable_notebook()\\n\\n#run the visualization [mds is a function to use for visualizing the \"distance\" between topics]\\npyLDAvis.sklearn.prepare(lda, bow, bow_vectorizer, mds=\\'tsne\\')\\n'"
      ]
     },
     "execution_count": 25,
     "metadata": {},
     "output_type": "execute_result"
    }
   ],
   "source": [
    "'''\n",
    "!pip install --upgrade pandas==1.2\n",
    "#prepare to display result in the Jupyter notebook\n",
    "pyLDAvis.enable_notebook()\n",
    "\n",
    "#run the visualization [mds is a function to use for visualizing the \"distance\" between topics]\n",
    "pyLDAvis.sklearn.prepare(lda, bow, bow_vectorizer, mds='tsne')\n",
    "'''"
   ]
  },
  {
   "cell_type": "markdown",
   "metadata": {
    "id": "U74CJXKy8wyL"
   },
   "source": [
    "## Hoping to focus on most popular city--Las Vegas in 2017"
   ]
  },
  {
   "cell_type": "code",
   "execution_count": null,
   "metadata": {
    "colab": {
     "base_uri": "https://localhost:8080/",
     "height": 641
    },
    "id": "F5A6QemH80OP",
    "outputId": "695f804a-5728-42ed-ffc4-45eb48c749a3"
   },
   "outputs": [
    {
     "data": {
      "text/html": [
       "\n",
       "  <div id=\"df-08f1b484-2a80-4e4c-b437-92dd77a9f03d\">\n",
       "    <div class=\"colab-df-container\">\n",
       "      <div>\n",
       "<style scoped>\n",
       "    .dataframe tbody tr th:only-of-type {\n",
       "        vertical-align: middle;\n",
       "    }\n",
       "\n",
       "    .dataframe tbody tr th {\n",
       "        vertical-align: top;\n",
       "    }\n",
       "\n",
       "    .dataframe thead th {\n",
       "        text-align: right;\n",
       "    }\n",
       "</style>\n",
       "<table border=\"1\" class=\"dataframe\">\n",
       "  <thead>\n",
       "    <tr style=\"text-align: right;\">\n",
       "      <th></th>\n",
       "      <th>bid</th>\n",
       "      <th>stars</th>\n",
       "      <th>reviews</th>\n",
       "      <th>date</th>\n",
       "      <th>useful</th>\n",
       "      <th>year</th>\n",
       "      <th>postal_code</th>\n",
       "      <th>state</th>\n",
       "      <th>city</th>\n",
       "      <th>categories</th>\n",
       "      <th>restaurant</th>\n",
       "    </tr>\n",
       "  </thead>\n",
       "  <tbody>\n",
       "    <tr>\n",
       "      <th>127057</th>\n",
       "      <td>A0X1baHPgw9IiBRivu0G9g</td>\n",
       "      <td>5</td>\n",
       "      <td>I've been coming here for about 5 years now an...</td>\n",
       "      <td>2017-01-06</td>\n",
       "      <td>0</td>\n",
       "      <td>2017</td>\n",
       "      <td>89117</td>\n",
       "      <td>NV</td>\n",
       "      <td>Las Vegas</td>\n",
       "      <td>[French, Food, Bakeries, Restaurants]</td>\n",
       "      <td>1</td>\n",
       "    </tr>\n",
       "    <tr>\n",
       "      <th>127098</th>\n",
       "      <td>A0X1baHPgw9IiBRivu0G9g</td>\n",
       "      <td>5</td>\n",
       "      <td>This is the best kept secret in Las Vegas. Ev ...</td>\n",
       "      <td>2017-01-04</td>\n",
       "      <td>1</td>\n",
       "      <td>2017</td>\n",
       "      <td>89117</td>\n",
       "      <td>NV</td>\n",
       "      <td>Las Vegas</td>\n",
       "      <td>[French, Food, Bakeries, Restaurants]</td>\n",
       "      <td>1</td>\n",
       "    </tr>\n",
       "    <tr>\n",
       "      <th>127183</th>\n",
       "      <td>A0X1baHPgw9IiBRivu0G9g</td>\n",
       "      <td>4</td>\n",
       "      <td>We continued our tour of Las Vegas Macarons at...</td>\n",
       "      <td>2017-01-10</td>\n",
       "      <td>0</td>\n",
       "      <td>2017</td>\n",
       "      <td>89117</td>\n",
       "      <td>NV</td>\n",
       "      <td>Las Vegas</td>\n",
       "      <td>[French, Food, Bakeries, Restaurants]</td>\n",
       "      <td>1</td>\n",
       "    </tr>\n",
       "    <tr>\n",
       "      <th>130126</th>\n",
       "      <td>e0JOkQYz_cnz91k6X55PLw</td>\n",
       "      <td>5</td>\n",
       "      <td>Very good Italian food and ever better service...</td>\n",
       "      <td>2017-01-13</td>\n",
       "      <td>1</td>\n",
       "      <td>2017</td>\n",
       "      <td>89109</td>\n",
       "      <td>NV</td>\n",
       "      <td>Las Vegas</td>\n",
       "      <td>[Italian, Restaurants]</td>\n",
       "      <td>1</td>\n",
       "    </tr>\n",
       "    <tr>\n",
       "      <th>130349</th>\n",
       "      <td>e0JOkQYz_cnz91k6X55PLw</td>\n",
       "      <td>5</td>\n",
       "      <td>We came to Sinatra to celebrate our 40th weddi...</td>\n",
       "      <td>2017-01-15</td>\n",
       "      <td>1</td>\n",
       "      <td>2017</td>\n",
       "      <td>89109</td>\n",
       "      <td>NV</td>\n",
       "      <td>Las Vegas</td>\n",
       "      <td>[Italian, Restaurants]</td>\n",
       "      <td>1</td>\n",
       "    </tr>\n",
       "    <tr>\n",
       "      <th>...</th>\n",
       "      <td>...</td>\n",
       "      <td>...</td>\n",
       "      <td>...</td>\n",
       "      <td>...</td>\n",
       "      <td>...</td>\n",
       "      <td>...</td>\n",
       "      <td>...</td>\n",
       "      <td>...</td>\n",
       "      <td>...</td>\n",
       "      <td>...</td>\n",
       "      <td>...</td>\n",
       "    </tr>\n",
       "    <tr>\n",
       "      <th>4150386</th>\n",
       "      <td>QJR4qBUHegWEozSQrGmBPw</td>\n",
       "      <td>5</td>\n",
       "      <td>Olives is always a mainstay when I go to Vegas...</td>\n",
       "      <td>2017-01-14</td>\n",
       "      <td>2</td>\n",
       "      <td>2017</td>\n",
       "      <td>89109</td>\n",
       "      <td>NV</td>\n",
       "      <td>Las Vegas</td>\n",
       "      <td>[Bars, American (New), Restaurants, Nightlife,...</td>\n",
       "      <td>1</td>\n",
       "    </tr>\n",
       "    <tr>\n",
       "      <th>4150429</th>\n",
       "      <td>QJR4qBUHegWEozSQrGmBPw</td>\n",
       "      <td>5</td>\n",
       "      <td>I had very high expectations for this place, a...</td>\n",
       "      <td>2017-01-16</td>\n",
       "      <td>0</td>\n",
       "      <td>2017</td>\n",
       "      <td>89109</td>\n",
       "      <td>NV</td>\n",
       "      <td>Las Vegas</td>\n",
       "      <td>[Bars, American (New), Restaurants, Nightlife,...</td>\n",
       "      <td>1</td>\n",
       "    </tr>\n",
       "    <tr>\n",
       "      <th>4152180</th>\n",
       "      <td>7qFtiPg0gdbk911_mj6LoA</td>\n",
       "      <td>5</td>\n",
       "      <td>Excellent food and service.  Same ownership as...</td>\n",
       "      <td>2017-01-16</td>\n",
       "      <td>0</td>\n",
       "      <td>2017</td>\n",
       "      <td>89121</td>\n",
       "      <td>NV</td>\n",
       "      <td>Las Vegas</td>\n",
       "      <td>[Steakhouses, Restaurants, Seafood, Buffets]</td>\n",
       "      <td>1</td>\n",
       "    </tr>\n",
       "    <tr>\n",
       "      <th>4152416</th>\n",
       "      <td>fXSOxjL7FP_sVew1gXnOIw</td>\n",
       "      <td>3</td>\n",
       "      <td>Not the best pizza I've ever had, but it'll do...</td>\n",
       "      <td>2017-01-04</td>\n",
       "      <td>26</td>\n",
       "      <td>2017</td>\n",
       "      <td>89109</td>\n",
       "      <td>NV</td>\n",
       "      <td>Las Vegas</td>\n",
       "      <td>[Restaurants, Pizza]</td>\n",
       "      <td>1</td>\n",
       "    </tr>\n",
       "    <tr>\n",
       "      <th>4152809</th>\n",
       "      <td>Z0o7EnCj3fgzC7E3QRabhQ</td>\n",
       "      <td>5</td>\n",
       "      <td>This is in the Palace Station.  The food is ou...</td>\n",
       "      <td>2017-01-10</td>\n",
       "      <td>0</td>\n",
       "      <td>2017</td>\n",
       "      <td>89102</td>\n",
       "      <td>NV</td>\n",
       "      <td>Las Vegas</td>\n",
       "      <td>[Pizza, Restaurants, Italian]</td>\n",
       "      <td>1</td>\n",
       "    </tr>\n",
       "  </tbody>\n",
       "</table>\n",
       "<p>10727 rows × 11 columns</p>\n",
       "</div>\n",
       "      <button class=\"colab-df-convert\" onclick=\"convertToInteractive('df-08f1b484-2a80-4e4c-b437-92dd77a9f03d')\"\n",
       "              title=\"Convert this dataframe to an interactive table.\"\n",
       "              style=\"display:none;\">\n",
       "        \n",
       "  <svg xmlns=\"http://www.w3.org/2000/svg\" height=\"24px\"viewBox=\"0 0 24 24\"\n",
       "       width=\"24px\">\n",
       "    <path d=\"M0 0h24v24H0V0z\" fill=\"none\"/>\n",
       "    <path d=\"M18.56 5.44l.94 2.06.94-2.06 2.06-.94-2.06-.94-.94-2.06-.94 2.06-2.06.94zm-11 1L8.5 8.5l.94-2.06 2.06-.94-2.06-.94L8.5 2.5l-.94 2.06-2.06.94zm10 10l.94 2.06.94-2.06 2.06-.94-2.06-.94-.94-2.06-.94 2.06-2.06.94z\"/><path d=\"M17.41 7.96l-1.37-1.37c-.4-.4-.92-.59-1.43-.59-.52 0-1.04.2-1.43.59L10.3 9.45l-7.72 7.72c-.78.78-.78 2.05 0 2.83L4 21.41c.39.39.9.59 1.41.59.51 0 1.02-.2 1.41-.59l7.78-7.78 2.81-2.81c.8-.78.8-2.07 0-2.86zM5.41 20L4 18.59l7.72-7.72 1.47 1.35L5.41 20z\"/>\n",
       "  </svg>\n",
       "      </button>\n",
       "      \n",
       "  <style>\n",
       "    .colab-df-container {\n",
       "      display:flex;\n",
       "      flex-wrap:wrap;\n",
       "      gap: 12px;\n",
       "    }\n",
       "\n",
       "    .colab-df-convert {\n",
       "      background-color: #E8F0FE;\n",
       "      border: none;\n",
       "      border-radius: 50%;\n",
       "      cursor: pointer;\n",
       "      display: none;\n",
       "      fill: #1967D2;\n",
       "      height: 32px;\n",
       "      padding: 0 0 0 0;\n",
       "      width: 32px;\n",
       "    }\n",
       "\n",
       "    .colab-df-convert:hover {\n",
       "      background-color: #E2EBFA;\n",
       "      box-shadow: 0px 1px 2px rgba(60, 64, 67, 0.3), 0px 1px 3px 1px rgba(60, 64, 67, 0.15);\n",
       "      fill: #174EA6;\n",
       "    }\n",
       "\n",
       "    [theme=dark] .colab-df-convert {\n",
       "      background-color: #3B4455;\n",
       "      fill: #D2E3FC;\n",
       "    }\n",
       "\n",
       "    [theme=dark] .colab-df-convert:hover {\n",
       "      background-color: #434B5C;\n",
       "      box-shadow: 0px 1px 3px 1px rgba(0, 0, 0, 0.15);\n",
       "      filter: drop-shadow(0px 1px 2px rgba(0, 0, 0, 0.3));\n",
       "      fill: #FFFFFF;\n",
       "    }\n",
       "  </style>\n",
       "\n",
       "      <script>\n",
       "        const buttonEl =\n",
       "          document.querySelector('#df-08f1b484-2a80-4e4c-b437-92dd77a9f03d button.colab-df-convert');\n",
       "        buttonEl.style.display =\n",
       "          google.colab.kernel.accessAllowed ? 'block' : 'none';\n",
       "\n",
       "        async function convertToInteractive(key) {\n",
       "          const element = document.querySelector('#df-08f1b484-2a80-4e4c-b437-92dd77a9f03d');\n",
       "          const dataTable =\n",
       "            await google.colab.kernel.invokeFunction('convertToInteractive',\n",
       "                                                     [key], {});\n",
       "          if (!dataTable) return;\n",
       "\n",
       "          const docLinkHtml = 'Like what you see? Visit the ' +\n",
       "            '<a target=\"_blank\" href=https://colab.research.google.com/notebooks/data_table.ipynb>data table notebook</a>'\n",
       "            + ' to learn more about interactive tables.';\n",
       "          element.innerHTML = '';\n",
       "          dataTable['output_type'] = 'display_data';\n",
       "          await google.colab.output.renderOutput(dataTable, element);\n",
       "          const docLink = document.createElement('div');\n",
       "          docLink.innerHTML = docLinkHtml;\n",
       "          element.appendChild(docLink);\n",
       "        }\n",
       "      </script>\n",
       "    </div>\n",
       "  </div>\n",
       "  "
      ],
      "text/plain": [
       "                            bid  ...  restaurant\n",
       "127057   A0X1baHPgw9IiBRivu0G9g  ...           1\n",
       "127098   A0X1baHPgw9IiBRivu0G9g  ...           1\n",
       "127183   A0X1baHPgw9IiBRivu0G9g  ...           1\n",
       "130126   e0JOkQYz_cnz91k6X55PLw  ...           1\n",
       "130349   e0JOkQYz_cnz91k6X55PLw  ...           1\n",
       "...                         ...  ...         ...\n",
       "4150386  QJR4qBUHegWEozSQrGmBPw  ...           1\n",
       "4150429  QJR4qBUHegWEozSQrGmBPw  ...           1\n",
       "4152180  7qFtiPg0gdbk911_mj6LoA  ...           1\n",
       "4152416  fXSOxjL7FP_sVew1gXnOIw  ...           1\n",
       "4152809  Z0o7EnCj3fgzC7E3QRabhQ  ...           1\n",
       "\n",
       "[10727 rows x 11 columns]"
      ]
     },
     "execution_count": 24,
     "metadata": {},
     "output_type": "execute_result"
    }
   ],
   "source": [
    "df_restaurant_lv=df_restaurant[(df_restaurant.city==\"Las Vegas\")&(df_restaurant.year==2017)]\n",
    "df_restaurant_lv"
   ]
  },
  {
   "cell_type": "code",
   "execution_count": null,
   "metadata": {
    "id": "xtLKYVEr9H1q"
   },
   "outputs": [],
   "source": [
    "normalized_reviews_lv=normalize_corpus(df_restaurant_lv.reviews)"
   ]
  },
  {
   "cell_type": "code",
   "execution_count": null,
   "metadata": {
    "colab": {
     "base_uri": "https://localhost:8080/"
    },
    "id": "Bz479e65Ck1S",
    "outputId": "0bb93942-a895-4f31-eccb-4c0ed6dd06b4"
   },
   "outputs": [
    {
     "name": "stdout",
     "output_type": "stream",
     "text": [
      "Log-Likelihood (higher values are better):  -2495043.509542076\n",
      "Perplexity (lower values are better):  526.8367989754469\n",
      "Topic: 0\n",
      "food        0.042719\n",
      "great       0.042303\n",
      "place       0.037267\n",
      "service     0.027785\n",
      "good        0.025824\n",
      "vega        0.019953\n",
      "best        0.017399\n",
      "love        0.016169\n",
      "friendly    0.013431\n",
      "always      0.012207\n",
      "Name: Topic_0, dtype: float64\n",
      " \n",
      "Topic: 1\n",
      "order      0.020573\n",
      "food       0.020190\n",
      "us         0.018181\n",
      "time       0.017410\n",
      "take       0.014720\n",
      "wait       0.014326\n",
      "table      0.011878\n",
      "like       0.010751\n",
      "service    0.010416\n",
      "place      0.010361\n",
      "Name: Topic_1, dtype: float64\n",
      " \n",
      "Topic: 2\n",
      "good       0.023019\n",
      "order      0.018362\n",
      "chicken    0.017086\n",
      "like       0.014419\n",
      "sauce      0.011533\n",
      "taste      0.010792\n",
      "fry        0.010718\n",
      "dish       0.010648\n",
      "really     0.009256\n",
      "flavor     0.008954\n",
      "Name: Topic_2, dtype: float64\n",
      " \n"
     ]
    }
   ],
   "source": [
    "word_weights_df=get_word_weights(normalized_reviews_lv,3,10,0.5,0.5)\n",
    "for i in range(3):\n",
    "  print(\"Topic:\",i)\n",
    "  print(word_weights_df.iloc[:,i].sort_values(ascending=False).head(10))\n",
    "  print(\" \")"
   ]
  },
  {
   "cell_type": "code",
   "execution_count": null,
   "metadata": {
    "colab": {
     "base_uri": "https://localhost:8080/"
    },
    "id": "Ws-azwKK9Mps",
    "outputId": "e649dee6-60c5-4836-f76d-72c1e92d0644"
   },
   "outputs": [
    {
     "name": "stdout",
     "output_type": "stream",
     "text": [
      "Log-Likelihood (higher values are better):  -2493585.662377975\n",
      "Perplexity (lower values are better):  524.9111939414254\n",
      "Topic: 0\n",
      "good       0.028939\n",
      "like       0.021044\n",
      "order      0.018679\n",
      "chicken    0.017578\n",
      "fry        0.015647\n",
      "cheese     0.012912\n",
      "really     0.012428\n",
      "taste      0.012187\n",
      "burger     0.012187\n",
      "steak      0.009873\n",
      "Name: Topic_0, dtype: float64\n",
      " \n",
      "Topic: 1\n",
      "good          0.018421\n",
      "dish          0.017396\n",
      "sushi         0.013015\n",
      "order         0.012894\n",
      "rice          0.012552\n",
      "restaurant    0.011597\n",
      "roll          0.011480\n",
      "soup          0.011052\n",
      "dessert       0.010301\n",
      "sauce         0.010115\n",
      "Name: Topic_1, dtype: float64\n",
      " \n",
      "Topic: 2\n",
      "order      0.020945\n",
      "us         0.020776\n",
      "time       0.020005\n",
      "food       0.019864\n",
      "wait       0.017374\n",
      "take       0.016819\n",
      "table      0.013504\n",
      "even       0.010818\n",
      "service    0.010810\n",
      "give       0.010758\n",
      "Name: Topic_2, dtype: float64\n",
      " \n",
      "Topic: 3\n",
      "food        0.054912\n",
      "great       0.052523\n",
      "place       0.046290\n",
      "service     0.035338\n",
      "good        0.025784\n",
      "vega        0.024820\n",
      "best        0.021615\n",
      "love        0.019894\n",
      "friendly    0.016753\n",
      "always      0.016257\n",
      "Name: Topic_3, dtype: float64\n",
      " \n"
     ]
    }
   ],
   "source": [
    "word_weights_df=get_word_weights(normalized_reviews_lv,4,10,0.75,0.5)\n",
    "for i in range(4):\n",
    "  print(\"Topic:\",i)\n",
    "  print(word_weights_df.iloc[:,i].sort_values(ascending=False).head(10))\n",
    "  print(\" \")"
   ]
  },
  {
   "cell_type": "markdown",
   "metadata": {
    "id": "YDrfeMaWmDvd"
   },
   "source": [
    "## Hoping to focus on most popular restaurant"
   ]
  },
  {
   "cell_type": "code",
   "execution_count": null,
   "metadata": {
    "colab": {
     "base_uri": "https://localhost:8080/"
    },
    "id": "H3vYaiyNjBP_",
    "outputId": "d8cccbb9-36f4-4b84-943c-a431ecf7c646"
   },
   "outputs": [
    {
     "name": "stdout",
     "output_type": "stream",
     "text": [
      "                        stars\n",
      "bid                          \n",
      "4JNXUYY8wbaaDmk3BPzlWw   6414\n",
      "RESDUcs7fIiihp38-d6_6g   5715\n",
      "K7lWdNUhCbcnEvI0NhGewg   5216\n",
      "cYwJA2A6I12KNkm2rtXd5g   5116\n",
      "DkYS3arLOhA8si5uUEmHOw   4655\n",
      "...                       ...\n",
      "D5U--oPlJ0VJqBw-SEg38Q      3\n",
      "lbWXP4CTUFwyEXLGEDJ8yA      3\n",
      "lbUKEN7XVdD_FEF61TlQeA      3\n",
      "0jeEhjIO6AFAzsOi2A1rUw      3\n",
      "wB8SWcTrYWSSZQkRgJ-C-w      3\n",
      "\n",
      "[48485 rows x 1 columns]\n"
     ]
    }
   ],
   "source": [
    "print(df_restaurant.iloc[:,0:2].groupby(by=\"bid\").count().sort_values(by=\"stars\",ascending=False))\n",
    "bid_pop=df_restaurant.iloc[:,0:2].groupby(by=\"bid\").count().sort_values(by=\"stars\",ascending=False).index[0]\n"
   ]
  },
  {
   "cell_type": "code",
   "execution_count": null,
   "metadata": {
    "id": "VblRMuoqlSJa"
   },
   "outputs": [],
   "source": [
    "df_restaurant_pop=df_restaurant[df_restaurant.bid==bid_pop]"
   ]
  },
  {
   "cell_type": "code",
   "execution_count": null,
   "metadata": {
    "id": "TkfxevFam6LC"
   },
   "outputs": [],
   "source": [
    "normalized_reviews_pop=normalize_corpus(df_restaurant_pop.reviews)"
   ]
  },
  {
   "cell_type": "code",
   "execution_count": null,
   "metadata": {
    "colab": {
     "base_uri": "https://localhost:8080/"
    },
    "id": "32kWGof2oQYV",
    "outputId": "b09002ef-8afb-416d-f8bb-1c076cdef88d"
   },
   "outputs": [
    {
     "name": "stdout",
     "output_type": "stream",
     "text": [
      "Log-Likelihood (higher values are better):  -1927310.497354848\n",
      "Perplexity (lower values are better):  494.42877478932024\n",
      "Topic: 0\n",
      "breakfast    0.031168\n",
      "egg          0.021619\n",
      "brunch       0.018686\n",
      "crepe        0.018028\n",
      "good         0.016946\n",
      "order        0.013471\n",
      "benedict     0.011630\n",
      "french       0.011204\n",
      "toast        0.010951\n",
      "great        0.010535\n",
      "Name: Topic_0, dtype: float64\n",
      " \n",
      "Topic: 1\n",
      "food          0.025920\n",
      "great         0.023222\n",
      "service       0.016602\n",
      "vega          0.016120\n",
      "place         0.015451\n",
      "good          0.014735\n",
      "bellagio      0.014689\n",
      "view          0.014652\n",
      "restaurant    0.014419\n",
      "patio         0.014230\n",
      "Name: Topic_1, dtype: float64\n",
      " \n",
      "Topic: 2\n",
      "steak     0.027873\n",
      "order     0.019942\n",
      "good      0.017817\n",
      "french    0.012071\n",
      "like      0.011685\n",
      "bread     0.010759\n",
      "frites    0.010608\n",
      "soup      0.010340\n",
      "onion     0.009622\n",
      "fry       0.009133\n",
      "Name: Topic_2, dtype: float64\n",
      " \n"
     ]
    }
   ],
   "source": [
    "word_weights_df=get_word_weights(normalized_reviews_pop,3,10,0.35,0.35)\n",
    "for i in range(3):\n",
    "  print(\"Topic:\",i)\n",
    "  print(word_weights_df.iloc[:,i].sort_values(ascending=False).head(10))\n",
    "  print(\" \")"
   ]
  },
  {
   "cell_type": "code",
   "execution_count": null,
   "metadata": {
    "colab": {
     "base_uri": "https://localhost:8080/"
    },
    "id": "H8GrwtyLCqnR",
    "outputId": "aad9026d-2fe7-4e29-a6bc-de4647a9a5a5"
   },
   "outputs": [
    {
     "name": "stdout",
     "output_type": "stream",
     "text": [
      "Log-Likelihood (higher values are better):  -1924178.0609471633\n",
      "Perplexity (lower values are better):  489.4688303884623\n",
      "Topic: 0\n",
      "us             0.019655\n",
      "table          0.019646\n",
      "food           0.017193\n",
      "wait           0.015972\n",
      "reservation    0.014626\n",
      "time           0.013660\n",
      "order          0.013143\n",
      "restaurant     0.011695\n",
      "seat           0.011552\n",
      "take           0.011286\n",
      "Name: Topic_0, dtype: float64\n",
      " \n",
      "Topic: 1\n",
      "breakfast    0.032294\n",
      "egg          0.022407\n",
      "brunch       0.019343\n",
      "good         0.019082\n",
      "crepe        0.018665\n",
      "french       0.013311\n",
      "sandwich     0.012432\n",
      "benedict     0.012056\n",
      "delicious    0.011478\n",
      "toast        0.011343\n",
      "Name: Topic_1, dtype: float64\n",
      " \n",
      "Topic: 2\n",
      "great       0.043077\n",
      "food        0.032545\n",
      "vega        0.028755\n",
      "view        0.024756\n",
      "bellagio    0.024322\n",
      "service     0.021581\n",
      "place       0.020951\n",
      "patio       0.020504\n",
      "fountain    0.019724\n",
      "strip       0.019012\n",
      "Name: Topic_2, dtype: float64\n",
      " \n",
      "Topic: 3\n",
      "steak     0.040979\n",
      "good      0.020647\n",
      "order     0.017946\n",
      "french    0.016252\n",
      "frites    0.014669\n",
      "soup      0.014209\n",
      "bread     0.013940\n",
      "onion     0.013215\n",
      "sauce     0.012623\n",
      "fry       0.012519\n",
      "Name: Topic_3, dtype: float64\n",
      " \n"
     ]
    }
   ],
   "source": [
    "word_weights_df=get_word_weights(normalized_reviews_pop,4,10,0.75,0.75)\n",
    "for i in range(4):\n",
    "  print(\"Topic:\",i)\n",
    "  print(word_weights_df.iloc[:,i].sort_values(ascending=False).head(10))\n",
    "  print(\" \")"
   ]
  },
  {
   "cell_type": "markdown",
   "metadata": {
    "id": "pJ-ZY8__qfI8"
   },
   "source": [
    "## Best/Worst Restaurants with more than 2K reviews"
   ]
  },
  {
   "cell_type": "code",
   "execution_count": null,
   "metadata": {
    "id": "eqssS81qqeh7"
   },
   "outputs": [],
   "source": [
    "review_count=df_restaurant.iloc[:,0:2].groupby(by=\"bid\").count()>=2000\n",
    "review1000=review_count[review_count.stars==True].index\n",
    "rank_star=df_restaurant[[\"bid\",\"stars\"]].loc[df_restaurant.bid.isin(review1000)].groupby(\"bid\").mean().sort_values(by='stars')\n",
    "best_id=rank_star.index[-1]\n",
    "df_best=df_restaurant[df_restaurant.bid==best_id]\n",
    "worst_id=rank_star.index[0]\n",
    "df_worst=df_restaurant[df_restaurant.bid==worst_id]"
   ]
  },
  {
   "cell_type": "markdown",
   "metadata": {
    "id": "wSM0S8kQt0nt"
   },
   "source": [
    "## Best Restaurant's Topic"
   ]
  },
  {
   "cell_type": "code",
   "execution_count": null,
   "metadata": {
    "colab": {
     "base_uri": "https://localhost:8080/",
     "height": 81
    },
    "id": "IQrywGkvuk2t",
    "outputId": "b7277b8d-68cf-4984-e75a-4b0b5a34c3e2"
   },
   "outputs": [
    {
     "data": {
      "text/html": [
       "\n",
       "  <div id=\"df-e3caa853-e509-48a5-9c7a-5e2e1f2f618b\">\n",
       "    <div class=\"colab-df-container\">\n",
       "      <div>\n",
       "<style scoped>\n",
       "    .dataframe tbody tr th:only-of-type {\n",
       "        vertical-align: middle;\n",
       "    }\n",
       "\n",
       "    .dataframe tbody tr th {\n",
       "        vertical-align: top;\n",
       "    }\n",
       "\n",
       "    .dataframe thead th {\n",
       "        text-align: right;\n",
       "    }\n",
       "</style>\n",
       "<table border=\"1\" class=\"dataframe\">\n",
       "  <thead>\n",
       "    <tr style=\"text-align: right;\">\n",
       "      <th></th>\n",
       "      <th>bid</th>\n",
       "      <th>postal_code</th>\n",
       "      <th>state</th>\n",
       "      <th>city</th>\n",
       "      <th>categories</th>\n",
       "    </tr>\n",
       "  </thead>\n",
       "  <tbody>\n",
       "    <tr>\n",
       "      <th>34945</th>\n",
       "      <td>hihud--QRriCYZw1zZvW4g</td>\n",
       "      <td>89169</td>\n",
       "      <td>NV</td>\n",
       "      <td>Las Vegas</td>\n",
       "      <td>[Korean, Japanese, Restaurants, Tapas/Small Pl...</td>\n",
       "    </tr>\n",
       "  </tbody>\n",
       "</table>\n",
       "</div>\n",
       "      <button class=\"colab-df-convert\" onclick=\"convertToInteractive('df-e3caa853-e509-48a5-9c7a-5e2e1f2f618b')\"\n",
       "              title=\"Convert this dataframe to an interactive table.\"\n",
       "              style=\"display:none;\">\n",
       "        \n",
       "  <svg xmlns=\"http://www.w3.org/2000/svg\" height=\"24px\"viewBox=\"0 0 24 24\"\n",
       "       width=\"24px\">\n",
       "    <path d=\"M0 0h24v24H0V0z\" fill=\"none\"/>\n",
       "    <path d=\"M18.56 5.44l.94 2.06.94-2.06 2.06-.94-2.06-.94-.94-2.06-.94 2.06-2.06.94zm-11 1L8.5 8.5l.94-2.06 2.06-.94-2.06-.94L8.5 2.5l-.94 2.06-2.06.94zm10 10l.94 2.06.94-2.06 2.06-.94-2.06-.94-.94-2.06-.94 2.06-2.06.94z\"/><path d=\"M17.41 7.96l-1.37-1.37c-.4-.4-.92-.59-1.43-.59-.52 0-1.04.2-1.43.59L10.3 9.45l-7.72 7.72c-.78.78-.78 2.05 0 2.83L4 21.41c.39.39.9.59 1.41.59.51 0 1.02-.2 1.41-.59l7.78-7.78 2.81-2.81c.8-.78.8-2.07 0-2.86zM5.41 20L4 18.59l7.72-7.72 1.47 1.35L5.41 20z\"/>\n",
       "  </svg>\n",
       "      </button>\n",
       "      \n",
       "  <style>\n",
       "    .colab-df-container {\n",
       "      display:flex;\n",
       "      flex-wrap:wrap;\n",
       "      gap: 12px;\n",
       "    }\n",
       "\n",
       "    .colab-df-convert {\n",
       "      background-color: #E8F0FE;\n",
       "      border: none;\n",
       "      border-radius: 50%;\n",
       "      cursor: pointer;\n",
       "      display: none;\n",
       "      fill: #1967D2;\n",
       "      height: 32px;\n",
       "      padding: 0 0 0 0;\n",
       "      width: 32px;\n",
       "    }\n",
       "\n",
       "    .colab-df-convert:hover {\n",
       "      background-color: #E2EBFA;\n",
       "      box-shadow: 0px 1px 2px rgba(60, 64, 67, 0.3), 0px 1px 3px 1px rgba(60, 64, 67, 0.15);\n",
       "      fill: #174EA6;\n",
       "    }\n",
       "\n",
       "    [theme=dark] .colab-df-convert {\n",
       "      background-color: #3B4455;\n",
       "      fill: #D2E3FC;\n",
       "    }\n",
       "\n",
       "    [theme=dark] .colab-df-convert:hover {\n",
       "      background-color: #434B5C;\n",
       "      box-shadow: 0px 1px 3px 1px rgba(0, 0, 0, 0.15);\n",
       "      filter: drop-shadow(0px 1px 2px rgba(0, 0, 0, 0.3));\n",
       "      fill: #FFFFFF;\n",
       "    }\n",
       "  </style>\n",
       "\n",
       "      <script>\n",
       "        const buttonEl =\n",
       "          document.querySelector('#df-e3caa853-e509-48a5-9c7a-5e2e1f2f618b button.colab-df-convert');\n",
       "        buttonEl.style.display =\n",
       "          google.colab.kernel.accessAllowed ? 'block' : 'none';\n",
       "\n",
       "        async function convertToInteractive(key) {\n",
       "          const element = document.querySelector('#df-e3caa853-e509-48a5-9c7a-5e2e1f2f618b');\n",
       "          const dataTable =\n",
       "            await google.colab.kernel.invokeFunction('convertToInteractive',\n",
       "                                                     [key], {});\n",
       "          if (!dataTable) return;\n",
       "\n",
       "          const docLinkHtml = 'Like what you see? Visit the ' +\n",
       "            '<a target=\"_blank\" href=https://colab.research.google.com/notebooks/data_table.ipynb>data table notebook</a>'\n",
       "            + ' to learn more about interactive tables.';\n",
       "          element.innerHTML = '';\n",
       "          dataTable['output_type'] = 'display_data';\n",
       "          await google.colab.output.renderOutput(dataTable, element);\n",
       "          const docLink = document.createElement('div');\n",
       "          docLink.innerHTML = docLinkHtml;\n",
       "          element.appendChild(docLink);\n",
       "        }\n",
       "      </script>\n",
       "    </div>\n",
       "  </div>\n",
       "  "
      ],
      "text/plain": [
       "                          bid  ...                                         categories\n",
       "34945  hihud--QRriCYZw1zZvW4g  ...  [Korean, Japanese, Restaurants, Tapas/Small Pl...\n",
       "\n",
       "[1 rows x 5 columns]"
      ]
     },
     "execution_count": 19,
     "metadata": {},
     "output_type": "execute_result"
    }
   ],
   "source": [
    "df_b.loc[df_b.bid==best_id]"
   ]
  },
  {
   "cell_type": "code",
   "execution_count": null,
   "metadata": {
    "id": "eq4A-kGTt6gC"
   },
   "outputs": [],
   "source": [
    "normalized_reviews_best=normalize_corpus(df_best.reviews)"
   ]
  },
  {
   "cell_type": "code",
   "execution_count": null,
   "metadata": {
    "colab": {
     "base_uri": "https://localhost:8080/"
    },
    "id": "zH5IrSiqCvpv",
    "outputId": "0df36dba-4869-4f64-d567-da54e161d0c4"
   },
   "outputs": [
    {
     "name": "stdout",
     "output_type": "stream",
     "text": [
      "Log-Likelihood (higher values are better):  -541570.6731553278\n",
      "Perplexity (lower values are better):  362.1815577884689\n",
      "Topic: 0\n",
      "food          0.064057\n",
      "great         0.062562\n",
      "service       0.043213\n",
      "place         0.039263\n",
      "good          0.033949\n",
      "korean        0.032828\n",
      "bbq           0.030232\n",
      "vega          0.024683\n",
      "definitely    0.022480\n",
      "recommend     0.019104\n",
      "Name: Topic_0, dtype: float64\n",
      " \n",
      "Topic: 1\n",
      "meat       0.022301\n",
      "order      0.018917\n",
      "food       0.018765\n",
      "good       0.018500\n",
      "us         0.014633\n",
      "place      0.013372\n",
      "wait       0.012633\n",
      "people     0.012020\n",
      "review     0.011611\n",
      "service    0.009898\n",
      "Name: Topic_1, dtype: float64\n",
      " \n",
      "Topic: 2\n",
      "good       0.028963\n",
      "beef       0.028068\n",
      "meat       0.021478\n",
      "spicy      0.020169\n",
      "order      0.018971\n",
      "pork       0.018223\n",
      "side       0.017729\n",
      "bulgogi    0.017171\n",
      "dish       0.015708\n",
      "kalbi      0.014952\n",
      "Name: Topic_2, dtype: float64\n",
      " \n"
     ]
    }
   ],
   "source": [
    "word_weights_df=get_word_weights(normalized_reviews_best,3,10,0.5,0.5)\n",
    "for i in range(3):\n",
    "  print(\"Topic:\",i)\n",
    "  print(word_weights_df.iloc[:,i].sort_values(ascending=False).head(10))\n",
    "  print(\" \")"
   ]
  },
  {
   "cell_type": "code",
   "execution_count": null,
   "metadata": {
    "colab": {
     "base_uri": "https://localhost:8080/"
    },
    "id": "fXcJYYMiuImK",
    "outputId": "562c9ad6-a5b5-4ff2-db81-1895a7696dda"
   },
   "outputs": [
    {
     "name": "stdout",
     "output_type": "stream",
     "text": [
      "Log-Likelihood (higher values are better):  -542593.4431317066\n",
      "Perplexity (lower values are better):  366.23422717543787\n",
      "Topic: 0\n",
      "beef       0.036212\n",
      "spicy      0.026022\n",
      "good       0.025922\n",
      "pork       0.023509\n",
      "bulgogi    0.022146\n",
      "order      0.019953\n",
      "kalbi      0.019289\n",
      "korean     0.018450\n",
      "belly      0.014055\n",
      "soup       0.013716\n",
      "Name: Topic_0, dtype: float64\n",
      " \n",
      "Topic: 1\n",
      "food          0.068310\n",
      "great         0.063917\n",
      "service       0.046301\n",
      "place         0.044610\n",
      "korean        0.041239\n",
      "bbq           0.036548\n",
      "vega          0.031587\n",
      "good          0.029511\n",
      "definitely    0.022029\n",
      "recommend     0.021791\n",
      "Name: Topic_1, dtype: float64\n",
      " \n",
      "Topic: 2\n",
      "happy     0.025041\n",
      "hour      0.024409\n",
      "wait      0.017435\n",
      "review    0.016407\n",
      "food      0.016043\n",
      "place     0.014932\n",
      "us        0.014000\n",
      "time      0.012762\n",
      "free      0.012249\n",
      "good      0.011171\n",
      "Name: Topic_2, dtype: float64\n",
      " \n",
      "Topic: 3\n",
      "meat       0.087993\n",
      "good       0.042651\n",
      "order      0.026389\n",
      "side       0.025623\n",
      "dish       0.023848\n",
      "food       0.022129\n",
      "quality    0.020806\n",
      "gangnam    0.019745\n",
      "great      0.019379\n",
      "people     0.017467\n",
      "Name: Topic_3, dtype: float64\n",
      " \n"
     ]
    }
   ],
   "source": [
    "word_weights_df=get_word_weights(normalized_reviews_best,4,10,0.5,0.5)\n",
    "for i in range(4):\n",
    "  print(\"Topic:\",i)\n",
    "  print(word_weights_df.iloc[:,i].sort_values(ascending=False).head(10))\n",
    "  print(\" \")"
   ]
  },
  {
   "cell_type": "markdown",
   "metadata": {
    "id": "eLFICXn7uUs9"
   },
   "source": [
    "## Worst Restaurant's Topic"
   ]
  },
  {
   "cell_type": "code",
   "execution_count": null,
   "metadata": {
    "colab": {
     "base_uri": "https://localhost:8080/",
     "height": 81
    },
    "id": "PP_Nj3pqvFN-",
    "outputId": "dfd29cc6-edd7-4269-fbf6-9636e15aef92"
   },
   "outputs": [
    {
     "data": {
      "text/html": [
       "\n",
       "  <div id=\"df-abc49ac3-d53e-4d65-96b1-625823480d6d\">\n",
       "    <div class=\"colab-df-container\">\n",
       "      <div>\n",
       "<style scoped>\n",
       "    .dataframe tbody tr th:only-of-type {\n",
       "        vertical-align: middle;\n",
       "    }\n",
       "\n",
       "    .dataframe tbody tr th {\n",
       "        vertical-align: top;\n",
       "    }\n",
       "\n",
       "    .dataframe thead th {\n",
       "        text-align: right;\n",
       "    }\n",
       "</style>\n",
       "<table border=\"1\" class=\"dataframe\">\n",
       "  <thead>\n",
       "    <tr style=\"text-align: right;\">\n",
       "      <th></th>\n",
       "      <th>bid</th>\n",
       "      <th>postal_code</th>\n",
       "      <th>state</th>\n",
       "      <th>city</th>\n",
       "      <th>categories</th>\n",
       "    </tr>\n",
       "  </thead>\n",
       "  <tbody>\n",
       "    <tr>\n",
       "      <th>90359</th>\n",
       "      <td>eoHdUeQDNgQ6WYEnP2aiRw</td>\n",
       "      <td>89109</td>\n",
       "      <td>NV</td>\n",
       "      <td>Las Vegas</td>\n",
       "      <td>[American (New), American (Traditional), Socia...</td>\n",
       "    </tr>\n",
       "  </tbody>\n",
       "</table>\n",
       "</div>\n",
       "      <button class=\"colab-df-convert\" onclick=\"convertToInteractive('df-abc49ac3-d53e-4d65-96b1-625823480d6d')\"\n",
       "              title=\"Convert this dataframe to an interactive table.\"\n",
       "              style=\"display:none;\">\n",
       "        \n",
       "  <svg xmlns=\"http://www.w3.org/2000/svg\" height=\"24px\"viewBox=\"0 0 24 24\"\n",
       "       width=\"24px\">\n",
       "    <path d=\"M0 0h24v24H0V0z\" fill=\"none\"/>\n",
       "    <path d=\"M18.56 5.44l.94 2.06.94-2.06 2.06-.94-2.06-.94-.94-2.06-.94 2.06-2.06.94zm-11 1L8.5 8.5l.94-2.06 2.06-.94-2.06-.94L8.5 2.5l-.94 2.06-2.06.94zm10 10l.94 2.06.94-2.06 2.06-.94-2.06-.94-.94-2.06-.94 2.06-2.06.94z\"/><path d=\"M17.41 7.96l-1.37-1.37c-.4-.4-.92-.59-1.43-.59-.52 0-1.04.2-1.43.59L10.3 9.45l-7.72 7.72c-.78.78-.78 2.05 0 2.83L4 21.41c.39.39.9.59 1.41.59.51 0 1.02-.2 1.41-.59l7.78-7.78 2.81-2.81c.8-.78.8-2.07 0-2.86zM5.41 20L4 18.59l7.72-7.72 1.47 1.35L5.41 20z\"/>\n",
       "  </svg>\n",
       "      </button>\n",
       "      \n",
       "  <style>\n",
       "    .colab-df-container {\n",
       "      display:flex;\n",
       "      flex-wrap:wrap;\n",
       "      gap: 12px;\n",
       "    }\n",
       "\n",
       "    .colab-df-convert {\n",
       "      background-color: #E8F0FE;\n",
       "      border: none;\n",
       "      border-radius: 50%;\n",
       "      cursor: pointer;\n",
       "      display: none;\n",
       "      fill: #1967D2;\n",
       "      height: 32px;\n",
       "      padding: 0 0 0 0;\n",
       "      width: 32px;\n",
       "    }\n",
       "\n",
       "    .colab-df-convert:hover {\n",
       "      background-color: #E2EBFA;\n",
       "      box-shadow: 0px 1px 2px rgba(60, 64, 67, 0.3), 0px 1px 3px 1px rgba(60, 64, 67, 0.15);\n",
       "      fill: #174EA6;\n",
       "    }\n",
       "\n",
       "    [theme=dark] .colab-df-convert {\n",
       "      background-color: #3B4455;\n",
       "      fill: #D2E3FC;\n",
       "    }\n",
       "\n",
       "    [theme=dark] .colab-df-convert:hover {\n",
       "      background-color: #434B5C;\n",
       "      box-shadow: 0px 1px 3px 1px rgba(0, 0, 0, 0.15);\n",
       "      filter: drop-shadow(0px 1px 2px rgba(0, 0, 0, 0.3));\n",
       "      fill: #FFFFFF;\n",
       "    }\n",
       "  </style>\n",
       "\n",
       "      <script>\n",
       "        const buttonEl =\n",
       "          document.querySelector('#df-abc49ac3-d53e-4d65-96b1-625823480d6d button.colab-df-convert');\n",
       "        buttonEl.style.display =\n",
       "          google.colab.kernel.accessAllowed ? 'block' : 'none';\n",
       "\n",
       "        async function convertToInteractive(key) {\n",
       "          const element = document.querySelector('#df-abc49ac3-d53e-4d65-96b1-625823480d6d');\n",
       "          const dataTable =\n",
       "            await google.colab.kernel.invokeFunction('convertToInteractive',\n",
       "                                                     [key], {});\n",
       "          if (!dataTable) return;\n",
       "\n",
       "          const docLinkHtml = 'Like what you see? Visit the ' +\n",
       "            '<a target=\"_blank\" href=https://colab.research.google.com/notebooks/data_table.ipynb>data table notebook</a>'\n",
       "            + ' to learn more about interactive tables.';\n",
       "          element.innerHTML = '';\n",
       "          dataTable['output_type'] = 'display_data';\n",
       "          await google.colab.output.renderOutput(dataTable, element);\n",
       "          const docLink = document.createElement('div');\n",
       "          docLink.innerHTML = docLinkHtml;\n",
       "          element.appendChild(docLink);\n",
       "        }\n",
       "      </script>\n",
       "    </div>\n",
       "  </div>\n",
       "  "
      ],
      "text/plain": [
       "                          bid  ...                                         categories\n",
       "90359  eoHdUeQDNgQ6WYEnP2aiRw  ...  [American (New), American (Traditional), Socia...\n",
       "\n",
       "[1 rows x 5 columns]"
      ]
     },
     "execution_count": 35,
     "metadata": {},
     "output_type": "execute_result"
    }
   ],
   "source": [
    "df_b.loc[df_b.bid==worst_id]"
   ]
  },
  {
   "cell_type": "code",
   "execution_count": null,
   "metadata": {
    "id": "d9ekdPTVt-HN"
   },
   "outputs": [],
   "source": [
    "normalized_reviews_worst=normalize_corpus(df_worst.reviews)"
   ]
  },
  {
   "cell_type": "code",
   "execution_count": null,
   "metadata": {
    "colab": {
     "base_uri": "https://localhost:8080/"
    },
    "id": "iEiWEExpuLEo",
    "outputId": "6ba01abe-f9fe-4ecf-bed6-624c0a84882c"
   },
   "outputs": [
    {
     "name": "stdout",
     "output_type": "stream",
     "text": [
      "Log-Likelihood (higher values are better):  -1149478.469825308\n",
      "Perplexity (lower values are better):  448.08917835130137\n",
      "Topic: 0\n",
      "good         0.023769\n",
      "food         0.022265\n",
      "place        0.015312\n",
      "order        0.013397\n",
      "hot          0.013214\n",
      "great        0.012734\n",
      "fry          0.011587\n",
      "burger       0.011219\n",
      "chocolate    0.010240\n",
      "dessert      0.009964\n",
      "Name: Topic_0, dtype: float64\n",
      " \n",
      "Topic: 1\n",
      "chocolate      0.059692\n",
      "hot            0.052762\n",
      "frozen         0.040660\n",
      "cream          0.017866\n",
      "good           0.014820\n",
      "like           0.014522\n",
      "ice            0.012936\n",
      "serendipity    0.012076\n",
      "sundae         0.011928\n",
      "place          0.011524\n",
      "Name: Topic_1, dtype: float64\n",
      " \n",
      "Topic: 2\n",
      "wait       0.032943\n",
      "us         0.022905\n",
      "food       0.021436\n",
      "order      0.019632\n",
      "table      0.018524\n",
      "take       0.018139\n",
      "minute     0.017989\n",
      "service    0.017646\n",
      "time       0.015861\n",
      "place      0.013017\n",
      "Name: Topic_2, dtype: float64\n",
      " \n"
     ]
    }
   ],
   "source": [
    "word_weights_df=get_word_weights(normalized_reviews_worst,3,10,0.5,0.5)\n",
    "for i in range(3):\n",
    "  print(\"Topic:\",i)\n",
    "  print(word_weights_df.iloc[:,i].sort_values(ascending=False).head(10))\n",
    "  print(\" \")"
   ]
  },
  {
   "cell_type": "code",
   "execution_count": null,
   "metadata": {
    "colab": {
     "base_uri": "https://localhost:8080/"
    },
    "id": "Ue-9cscFCzyQ",
    "outputId": "c3d2ed58-58d8-4378-aaf1-c87f4410dbd9"
   },
   "outputs": [
    {
     "name": "stdout",
     "output_type": "stream",
     "text": [
      "Log-Likelihood (higher values are better):  -1149010.311043634\n",
      "Perplexity (lower values are better):  446.97641683902424\n",
      "Topic: 0\n",
      "good        0.028716\n",
      "food        0.020851\n",
      "fry         0.020218\n",
      "order       0.019413\n",
      "burger      0.017268\n",
      "cheese      0.014728\n",
      "sandwich    0.013893\n",
      "chicken     0.013820\n",
      "salad       0.011717\n",
      "really      0.010843\n",
      "Name: Topic_0, dtype: float64\n",
      " \n",
      "Topic: 1\n",
      "vega           0.033596\n",
      "place          0.027968\n",
      "food           0.023228\n",
      "serendipity    0.023179\n",
      "dessert        0.019279\n",
      "great          0.017892\n",
      "time           0.016257\n",
      "strip          0.014883\n",
      "good           0.013827\n",
      "restaurant     0.010341\n",
      "Name: Topic_1, dtype: float64\n",
      " \n",
      "Topic: 2\n",
      "wait       0.038946\n",
      "us         0.027747\n",
      "order      0.023005\n",
      "take       0.022250\n",
      "table      0.022013\n",
      "food       0.020894\n",
      "minute     0.019613\n",
      "service    0.017691\n",
      "time       0.015111\n",
      "seat       0.013212\n",
      "Name: Topic_2, dtype: float64\n",
      " \n",
      "Topic: 3\n",
      "chocolate    0.090160\n",
      "hot          0.081562\n",
      "frozen       0.063041\n",
      "cream        0.023404\n",
      "like         0.018481\n",
      "ice          0.016942\n",
      "good         0.015991\n",
      "sundae       0.014147\n",
      "order        0.013879\n",
      "taste        0.012042\n",
      "Name: Topic_3, dtype: float64\n",
      " \n"
     ]
    }
   ],
   "source": [
    "word_weights_df=get_word_weights(normalized_reviews_worst,4,10,0.5,0.5)\n",
    "for i in range(4):\n",
    "  print(\"Topic:\",i)\n",
    "  print(word_weights_df.iloc[:,i].sort_values(ascending=False).head(10))\n",
    "  print(\" \")"
   ]
  },
  {
   "cell_type": "markdown",
   "metadata": {
    "id": "9T-bKlaffzbI"
   },
   "source": [
    "# Lexicon-Based Sentiment Amalysis\n"
   ]
  },
  {
   "cell_type": "markdown",
   "metadata": {
    "id": "-5_eJHEC3lGF"
   },
   "source": [
    "## Set year to be 2017"
   ]
  },
  {
   "cell_type": "code",
   "execution_count": null,
   "metadata": {
    "colab": {
     "base_uri": "https://localhost:8080/"
    },
    "id": "WL_tjhazgLpv",
    "outputId": "c6e81652-b126-41c7-b77c-e230453b4d26"
   },
   "outputs": [
    {
     "name": "stderr",
     "output_type": "stream",
     "text": [
      "/usr/local/lib/python3.7/dist-packages/ipykernel_launcher.py:7: SettingWithCopyWarning: \n",
      "A value is trying to be set on a copy of a slice from a DataFrame.\n",
      "Try using .loc[row_indexer,col_indexer] = value instead\n",
      "\n",
      "See the caveats in the documentation: https://pandas.pydata.org/pandas-docs/stable/user_guide/indexing.html#returning-a-view-versus-a-copy\n",
      "  import sys\n"
     ]
    },
    {
     "data": {
      "text/plain": [
       "positive    23832\n",
       "negative     7248\n",
       "Name: sentiment, dtype: int64"
      ]
     },
     "execution_count": 75,
     "metadata": {},
     "output_type": "execute_result"
    }
   ],
   "source": [
    "## Prepare polarity label\n",
    "# We make score 4,5 to  positive (1) and score 1,2 to  negtive(0)\n",
    "def sentiment_assign(x):\n",
    "  if x ==3:\n",
    "    return None\n",
    "  return \"positive\" if x > 2 else \"negative\"\n",
    "df_restaurant['sentiment'] = df_restaurant[\"stars\"].apply( sentiment_assign )\n",
    "\n",
    "sa_df=df_restaurant.loc[(df_restaurant.year>=2017),[\"reviews\",\"sentiment\"]].dropna()\n",
    "sa_df.sentiment.value_counts()\n"
   ]
  },
  {
   "cell_type": "code",
   "execution_count": null,
   "metadata": {
    "colab": {
     "base_uri": "https://localhost:8080/"
    },
    "id": "GHIPWXihlFIz",
    "outputId": "4647e293-b98b-4b90-9b10-ad2ff4365c25"
   },
   "outputs": [
    {
     "name": "stdout",
     "output_type": "stream",
     "text": [
      "[nltk_data] Downloading package vader_lexicon to /root/nltk_data...\n"
     ]
    },
    {
     "name": "stderr",
     "output_type": "stream",
     "text": [
      "/usr/local/lib/python3.7/dist-packages/nltk/twitter/__init__.py:20: UserWarning: The twython library has not been installed. Some functionality from the twitter package will not be available.\n",
      "  warnings.warn(\"The twython library has not been installed. \"\n"
     ]
    }
   ],
   "source": [
    "nltk.download('vader_lexicon')\n",
    "from nltk.sentiment.vader import SentimentIntensityAnalyzer\n",
    "analyzer = SentimentIntensityAnalyzer()"
   ]
  },
  {
   "cell_type": "markdown",
   "metadata": {
    "id": "yfhjgcpzIeRS"
   },
   "source": [
    "### Set initial to be 0.3"
   ]
  },
  {
   "cell_type": "code",
   "execution_count": null,
   "metadata": {
    "colab": {
     "base_uri": "https://localhost:8080/",
     "height": 206
    },
    "id": "-dkkNBpQkYgA",
    "outputId": "c6c34dae-71e7-474b-8fcc-38b138a925e8"
   },
   "outputs": [
    {
     "data": {
      "text/html": [
       "\n",
       "  <div id=\"df-02373367-72d8-4986-8eae-1bc8967f1439\">\n",
       "    <div class=\"colab-df-container\">\n",
       "      <div>\n",
       "<style scoped>\n",
       "    .dataframe tbody tr th:only-of-type {\n",
       "        vertical-align: middle;\n",
       "    }\n",
       "\n",
       "    .dataframe tbody tr th {\n",
       "        vertical-align: top;\n",
       "    }\n",
       "\n",
       "    .dataframe thead th {\n",
       "        text-align: right;\n",
       "    }\n",
       "</style>\n",
       "<table border=\"1\" class=\"dataframe\">\n",
       "  <thead>\n",
       "    <tr style=\"text-align: right;\">\n",
       "      <th></th>\n",
       "      <th>VADER Polarity</th>\n",
       "      <th>VADER Score</th>\n",
       "    </tr>\n",
       "  </thead>\n",
       "  <tbody>\n",
       "    <tr>\n",
       "      <th>0</th>\n",
       "      <td>positive</td>\n",
       "      <td>0.9262</td>\n",
       "    </tr>\n",
       "    <tr>\n",
       "      <th>1</th>\n",
       "      <td>negative</td>\n",
       "      <td>0.0392</td>\n",
       "    </tr>\n",
       "    <tr>\n",
       "      <th>2</th>\n",
       "      <td>positive</td>\n",
       "      <td>0.9144</td>\n",
       "    </tr>\n",
       "    <tr>\n",
       "      <th>3</th>\n",
       "      <td>positive</td>\n",
       "      <td>0.7959</td>\n",
       "    </tr>\n",
       "    <tr>\n",
       "      <th>4</th>\n",
       "      <td>negative</td>\n",
       "      <td>-0.7089</td>\n",
       "    </tr>\n",
       "  </tbody>\n",
       "</table>\n",
       "</div>\n",
       "      <button class=\"colab-df-convert\" onclick=\"convertToInteractive('df-02373367-72d8-4986-8eae-1bc8967f1439')\"\n",
       "              title=\"Convert this dataframe to an interactive table.\"\n",
       "              style=\"display:none;\">\n",
       "        \n",
       "  <svg xmlns=\"http://www.w3.org/2000/svg\" height=\"24px\"viewBox=\"0 0 24 24\"\n",
       "       width=\"24px\">\n",
       "    <path d=\"M0 0h24v24H0V0z\" fill=\"none\"/>\n",
       "    <path d=\"M18.56 5.44l.94 2.06.94-2.06 2.06-.94-2.06-.94-.94-2.06-.94 2.06-2.06.94zm-11 1L8.5 8.5l.94-2.06 2.06-.94-2.06-.94L8.5 2.5l-.94 2.06-2.06.94zm10 10l.94 2.06.94-2.06 2.06-.94-2.06-.94-.94-2.06-.94 2.06-2.06.94z\"/><path d=\"M17.41 7.96l-1.37-1.37c-.4-.4-.92-.59-1.43-.59-.52 0-1.04.2-1.43.59L10.3 9.45l-7.72 7.72c-.78.78-.78 2.05 0 2.83L4 21.41c.39.39.9.59 1.41.59.51 0 1.02-.2 1.41-.59l7.78-7.78 2.81-2.81c.8-.78.8-2.07 0-2.86zM5.41 20L4 18.59l7.72-7.72 1.47 1.35L5.41 20z\"/>\n",
       "  </svg>\n",
       "      </button>\n",
       "      \n",
       "  <style>\n",
       "    .colab-df-container {\n",
       "      display:flex;\n",
       "      flex-wrap:wrap;\n",
       "      gap: 12px;\n",
       "    }\n",
       "\n",
       "    .colab-df-convert {\n",
       "      background-color: #E8F0FE;\n",
       "      border: none;\n",
       "      border-radius: 50%;\n",
       "      cursor: pointer;\n",
       "      display: none;\n",
       "      fill: #1967D2;\n",
       "      height: 32px;\n",
       "      padding: 0 0 0 0;\n",
       "      width: 32px;\n",
       "    }\n",
       "\n",
       "    .colab-df-convert:hover {\n",
       "      background-color: #E2EBFA;\n",
       "      box-shadow: 0px 1px 2px rgba(60, 64, 67, 0.3), 0px 1px 3px 1px rgba(60, 64, 67, 0.15);\n",
       "      fill: #174EA6;\n",
       "    }\n",
       "\n",
       "    [theme=dark] .colab-df-convert {\n",
       "      background-color: #3B4455;\n",
       "      fill: #D2E3FC;\n",
       "    }\n",
       "\n",
       "    [theme=dark] .colab-df-convert:hover {\n",
       "      background-color: #434B5C;\n",
       "      box-shadow: 0px 1px 3px 1px rgba(0, 0, 0, 0.15);\n",
       "      filter: drop-shadow(0px 1px 2px rgba(0, 0, 0, 0.3));\n",
       "      fill: #FFFFFF;\n",
       "    }\n",
       "  </style>\n",
       "\n",
       "      <script>\n",
       "        const buttonEl =\n",
       "          document.querySelector('#df-02373367-72d8-4986-8eae-1bc8967f1439 button.colab-df-convert');\n",
       "        buttonEl.style.display =\n",
       "          google.colab.kernel.accessAllowed ? 'block' : 'none';\n",
       "\n",
       "        async function convertToInteractive(key) {\n",
       "          const element = document.querySelector('#df-02373367-72d8-4986-8eae-1bc8967f1439');\n",
       "          const dataTable =\n",
       "            await google.colab.kernel.invokeFunction('convertToInteractive',\n",
       "                                                     [key], {});\n",
       "          if (!dataTable) return;\n",
       "\n",
       "          const docLinkHtml = 'Like what you see? Visit the ' +\n",
       "            '<a target=\"_blank\" href=https://colab.research.google.com/notebooks/data_table.ipynb>data table notebook</a>'\n",
       "            + ' to learn more about interactive tables.';\n",
       "          element.innerHTML = '';\n",
       "          dataTable['output_type'] = 'display_data';\n",
       "          await google.colab.output.renderOutput(dataTable, element);\n",
       "          const docLink = document.createElement('div');\n",
       "          docLink.innerHTML = docLinkHtml;\n",
       "          element.appendChild(docLink);\n",
       "        }\n",
       "      </script>\n",
       "    </div>\n",
       "  </div>\n",
       "  "
      ],
      "text/plain": [
       "  VADER Polarity  VADER Score\n",
       "0       positive       0.9262\n",
       "1       negative       0.0392\n",
       "2       positive       0.9144\n",
       "3       positive       0.7959\n",
       "4       negative      -0.7089"
      ]
     },
     "execution_count": 93,
     "metadata": {},
     "output_type": "execute_result"
    }
   ],
   "source": [
    "def analyze_sentiment_vader_lexicon(review, threshold = 0.4, verbose = False):\n",
    "    scores = analyzer.polarity_scores(review)  \n",
    "    binary_sentiment = 'positive' if scores['compound'] >= threshold else 'negative'\n",
    "    if verbose:                             \n",
    "        print('VADER Polarity (Binary):', binary_sentiment)\n",
    "        print('VADER Score:', round(scores['compound'], 2))\n",
    "    return binary_sentiment,scores['compound']\n",
    "\n",
    "# Call\n",
    "VADER_polarity_test = [analyze_sentiment_vader_lexicon(i, threshold=0.3) for i in sa_df.reviews]\n",
    "VADER_polarity_test_df = pd.DataFrame(VADER_polarity_test, columns = ['VADER Polarity','VADER Score'])\n",
    "VADER_polarity_test_df.head()"
   ]
  },
  {
   "cell_type": "code",
   "execution_count": null,
   "metadata": {
    "colab": {
     "base_uri": "https://localhost:8080/"
    },
    "id": "jKVeHCUil9uJ",
    "outputId": "300d7cda-4153-4ede-a58a-13cfe7564f0d"
   },
   "outputs": [
    {
     "name": "stdout",
     "output_type": "stream",
     "text": [
      "Accuracy Rate: 0.878 \n",
      "\n"
     ]
    }
   ],
   "source": [
    "from sklearn import metrics\n",
    "print('Accuracy Rate:', np.round(metrics.accuracy_score(sa_df.sentiment, \n",
    "                                 VADER_polarity_test_df['VADER Polarity']), 3),\"\\n\")"
   ]
  },
  {
   "cell_type": "code",
   "execution_count": null,
   "metadata": {
    "colab": {
     "base_uri": "https://localhost:8080/",
     "height": 143
    },
    "id": "CM7gjWcEm-5r",
    "outputId": "7de7a978-2d34-4c1b-ad40-4341c4ac68bc"
   },
   "outputs": [
    {
     "data": {
      "text/html": [
       "\n",
       "  <div id=\"df-546ae8c0-78cf-40a5-ac70-afa4ac90e8f3\">\n",
       "    <div class=\"colab-df-container\">\n",
       "      <div>\n",
       "<style scoped>\n",
       "    .dataframe tbody tr th:only-of-type {\n",
       "        vertical-align: middle;\n",
       "    }\n",
       "\n",
       "    .dataframe tbody tr th {\n",
       "        vertical-align: top;\n",
       "    }\n",
       "\n",
       "    .dataframe thead th {\n",
       "        text-align: right;\n",
       "    }\n",
       "</style>\n",
       "<table border=\"1\" class=\"dataframe\">\n",
       "  <thead>\n",
       "    <tr style=\"text-align: right;\">\n",
       "      <th>Predicted:</th>\n",
       "      <th>negative</th>\n",
       "      <th>positive</th>\n",
       "    </tr>\n",
       "    <tr>\n",
       "      <th>True:</th>\n",
       "      <th></th>\n",
       "      <th></th>\n",
       "    </tr>\n",
       "  </thead>\n",
       "  <tbody>\n",
       "    <tr>\n",
       "      <th>negative</th>\n",
       "      <td>4173</td>\n",
       "      <td>3075</td>\n",
       "    </tr>\n",
       "    <tr>\n",
       "      <th>positive</th>\n",
       "      <td>704</td>\n",
       "      <td>23128</td>\n",
       "    </tr>\n",
       "  </tbody>\n",
       "</table>\n",
       "</div>\n",
       "      <button class=\"colab-df-convert\" onclick=\"convertToInteractive('df-546ae8c0-78cf-40a5-ac70-afa4ac90e8f3')\"\n",
       "              title=\"Convert this dataframe to an interactive table.\"\n",
       "              style=\"display:none;\">\n",
       "        \n",
       "  <svg xmlns=\"http://www.w3.org/2000/svg\" height=\"24px\"viewBox=\"0 0 24 24\"\n",
       "       width=\"24px\">\n",
       "    <path d=\"M0 0h24v24H0V0z\" fill=\"none\"/>\n",
       "    <path d=\"M18.56 5.44l.94 2.06.94-2.06 2.06-.94-2.06-.94-.94-2.06-.94 2.06-2.06.94zm-11 1L8.5 8.5l.94-2.06 2.06-.94-2.06-.94L8.5 2.5l-.94 2.06-2.06.94zm10 10l.94 2.06.94-2.06 2.06-.94-2.06-.94-.94-2.06-.94 2.06-2.06.94z\"/><path d=\"M17.41 7.96l-1.37-1.37c-.4-.4-.92-.59-1.43-.59-.52 0-1.04.2-1.43.59L10.3 9.45l-7.72 7.72c-.78.78-.78 2.05 0 2.83L4 21.41c.39.39.9.59 1.41.59.51 0 1.02-.2 1.41-.59l7.78-7.78 2.81-2.81c.8-.78.8-2.07 0-2.86zM5.41 20L4 18.59l7.72-7.72 1.47 1.35L5.41 20z\"/>\n",
       "  </svg>\n",
       "      </button>\n",
       "      \n",
       "  <style>\n",
       "    .colab-df-container {\n",
       "      display:flex;\n",
       "      flex-wrap:wrap;\n",
       "      gap: 12px;\n",
       "    }\n",
       "\n",
       "    .colab-df-convert {\n",
       "      background-color: #E8F0FE;\n",
       "      border: none;\n",
       "      border-radius: 50%;\n",
       "      cursor: pointer;\n",
       "      display: none;\n",
       "      fill: #1967D2;\n",
       "      height: 32px;\n",
       "      padding: 0 0 0 0;\n",
       "      width: 32px;\n",
       "    }\n",
       "\n",
       "    .colab-df-convert:hover {\n",
       "      background-color: #E2EBFA;\n",
       "      box-shadow: 0px 1px 2px rgba(60, 64, 67, 0.3), 0px 1px 3px 1px rgba(60, 64, 67, 0.15);\n",
       "      fill: #174EA6;\n",
       "    }\n",
       "\n",
       "    [theme=dark] .colab-df-convert {\n",
       "      background-color: #3B4455;\n",
       "      fill: #D2E3FC;\n",
       "    }\n",
       "\n",
       "    [theme=dark] .colab-df-convert:hover {\n",
       "      background-color: #434B5C;\n",
       "      box-shadow: 0px 1px 3px 1px rgba(0, 0, 0, 0.15);\n",
       "      filter: drop-shadow(0px 1px 2px rgba(0, 0, 0, 0.3));\n",
       "      fill: #FFFFFF;\n",
       "    }\n",
       "  </style>\n",
       "\n",
       "      <script>\n",
       "        const buttonEl =\n",
       "          document.querySelector('#df-546ae8c0-78cf-40a5-ac70-afa4ac90e8f3 button.colab-df-convert');\n",
       "        buttonEl.style.display =\n",
       "          google.colab.kernel.accessAllowed ? 'block' : 'none';\n",
       "\n",
       "        async function convertToInteractive(key) {\n",
       "          const element = document.querySelector('#df-546ae8c0-78cf-40a5-ac70-afa4ac90e8f3');\n",
       "          const dataTable =\n",
       "            await google.colab.kernel.invokeFunction('convertToInteractive',\n",
       "                                                     [key], {});\n",
       "          if (!dataTable) return;\n",
       "\n",
       "          const docLinkHtml = 'Like what you see? Visit the ' +\n",
       "            '<a target=\"_blank\" href=https://colab.research.google.com/notebooks/data_table.ipynb>data table notebook</a>'\n",
       "            + ' to learn more about interactive tables.';\n",
       "          element.innerHTML = '';\n",
       "          dataTable['output_type'] = 'display_data';\n",
       "          await google.colab.output.renderOutput(dataTable, element);\n",
       "          const docLink = document.createElement('div');\n",
       "          docLink.innerHTML = docLinkHtml;\n",
       "          element.appendChild(docLink);\n",
       "        }\n",
       "      </script>\n",
       "    </div>\n",
       "  </div>\n",
       "  "
      ],
      "text/plain": [
       "Predicted:  negative  positive\n",
       "True:                         \n",
       "negative        4173      3075\n",
       "positive         704     23128"
      ]
     },
     "execution_count": 94,
     "metadata": {},
     "output_type": "execute_result"
    }
   ],
   "source": [
    "pd.crosstab(pd.Series(sa_df['sentiment'].reset_index(drop=True)),pd.Series(VADER_polarity_test_df['VADER Polarity']),\n",
    "            rownames = ['True:'], \n",
    "            colnames = ['Predicted:'])"
   ]
  },
  {
   "cell_type": "code",
   "execution_count": null,
   "metadata": {
    "colab": {
     "base_uri": "https://localhost:8080/",
     "height": 310
    },
    "id": "NVlmPGFQuGII",
    "outputId": "a49791cc-0f65-4016-93a7-43862e647c66"
   },
   "outputs": [
    {
     "data": {
      "image/png": "[encoded data removed]",
      "text/plain": [
       "<Figure size 432x288 with 1 Axes>"
      ]
     },
     "metadata": {
      "needs_background": "light"
     },
     "output_type": "display_data"
    }
   ],
   "source": [
    "import matplotlib.pyplot as plt\n",
    "\n",
    "pos_reviews_scored = VADER_polarity_test_df.loc[sa_df.sentiment.reset_index(drop=True)==\"positive\"]['VADER Score']\n",
    "plt.bar(range(0,sa_df.sentiment.value_counts()[0]),pos_reviews_scored.sort_values(ascending=False))\n",
    "plt.xlabel(\"Reviews with positive ACTUAL polarity\")\n",
    "plt.ylabel(\"VADER Score\")\n",
    "plt.title(\"VADER Scores for ACTUAL Positive Reviews \\n (in decreasing order of VADER scores)\")\n",
    "plt.show()"
   ]
  },
  {
   "cell_type": "code",
   "execution_count": null,
   "metadata": {
    "colab": {
     "base_uri": "https://localhost:8080/",
     "height": 310
    },
    "id": "qoAPu1tcuP4p",
    "outputId": "f3c4e025-656e-4764-8028-b68029b1a480"
   },
   "outputs": [
    {
     "data": {
      "image/png": "[encoded data removed]",
      "text/plain": [
       "<Figure size 432x288 with 1 Axes>"
      ]
     },
     "metadata": {
      "needs_background": "light"
     },
     "output_type": "display_data"
    }
   ],
   "source": [
    "\n",
    "pos_reviews_scored = VADER_polarity_test_df.loc[sa_df.sentiment.reset_index(drop=True)==\"negative\"]['VADER Score']\n",
    "plt.bar(range(0,sa_df.sentiment.value_counts()[1]),pos_reviews_scored.sort_values(ascending=True))\n",
    "plt.xlabel(\"Reviews with negative ACTUAL polarity\")\n",
    "plt.ylabel(\"VADER score\")\n",
    "plt.title(\"VADER Scores for ACTUAL Negative Reviews \\n (in ascending order of VADER scores)\")\n",
    "plt.show()"
   ]
  },
  {
   "cell_type": "markdown",
   "metadata": {
    "id": "tIfr0ZAA7FUt"
   },
   "source": [
    "## Different Threshold"
   ]
  },
  {
   "cell_type": "code",
   "execution_count": null,
   "metadata": {
    "id": "9mEMfUlB7E7V"
   },
   "outputs": [],
   "source": [
    "def VADER_accurancy(reviews,sentiment,threshold):\n",
    "  VADER_polarity_test = [analyze_sentiment_vader_lexicon(i, threshold=threshold) for i in reviews]\n",
    "  VADER_polarity_test_df = pd.DataFrame(VADER_polarity_test, columns = ['VADER Polarity','VADER Score'])\n",
    "  return (np.round(metrics.accuracy_score(sentiment,VADER_polarity_test_df['VADER Polarity']), 3))\n"
   ]
  },
  {
   "cell_type": "code",
   "execution_count": null,
   "metadata": {
    "colab": {
     "base_uri": "https://localhost:8080/",
     "height": 325
    },
    "id": "9iKEzg_0AYsc",
    "outputId": "c4aed838-045f-4ad7-81db-ad3b01f65b0c"
   },
   "outputs": [
    {
     "data": {
      "image/png": "[encoded data removed]",
      "text/plain": [
       "<Figure size 432x288 with 1 Axes>"
      ]
     },
     "metadata": {
      "needs_background": "light"
     },
     "output_type": "display_data"
    }
   ],
   "source": [
    "# Plot accuracy for thresholds between -1 and 1 with step 0.1\n",
    "Thresholds=[]\n",
    "for i in range(-10,10,1):\n",
    "  Thresholds.append(VADER_accurancy(sa_df[\"reviews\"],sa_df[\"sentiment\"],i/10))\n",
    "plt.plot([i/10 for i in range(-10,10,1)],Thresholds,)\n",
    "plt.xlabel(\"Threshold score for positive (binary) sentiment polarity\")\n",
    "plt.ylabel(\"Accuracy rate\")\n",
    "plt.title(\"Accuracy Rate of Sentiment Polarity Prediction \\n as a Function of Threshold for VADER Scores \\n\")\n",
    "plt.show()"
   ]
  },
  {
   "cell_type": "markdown",
   "metadata": {
    "id": "4ICs1MysF8bc"
   },
   "source": [
    "## Train with equal-proportion sample and compare with random sample of same size\n"
   ]
  },
  {
   "cell_type": "markdown",
   "metadata": {
    "id": "TDcq4q0K1HjL"
   },
   "source": [
    "### Equal-proportion sample"
   ]
  },
  {
   "cell_type": "code",
   "execution_count": null,
   "metadata": {
    "id": "Zf5COiEWCZ-7"
   },
   "outputs": [],
   "source": [
    "temp1=sa_df.loc[sa_df.sentiment==\"positive\"].sample(5000)\n",
    "temp2=sa_df.loc[sa_df.sentiment==\"negative\"].sample(5000)\n",
    "sa_df_equal=temp1.append(temp2)"
   ]
  },
  {
   "cell_type": "code",
   "execution_count": null,
   "metadata": {
    "colab": {
     "base_uri": "https://localhost:8080/"
    },
    "id": "i8ORJrLsC_Kq",
    "outputId": "ad7ca3df-a199-448b-f9be-16e9d4c1b291"
   },
   "outputs": [
    {
     "name": "stdout",
     "output_type": "stream",
     "text": [
      "0.741\n",
      "0.753\n",
      "0.764\n",
      "0.776\n",
      "0.789\n",
      "0.804\n",
      "0.812\n",
      "0.819\n",
      "0.82\n",
      "0.782\n"
     ]
    }
   ],
   "source": [
    "for i in range(10):\n",
    "  print(VADER_accurancy(sa_df_equal[\"reviews\"],sa_df_equal[\"sentiment\"],i/10))"
   ]
  },
  {
   "cell_type": "code",
   "execution_count": null,
   "metadata": {
    "id": "SEAfj_TiGNSU"
   },
   "outputs": [],
   "source": [
    "VADER_polarity_test = [analyze_sentiment_vader_lexicon(i, threshold=0.8) for i in sa_df_equal.reviews]\n",
    "VADER_polarity_test_df = pd.DataFrame(VADER_polarity_test, columns = ['VADER Polarity','VADER Score'])"
   ]
  },
  {
   "cell_type": "code",
   "execution_count": null,
   "metadata": {
    "colab": {
     "base_uri": "https://localhost:8080/",
     "height": 143
    },
    "id": "vL4RaAJvGTro",
    "outputId": "ddf6ec50-37f0-4912-88be-1dbe076dda60"
   },
   "outputs": [
    {
     "data": {
      "text/html": [
       "\n",
       "  <div id=\"df-f12bbfe6-ffe5-4701-8910-f7f0b5b4b026\">\n",
       "    <div class=\"colab-df-container\">\n",
       "      <div>\n",
       "<style scoped>\n",
       "    .dataframe tbody tr th:only-of-type {\n",
       "        vertical-align: middle;\n",
       "    }\n",
       "\n",
       "    .dataframe tbody tr th {\n",
       "        vertical-align: top;\n",
       "    }\n",
       "\n",
       "    .dataframe thead th {\n",
       "        text-align: right;\n",
       "    }\n",
       "</style>\n",
       "<table border=\"1\" class=\"dataframe\">\n",
       "  <thead>\n",
       "    <tr style=\"text-align: right;\">\n",
       "      <th>Predicted:</th>\n",
       "      <th>negative</th>\n",
       "      <th>positive</th>\n",
       "    </tr>\n",
       "    <tr>\n",
       "      <th>True:</th>\n",
       "      <th></th>\n",
       "      <th></th>\n",
       "    </tr>\n",
       "  </thead>\n",
       "  <tbody>\n",
       "    <tr>\n",
       "      <th>negative</th>\n",
       "      <td>3935</td>\n",
       "      <td>1065</td>\n",
       "    </tr>\n",
       "    <tr>\n",
       "      <th>positive</th>\n",
       "      <td>736</td>\n",
       "      <td>4264</td>\n",
       "    </tr>\n",
       "  </tbody>\n",
       "</table>\n",
       "</div>\n",
       "      <button class=\"colab-df-convert\" onclick=\"convertToInteractive('df-f12bbfe6-ffe5-4701-8910-f7f0b5b4b026')\"\n",
       "              title=\"Convert this dataframe to an interactive table.\"\n",
       "              style=\"display:none;\">\n",
       "        \n",
       "  <svg xmlns=\"http://www.w3.org/2000/svg\" height=\"24px\"viewBox=\"0 0 24 24\"\n",
       "       width=\"24px\">\n",
       "    <path d=\"M0 0h24v24H0V0z\" fill=\"none\"/>\n",
       "    <path d=\"M18.56 5.44l.94 2.06.94-2.06 2.06-.94-2.06-.94-.94-2.06-.94 2.06-2.06.94zm-11 1L8.5 8.5l.94-2.06 2.06-.94-2.06-.94L8.5 2.5l-.94 2.06-2.06.94zm10 10l.94 2.06.94-2.06 2.06-.94-2.06-.94-.94-2.06-.94 2.06-2.06.94z\"/><path d=\"M17.41 7.96l-1.37-1.37c-.4-.4-.92-.59-1.43-.59-.52 0-1.04.2-1.43.59L10.3 9.45l-7.72 7.72c-.78.78-.78 2.05 0 2.83L4 21.41c.39.39.9.59 1.41.59.51 0 1.02-.2 1.41-.59l7.78-7.78 2.81-2.81c.8-.78.8-2.07 0-2.86zM5.41 20L4 18.59l7.72-7.72 1.47 1.35L5.41 20z\"/>\n",
       "  </svg>\n",
       "      </button>\n",
       "      \n",
       "  <style>\n",
       "    .colab-df-container {\n",
       "      display:flex;\n",
       "      flex-wrap:wrap;\n",
       "      gap: 12px;\n",
       "    }\n",
       "\n",
       "    .colab-df-convert {\n",
       "      background-color: #E8F0FE;\n",
       "      border: none;\n",
       "      border-radius: 50%;\n",
       "      cursor: pointer;\n",
       "      display: none;\n",
       "      fill: #1967D2;\n",
       "      height: 32px;\n",
       "      padding: 0 0 0 0;\n",
       "      width: 32px;\n",
       "    }\n",
       "\n",
       "    .colab-df-convert:hover {\n",
       "      background-color: #E2EBFA;\n",
       "      box-shadow: 0px 1px 2px rgba(60, 64, 67, 0.3), 0px 1px 3px 1px rgba(60, 64, 67, 0.15);\n",
       "      fill: #174EA6;\n",
       "    }\n",
       "\n",
       "    [theme=dark] .colab-df-convert {\n",
       "      background-color: #3B4455;\n",
       "      fill: #D2E3FC;\n",
       "    }\n",
       "\n",
       "    [theme=dark] .colab-df-convert:hover {\n",
       "      background-color: #434B5C;\n",
       "      box-shadow: 0px 1px 3px 1px rgba(0, 0, 0, 0.15);\n",
       "      filter: drop-shadow(0px 1px 2px rgba(0, 0, 0, 0.3));\n",
       "      fill: #FFFFFF;\n",
       "    }\n",
       "  </style>\n",
       "\n",
       "      <script>\n",
       "        const buttonEl =\n",
       "          document.querySelector('#df-f12bbfe6-ffe5-4701-8910-f7f0b5b4b026 button.colab-df-convert');\n",
       "        buttonEl.style.display =\n",
       "          google.colab.kernel.accessAllowed ? 'block' : 'none';\n",
       "\n",
       "        async function convertToInteractive(key) {\n",
       "          const element = document.querySelector('#df-f12bbfe6-ffe5-4701-8910-f7f0b5b4b026');\n",
       "          const dataTable =\n",
       "            await google.colab.kernel.invokeFunction('convertToInteractive',\n",
       "                                                     [key], {});\n",
       "          if (!dataTable) return;\n",
       "\n",
       "          const docLinkHtml = 'Like what you see? Visit the ' +\n",
       "            '<a target=\"_blank\" href=https://colab.research.google.com/notebooks/data_table.ipynb>data table notebook</a>'\n",
       "            + ' to learn more about interactive tables.';\n",
       "          element.innerHTML = '';\n",
       "          dataTable['output_type'] = 'display_data';\n",
       "          await google.colab.output.renderOutput(dataTable, element);\n",
       "          const docLink = document.createElement('div');\n",
       "          docLink.innerHTML = docLinkHtml;\n",
       "          element.appendChild(docLink);\n",
       "        }\n",
       "      </script>\n",
       "    </div>\n",
       "  </div>\n",
       "  "
      ],
      "text/plain": [
       "Predicted:  negative  positive\n",
       "True:                         \n",
       "negative        3935      1065\n",
       "positive         736      4264"
      ]
     },
     "execution_count": 86,
     "metadata": {},
     "output_type": "execute_result"
    }
   ],
   "source": [
    "pd.crosstab(pd.Series(sa_df_equal['sentiment'].reset_index(drop=True)),pd.Series(VADER_polarity_test_df['VADER Polarity']),\n",
    "            rownames = ['True:'], \n",
    "            colnames = ['Predicted:'])"
   ]
  },
  {
   "cell_type": "markdown",
   "metadata": {
    "id": "y3Fz2dU91E-K"
   },
   "source": [
    "### Random Sample"
   ]
  },
  {
   "cell_type": "code",
   "execution_count": null,
   "metadata": {
    "id": "NfjwLeU_0ysQ"
   },
   "outputs": [],
   "source": [
    "sa_df_random=sa_df.sample(10000)"
   ]
  },
  {
   "cell_type": "code",
   "execution_count": null,
   "metadata": {
    "colab": {
     "base_uri": "https://localhost:8080/"
    },
    "id": "fiVzunFU1TH5",
    "outputId": "58f1f47a-8d5e-4d71-debb-dd62fe0e2b3d"
   },
   "outputs": [
    {
     "name": "stdout",
     "output_type": "stream",
     "text": [
      "0.869\n",
      "0.872\n",
      "0.877\n",
      "0.88\n",
      "0.882\n",
      "0.883\n",
      "0.88\n",
      "0.868\n",
      "0.841\n",
      "0.748\n"
     ]
    }
   ],
   "source": [
    "for i in range(10):\n",
    "  print(VADER_accurancy(sa_df_random[\"reviews\"],sa_df_random[\"sentiment\"],i/10))"
   ]
  },
  {
   "cell_type": "code",
   "execution_count": null,
   "metadata": {
    "id": "qUv-9Hhf1Zep"
   },
   "outputs": [],
   "source": [
    "VADER_polarity_test = [analyze_sentiment_vader_lexicon(i, threshold=0.4) for i in sa_df_random.reviews]\n",
    "VADER_polarity_test_df = pd.DataFrame(VADER_polarity_test, columns = ['VADER Polarity','VADER Score'])"
   ]
  },
  {
   "cell_type": "code",
   "execution_count": null,
   "metadata": {
    "colab": {
     "base_uri": "https://localhost:8080/",
     "height": 143
    },
    "id": "PfeMmUEM17xl",
    "outputId": "10e3a3c6-ce19-46e6-b7bc-8e52e31336f8"
   },
   "outputs": [
    {
     "data": {
      "text/html": [
       "\n",
       "  <div id=\"df-86c3f00e-fa74-4646-9819-251fbe32532a\">\n",
       "    <div class=\"colab-df-container\">\n",
       "      <div>\n",
       "<style scoped>\n",
       "    .dataframe tbody tr th:only-of-type {\n",
       "        vertical-align: middle;\n",
       "    }\n",
       "\n",
       "    .dataframe tbody tr th {\n",
       "        vertical-align: top;\n",
       "    }\n",
       "\n",
       "    .dataframe thead th {\n",
       "        text-align: right;\n",
       "    }\n",
       "</style>\n",
       "<table border=\"1\" class=\"dataframe\">\n",
       "  <thead>\n",
       "    <tr style=\"text-align: right;\">\n",
       "      <th>Predicted:</th>\n",
       "      <th>negative</th>\n",
       "      <th>positive</th>\n",
       "    </tr>\n",
       "    <tr>\n",
       "      <th>True:</th>\n",
       "      <th></th>\n",
       "      <th></th>\n",
       "    </tr>\n",
       "  </thead>\n",
       "  <tbody>\n",
       "    <tr>\n",
       "      <th>negative</th>\n",
       "      <td>1386</td>\n",
       "      <td>938</td>\n",
       "    </tr>\n",
       "    <tr>\n",
       "      <th>positive</th>\n",
       "      <td>239</td>\n",
       "      <td>7437</td>\n",
       "    </tr>\n",
       "  </tbody>\n",
       "</table>\n",
       "</div>\n",
       "      <button class=\"colab-df-convert\" onclick=\"convertToInteractive('df-86c3f00e-fa74-4646-9819-251fbe32532a')\"\n",
       "              title=\"Convert this dataframe to an interactive table.\"\n",
       "              style=\"display:none;\">\n",
       "        \n",
       "  <svg xmlns=\"http://www.w3.org/2000/svg\" height=\"24px\"viewBox=\"0 0 24 24\"\n",
       "       width=\"24px\">\n",
       "    <path d=\"M0 0h24v24H0V0z\" fill=\"none\"/>\n",
       "    <path d=\"M18.56 5.44l.94 2.06.94-2.06 2.06-.94-2.06-.94-.94-2.06-.94 2.06-2.06.94zm-11 1L8.5 8.5l.94-2.06 2.06-.94-2.06-.94L8.5 2.5l-.94 2.06-2.06.94zm10 10l.94 2.06.94-2.06 2.06-.94-2.06-.94-.94-2.06-.94 2.06-2.06.94z\"/><path d=\"M17.41 7.96l-1.37-1.37c-.4-.4-.92-.59-1.43-.59-.52 0-1.04.2-1.43.59L10.3 9.45l-7.72 7.72c-.78.78-.78 2.05 0 2.83L4 21.41c.39.39.9.59 1.41.59.51 0 1.02-.2 1.41-.59l7.78-7.78 2.81-2.81c.8-.78.8-2.07 0-2.86zM5.41 20L4 18.59l7.72-7.72 1.47 1.35L5.41 20z\"/>\n",
       "  </svg>\n",
       "      </button>\n",
       "      \n",
       "  <style>\n",
       "    .colab-df-container {\n",
       "      display:flex;\n",
       "      flex-wrap:wrap;\n",
       "      gap: 12px;\n",
       "    }\n",
       "\n",
       "    .colab-df-convert {\n",
       "      background-color: #E8F0FE;\n",
       "      border: none;\n",
       "      border-radius: 50%;\n",
       "      cursor: pointer;\n",
       "      display: none;\n",
       "      fill: #1967D2;\n",
       "      height: 32px;\n",
       "      padding: 0 0 0 0;\n",
       "      width: 32px;\n",
       "    }\n",
       "\n",
       "    .colab-df-convert:hover {\n",
       "      background-color: #E2EBFA;\n",
       "      box-shadow: 0px 1px 2px rgba(60, 64, 67, 0.3), 0px 1px 3px 1px rgba(60, 64, 67, 0.15);\n",
       "      fill: #174EA6;\n",
       "    }\n",
       "\n",
       "    [theme=dark] .colab-df-convert {\n",
       "      background-color: #3B4455;\n",
       "      fill: #D2E3FC;\n",
       "    }\n",
       "\n",
       "    [theme=dark] .colab-df-convert:hover {\n",
       "      background-color: #434B5C;\n",
       "      box-shadow: 0px 1px 3px 1px rgba(0, 0, 0, 0.15);\n",
       "      filter: drop-shadow(0px 1px 2px rgba(0, 0, 0, 0.3));\n",
       "      fill: #FFFFFF;\n",
       "    }\n",
       "  </style>\n",
       "\n",
       "      <script>\n",
       "        const buttonEl =\n",
       "          document.querySelector('#df-86c3f00e-fa74-4646-9819-251fbe32532a button.colab-df-convert');\n",
       "        buttonEl.style.display =\n",
       "          google.colab.kernel.accessAllowed ? 'block' : 'none';\n",
       "\n",
       "        async function convertToInteractive(key) {\n",
       "          const element = document.querySelector('#df-86c3f00e-fa74-4646-9819-251fbe32532a');\n",
       "          const dataTable =\n",
       "            await google.colab.kernel.invokeFunction('convertToInteractive',\n",
       "                                                     [key], {});\n",
       "          if (!dataTable) return;\n",
       "\n",
       "          const docLinkHtml = 'Like what you see? Visit the ' +\n",
       "            '<a target=\"_blank\" href=https://colab.research.google.com/notebooks/data_table.ipynb>data table notebook</a>'\n",
       "            + ' to learn more about interactive tables.';\n",
       "          element.innerHTML = '';\n",
       "          dataTable['output_type'] = 'display_data';\n",
       "          await google.colab.output.renderOutput(dataTable, element);\n",
       "          const docLink = document.createElement('div');\n",
       "          docLink.innerHTML = docLinkHtml;\n",
       "          element.appendChild(docLink);\n",
       "        }\n",
       "      </script>\n",
       "    </div>\n",
       "  </div>\n",
       "  "
      ],
      "text/plain": [
       "Predicted:  negative  positive\n",
       "True:                         \n",
       "negative        1386       938\n",
       "positive         239      7437"
      ]
     },
     "execution_count": 90,
     "metadata": {},
     "output_type": "execute_result"
    }
   ],
   "source": [
    "pd.crosstab(pd.Series(sa_df_random['sentiment'].reset_index(drop=True)),pd.Series(VADER_polarity_test_df['VADER Polarity']),\n",
    "            rownames = ['True:'], \n",
    "            colnames = ['Predicted:'])"
   ]
  },
  {
   "cell_type": "markdown",
   "metadata": {
    "id": "W5GLOho0f6-x"
   },
   "source": [
    "# Sentiment Analysis - Logistic Regression"
   ]
  },
  {
   "cell_type": "code",
   "execution_count": null,
   "metadata": {
    "colab": {
     "base_uri": "https://localhost:8080/"
    },
    "id": "TTC1eq_Nz3Va",
    "outputId": "c5596a63-dcc7-4ec5-f7a8-026c8cf2bc96"
   },
   "outputs": [
    {
     "name": "stdout",
     "output_type": "stream",
     "text": [
      "Collecting scikit-learn==0.24.1\n",
      "  Downloading scikit_learn-0.24.1-cp37-cp37m-manylinux2010_x86_64.whl (22.3 MB)\n",
      "\u001b[K     |████████████████████████████████| 22.3 MB 1.4 MB/s \n",
      "\u001b[?25hRequirement already satisfied: scipy>=0.19.1 in /usr/local/lib/python3.7/dist-packages (from scikit-learn==0.24.1) (1.4.1)\n",
      "Requirement already satisfied: numpy>=1.13.3 in /usr/local/lib/python3.7/dist-packages (from scikit-learn==0.24.1) (1.19.5)\n",
      "Requirement already satisfied: threadpoolctl>=2.0.0 in /usr/local/lib/python3.7/dist-packages (from scikit-learn==0.24.1) (3.0.0)\n",
      "Requirement already satisfied: joblib>=0.11 in /usr/local/lib/python3.7/dist-packages (from scikit-learn==0.24.1) (1.1.0)\n",
      "Installing collected packages: scikit-learn\n",
      "  Attempting uninstall: scikit-learn\n",
      "    Found existing installation: scikit-learn 1.0.1\n",
      "    Uninstalling scikit-learn-1.0.1:\n",
      "      Successfully uninstalled scikit-learn-1.0.1\n",
      "Successfully installed scikit-learn-0.24.1\n",
      "Mounted at /content/drive\n"
     ]
    }
   ],
   "source": [
    "!pip install scikit-learn==0.24.1\n",
    "#preparation\n",
    "from pydrive.auth import GoogleAuth\n",
    "from pydrive.drive import GoogleDrive\n",
    "from google.colab import auth\n",
    "from oauth2client.client import GoogleCredentials\n",
    "from google.colab import drive\n",
    "drive.mount('/content/drive')\n",
    "import numpy as np\n",
    "import pandas as pd\n",
    "import matplotlib.pyplot as plt\n",
    "import seaborn as snsq\n",
    "import statsmodels\n",
    "import sklearn \n",
    "import nltk\n",
    "import json\n",
    "import numpy as np"
   ]
  },
  {
   "cell_type": "code",
   "execution_count": null,
   "metadata": {
    "id": "tXUo7nOTO9Zr"
   },
   "outputs": [],
   "source": [
    "#data loading\n",
    "def load_data(filepath):\n",
    "    data = []\n",
    "    # Open file and read in line by line\n",
    "    with open(filepath, encoding=\"utf-8\") as file:\n",
    "        for line in file:\n",
    "            # Strip out trailing whitespace at the end of the line\n",
    "            data.append(json.loads(line.rstrip()))\n",
    "    return data\n",
    "\n",
    "\n",
    "review_data = load_data('/content/drive/MyDrive/DAT 562 Project/yelp_academic_dataset_review.json')\n",
    "business_data = load_data('/content/drive/MyDrive/DAT 562 Project/yelp_academic_dataset_business.json')\n",
    "review_data = pd.DataFrame.from_dict(review_data)\n",
    "business_data = pd.DataFrame.from_dict(business_data)\n",
    "business_data = business_data.drop(columns=[\"stars\",\"type\"])\n",
    "df_big=pd.merge(review_data,business_data,how=\"left\",left_on=\"business_id\",right_on=\"business_id\")\n",
    "df_big[\"restaurant\"]=df_big.categories.apply(lambda x: 1 if x is not None and \"Restaurants\" in x else 0)\n",
    "df_review = df_big[df_big['restaurant'] == 1]\n"
   ]
  },
  {
   "cell_type": "code",
   "execution_count": null,
   "metadata": {
    "colab": {
     "base_uri": "https://localhost:8080/"
    },
    "id": "rp-c2SK7MeAx",
    "outputId": "31d8c05c-ffd6-465c-f6d5-a2dd7f836606"
   },
   "outputs": [
    {
     "name": "stderr",
     "output_type": "stream",
     "text": [
      "/usr/local/lib/python3.7/dist-packages/ipykernel_launcher.py:6: SettingWithCopyWarning: \n",
      "A value is trying to be set on a copy of a slice from a DataFrame.\n",
      "Try using .loc[row_indexer,col_indexer] = value instead\n",
      "\n",
      "See the caveats in the documentation: https://pandas.pydata.org/pandas-docs/stable/user_guide/indexing.html#returning-a-view-versus-a-copy\n",
      "  \n"
     ]
    }
   ],
   "source": [
    "# Polarity: We make score 4,5 to  positive (1) and score 1,2 to  negtive(0)\n",
    "def sentiment_assign(x):\n",
    "  if x ==3:\n",
    "    return None\n",
    "  return 1 if x > 2 else 0\n",
    "df_review['sentiment'] = df_review[\"stars\"].apply( sentiment_assign )\n"
   ]
  },
  {
   "cell_type": "code",
   "execution_count": null,
   "metadata": {
    "colab": {
     "base_uri": "https://localhost:8080/"
    },
    "id": "ttw-oCKKPrcB",
    "outputId": "01cfb01a-e0cc-446f-f58f-7a59a56a7ca7"
   },
   "outputs": [
    {
     "name": "stdout",
     "output_type": "stream",
     "text": [
      "1.0    1672766\n",
      "0.0     528134\n",
      "Name: sentiment, dtype: int64\n"
     ]
    },
    {
     "data": {
      "text/plain": [
       "1.0    10000\n",
       "0.0    10000\n",
       "Name: sentiment, dtype: int64"
      ]
     },
     "execution_count": 35,
     "metadata": {},
     "output_type": "execute_result"
    }
   ],
   "source": [
    "# fill in NA\n",
    "empty_text = (df_review['text'].isnull() \\\n",
    "            | df_review['sentiment'].isnull())\n",
    "df_review = df_review[~empty_text]\n",
    "print(df_review['sentiment'].value_counts())\n",
    "\n",
    "#Umbalence data preprocess - unsample data with 10,000 data for each sentiment level \n",
    "def sample_data(n):\n",
    "    return pd.concat([df_review[df_review['sentiment'] == i].head(n) for i in range(0,2)])\n",
    "df_resample = sample_data(10000)\n",
    "\n",
    "df_resample['sentiment'].value_counts()"
   ]
  },
  {
   "cell_type": "code",
   "execution_count": null,
   "metadata": {
    "colab": {
     "base_uri": "https://localhost:8080/"
    },
    "id": "EdiCZkdIP7K6",
    "outputId": "d9cd77aa-4dbf-41e4-95a7-fb635e66f832"
   },
   "outputs": [
    {
     "data": {
      "text/plain": [
       "review_id                                  6-hKBi-6RC3g7Mft0c-6qw\n",
       "user_id                                    PmgqNO0-5Y3e3UoR61TD7w\n",
       "business_id                                4P-vTvE6cncJyUyLh73pxw\n",
       "stars                                                           4\n",
       "date                                                   2014-03-29\n",
       "text            This place is a area staple! Been around for y...\n",
       "useful                                                          0\n",
       "funny                                                           0\n",
       "cool                                                            0\n",
       "type                                                       review\n",
       "name                                          London Pickle Works\n",
       "neighborhood                                                     \n",
       "address                                         7265 Fitzwater Rd\n",
       "city                                                  Brecksville\n",
       "state                                                          OH\n",
       "postal_code                                                 44141\n",
       "latitude                                                  41.3403\n",
       "longitude                                                 -81.627\n",
       "review_count                                                   23\n",
       "is_open                                                         1\n",
       "attributes      [Alcohol: full_bar, Ambience: {'romantic': Fal...\n",
       "categories      [Nightlife, American (Traditional), Pubs, Rest...\n",
       "hours           [Monday 11:0-2:0, Tuesday 11:0-2:0, Wednesday ...\n",
       "restaurant                                                      1\n",
       "sentiment                                                       1\n",
       "Name: 31, dtype: object"
      ]
     },
     "execution_count": 36,
     "metadata": {},
     "output_type": "execute_result"
    }
   ],
   "source": [
    "from gensim.utils import simple_preprocess \n",
    "df_resample['prep'] = df_resample['text'].apply(simple_preprocess)\n",
    "\n",
    "\n",
    "#Stemming words and case lower\n",
    "from gensim.parsing.porter import PorterStemmer\n",
    "def stem(ws):\n",
    "  return [PorterStemmer().stem(w) for w in ws]\n",
    "df_resample['prep'] = df_resample['prep'].apply(stem)\n",
    "\n",
    "#join word list to sentence\n",
    "def toSentence(x):\n",
    "  return \" \".join(x)\n",
    "\n",
    "df_resample['clean'] = df_resample['prep'].apply(toSentence)\n",
    "\n",
    "df_resample['clean'].head()\n",
    "df_review.iloc[0]\n"
   ]
  },
  {
   "cell_type": "code",
   "execution_count": null,
   "metadata": {
    "colab": {
     "base_uri": "https://localhost:8080/"
    },
    "id": "0A2TK8WpQOFZ",
    "outputId": "dff09297-81c8-4e2e-d834-20cb0ba3d6b7"
   },
   "outputs": [
    {
     "name": "stdout",
     "output_type": "stream",
     "text": [
      "Term frequency (training)\n",
      "0.0    8033\n",
      "1.0    7967\n",
      "Name: sentiment, dtype: int64\n",
      "Term frequency (testing)\n",
      "1.0    2033\n",
      "0.0    1967\n",
      "Name: sentiment, dtype: int64\n",
      "Unmmmm, no. It's a bar with tables in the next room. It's feels grungy. Service was good, food, not so much. Praying I don't get sick!\n",
      "Everything tasted like it came from a can! Nothing fresh or tasty about it. \n",
      "Guess who won't be back?\n"
     ]
    }
   ],
   "source": [
    "#split data into train and test sets\n",
    "from sklearn.model_selection import train_test_split\n",
    "def split_train_test(data, test_size=0.2, shuffle_state = True):\n",
    "    FEATURES = ['clean',\"stars\",\"useful\",\"cool\"]\n",
    "    X_train, X_test, Y_train, Y_test = train_test_split(\n",
    "                                                        data[FEATURES],\n",
    "                                                        data['sentiment'], \n",
    "                                                        shuffle = shuffle_state,\n",
    "                                                        test_size = test_size, \n",
    "                                                        random_state = 24)\n",
    "\n",
    "    print(\"Term frequency (training)\")\n",
    "    print(Y_train.value_counts())\n",
    "    print(\"Term frequency (testing)\")\n",
    "    print(Y_test.value_counts())\n",
    "    \n",
    "    X_train = X_train.reset_index()\n",
    "    X_test = X_test.reset_index()\n",
    "    Y_train = Y_train.to_frame()    \n",
    "    Y_train = Y_train.reset_index()\n",
    "    Y_test = Y_test.to_frame()\n",
    "    Y_test = Y_test.reset_index()\n",
    "  \n",
    "    \n",
    "    return X_train, X_test, Y_train, Y_test\n",
    "\n",
    "# Call the train_test_split\n",
    "X_train, X_test, Y_train, Y_test = split_train_test(df_resample)\n",
    "\n",
    "#TF-IDF\n",
    "from sklearn.feature_extraction.text import TfidfVectorizer\n",
    "from nltk.corpus import words\n",
    "params = {\n",
    "          \"ngram_range\" : (1,3),\n",
    "          \"max_features\" : 10000,\n",
    "          \"stop_words\" :\"english\"\n",
    "}\n",
    "tfidf = TfidfVectorizer(**params)\n",
    "\n",
    "# print(X_train['stem_tokens'])\n",
    "train_tv = tfidf.fit_transform(X_train['clean'])\n",
    "test_tv = tfidf.transform(X_test['clean'])\n",
    "vocab = tfidf.get_feature_names()\n",
    "\n",
    "\n",
    "dist = np.sum(train_tv, axis=0)\n",
    "checking = pd.DataFrame(dist, columns = vocab)\n",
    "checking\n",
    "\n",
    "df_resample.iloc[0]\n",
    "print(df_resample['text'].iloc[1])\n",
    "\n",
    "\n"
   ]
  },
  {
   "cell_type": "code",
   "execution_count": null,
   "metadata": {
    "colab": {
     "base_uri": "https://localhost:8080/",
     "height": 575
    },
    "id": "jFQcCcQOQ-Qa",
    "outputId": "c9b6f44f-69b2-4f28-aaaa-b07a47e3b531"
   },
   "outputs": [
    {
     "data": {
      "image/png": "[encoded data removed]",
      "text/plain": [
       "<Figure size 1080x720 with 1 Axes>"
      ]
     },
     "metadata": {
      "needs_background": "light"
     },
     "output_type": "display_data"
    }
   ],
   "source": [
    "#generate word cloud\n",
    "from wordcloud import WordCloud, STOPWORDS\n",
    "import matplotlib.pyplot as plt\n",
    "import seaborn as sns\n",
    "from scipy import stats\n",
    "\n",
    "# %matplotlib inline\n",
    "def cloud(data,backgroundcolor = 'white', width = 800, height = 600):\n",
    "    wordcloud = WordCloud(stopwords = STOPWORDS, background_color = backgroundcolor,\n",
    "                         width = width, height = height).generate(data)\n",
    "    plt.figure(figsize = (15, 10))\n",
    "    plt.imshow(wordcloud)\n",
    "    plt.axis(\"off\")\n",
    "    plt.show()\n",
    "\n",
    "cloud(' '.join(X_train['clean']))"
   ]
  },
  {
   "cell_type": "code",
   "execution_count": null,
   "metadata": {
    "colab": {
     "base_uri": "https://localhost:8080/",
     "height": 752
    },
    "id": "VJJHuN8oRPev",
    "outputId": "72d8ea6c-e178-4218-d65f-d2c9b0464ebe"
   },
   "outputs": [
    {
     "name": "stderr",
     "output_type": "stream",
     "text": [
      "/usr/local/lib/python3.7/dist-packages/seaborn/distributions.py:2619: FutureWarning: `distplot` is a deprecated function and will be removed in a future version. Please adapt your code to use either `displot` (a figure-level function with similar flexibility) or `histplot` (an axes-level function for histograms).\n",
      "  warnings.warn(msg, FutureWarning)\n"
     ]
    },
    {
     "name": "stdout",
     "output_type": "stream",
     "text": [
      "median of word frequency:  86.0\n"
     ]
    },
    {
     "name": "stderr",
     "output_type": "stream",
     "text": [
      "/usr/local/lib/python3.7/dist-packages/seaborn/distributions.py:2619: FutureWarning: `distplot` is a deprecated function and will be removed in a future version. Please adapt your code to use either `displot` (a figure-level function with similar flexibility) or `histplot` (an axes-level function for histograms).\n",
      "  warnings.warn(msg, FutureWarning)\n"
     ]
    },
    {
     "name": "stdout",
     "output_type": "stream",
     "text": [
      "median of uniuqe word frequency:  64.0\n"
     ]
    },
    {
     "data": {
      "image/png": "[encoded data removed]",
      "text/plain": [
       "<Figure size 1440x720 with 2 Axes>"
      ]
     },
     "metadata": {
      "needs_background": "light"
     },
     "output_type": "display_data"
    }
   ],
   "source": [
    "#word disdribution\n",
    "#Observe distribution\n",
    "\n",
    "X_train['freq_word'] = X_train['clean'].apply(lambda x: len(str(x).split()))\n",
    "X_train['unique_freq_word'] = X_train['clean'].apply(lambda x: len(set(str(x).split())))\n",
    "                                                 \n",
    "X_test['freq_word'] = X_test['clean'].apply(lambda x: len(str(x).split()))\n",
    "X_test['unique_freq_word'] = X_test['clean'].apply(lambda x: len(set(str(x).split())))                  \n",
    "\n",
    "fig, axes = plt.subplots(ncols=2)\n",
    "fig.set_size_inches(20,10)\n",
    "\n",
    "sns.distplot(X_train['freq_word'], bins = 90, ax=axes[0], fit = stats.norm)\n",
    "(mu0, sigma0) = stats.norm.fit(X_train['freq_word'])\n",
    "axes[0].legend(['Normal dist. ($\\mu=$ {:.2f} and $\\sigma=$ {:.2f} )'.format(mu0, sigma0)],loc='best')\n",
    "axes[0].set_title(\"Distribution Word Frequency\")\n",
    "axes[0].axvline(X_train['freq_word'].median(), linestyle='dashed')\n",
    "print(\"median of word frequency: \", X_train['freq_word'].median())\n",
    "\n",
    "\n",
    "sns.distplot(X_train['unique_freq_word'], bins = 90, ax=axes[1], color = 'r', fit = stats.norm)\n",
    "(mu1, sigma1) = stats.norm.fit(X_train['unique_freq_word'])\n",
    "axes[1].set_title(\"Distribution Unique Word Frequency\")\n",
    "axes[1].legend(['Normal dist. ($\\mu=$ {:.2f} and $\\sigma=$ {:.2f} )'.format(mu1, sigma1)],loc='best')\n",
    "axes[1].axvline(X_train['unique_freq_word'].median(), linestyle='dashed')\n",
    "print(\"median of uniuqe word frequency: \", X_train['unique_freq_word'].median())\n",
    "\n",
    "#Modeling - TF-iDF data is high dim and spare data. linear model like  SVM would be the better chioces rather than tree method\n"
   ]
  },
  {
   "cell_type": "code",
   "execution_count": null,
   "metadata": {
    "id": "3FVPYjFWRdgv"
   },
   "outputs": [],
   "source": [
    "#preparation for model fitting\n",
    "from sklearn.model_selection import GridSearchCV, StratifiedKFold, learning_curve\n",
    "\n",
    "from sklearn.linear_model import LogisticRegression\n",
    "\n",
    "kfold = StratifiedKFold( n_splits = 10 , random_state = 24,shuffle=True )"
   ]
  },
  {
   "cell_type": "code",
   "execution_count": null,
   "metadata": {
    "colab": {
     "base_uri": "https://localhost:8080/",
     "height": 1000
    },
    "id": "KaOe55AXTM0u",
    "outputId": "65fb6f86-9da7-49bf-9f4f-0778c4ae8256"
   },
   "outputs": [
    {
     "name": "stdout",
     "output_type": "stream",
     "text": [
      "Fitting 10 folds for each of 1 candidates, totalling 10 fits\n"
     ]
    },
    {
     "name": "stderr",
     "output_type": "stream",
     "text": [
      "/usr/local/lib/python3.7/dist-packages/sklearn/linear_model/_logistic.py:765: ConvergenceWarning: lbfgs failed to converge (status=1):\n",
      "STOP: TOTAL NO. of ITERATIONS REACHED LIMIT.\n",
      "\n",
      "Increase the number of iterations (max_iter) or scale the data as shown in:\n",
      "    https://scikit-learn.org/stable/modules/preprocessing.html\n",
      "Please also refer to the documentation for alternative solver options:\n",
      "    https://scikit-learn.org/stable/modules/linear_model.html#logistic-regression\n",
      "  extra_warning_msg=_LOGISTIC_SOLVER_CONVERGENCE_MSG)\n",
      "/usr/local/lib/python3.7/dist-packages/sklearn/linear_model/_logistic.py:765: ConvergenceWarning: lbfgs failed to converge (status=1):\n",
      "STOP: TOTAL NO. of ITERATIONS REACHED LIMIT.\n",
      "\n",
      "Increase the number of iterations (max_iter) or scale the data as shown in:\n",
      "    https://scikit-learn.org/stable/modules/preprocessing.html\n",
      "Please also refer to the documentation for alternative solver options:\n",
      "    https://scikit-learn.org/stable/modules/linear_model.html#logistic-regression\n",
      "  extra_warning_msg=_LOGISTIC_SOLVER_CONVERGENCE_MSG)\n",
      "/usr/local/lib/python3.7/dist-packages/sklearn/linear_model/_logistic.py:765: ConvergenceWarning: lbfgs failed to converge (status=1):\n",
      "STOP: TOTAL NO. of ITERATIONS REACHED LIMIT.\n",
      "\n",
      "Increase the number of iterations (max_iter) or scale the data as shown in:\n",
      "    https://scikit-learn.org/stable/modules/preprocessing.html\n",
      "Please also refer to the documentation for alternative solver options:\n",
      "    https://scikit-learn.org/stable/modules/linear_model.html#logistic-regression\n",
      "  extra_warning_msg=_LOGISTIC_SOLVER_CONVERGENCE_MSG)\n",
      "/usr/local/lib/python3.7/dist-packages/sklearn/linear_model/_logistic.py:765: ConvergenceWarning: lbfgs failed to converge (status=1):\n",
      "STOP: TOTAL NO. of ITERATIONS REACHED LIMIT.\n",
      "\n",
      "Increase the number of iterations (max_iter) or scale the data as shown in:\n",
      "    https://scikit-learn.org/stable/modules/preprocessing.html\n",
      "Please also refer to the documentation for alternative solver options:\n",
      "    https://scikit-learn.org/stable/modules/linear_model.html#logistic-regression\n",
      "  extra_warning_msg=_LOGISTIC_SOLVER_CONVERGENCE_MSG)\n",
      "/usr/local/lib/python3.7/dist-packages/sklearn/linear_model/_logistic.py:765: ConvergenceWarning: lbfgs failed to converge (status=1):\n",
      "STOP: TOTAL NO. of ITERATIONS REACHED LIMIT.\n",
      "\n",
      "Increase the number of iterations (max_iter) or scale the data as shown in:\n",
      "    https://scikit-learn.org/stable/modules/preprocessing.html\n",
      "Please also refer to the documentation for alternative solver options:\n",
      "    https://scikit-learn.org/stable/modules/linear_model.html#logistic-regression\n",
      "  extra_warning_msg=_LOGISTIC_SOLVER_CONVERGENCE_MSG)\n",
      "/usr/local/lib/python3.7/dist-packages/sklearn/linear_model/_logistic.py:765: ConvergenceWarning: lbfgs failed to converge (status=1):\n",
      "STOP: TOTAL NO. of ITERATIONS REACHED LIMIT.\n",
      "\n",
      "Increase the number of iterations (max_iter) or scale the data as shown in:\n",
      "    https://scikit-learn.org/stable/modules/preprocessing.html\n",
      "Please also refer to the documentation for alternative solver options:\n",
      "    https://scikit-learn.org/stable/modules/linear_model.html#logistic-regression\n",
      "  extra_warning_msg=_LOGISTIC_SOLVER_CONVERGENCE_MSG)\n",
      "/usr/local/lib/python3.7/dist-packages/sklearn/linear_model/_logistic.py:765: ConvergenceWarning: lbfgs failed to converge (status=1):\n",
      "STOP: TOTAL NO. of ITERATIONS REACHED LIMIT.\n",
      "\n",
      "Increase the number of iterations (max_iter) or scale the data as shown in:\n",
      "    https://scikit-learn.org/stable/modules/preprocessing.html\n",
      "Please also refer to the documentation for alternative solver options:\n",
      "    https://scikit-learn.org/stable/modules/linear_model.html#logistic-regression\n",
      "  extra_warning_msg=_LOGISTIC_SOLVER_CONVERGENCE_MSG)\n",
      "/usr/local/lib/python3.7/dist-packages/sklearn/linear_model/_logistic.py:765: ConvergenceWarning: lbfgs failed to converge (status=1):\n",
      "STOP: TOTAL NO. of ITERATIONS REACHED LIMIT.\n",
      "\n",
      "Increase the number of iterations (max_iter) or scale the data as shown in:\n",
      "    https://scikit-learn.org/stable/modules/preprocessing.html\n",
      "Please also refer to the documentation for alternative solver options:\n",
      "    https://scikit-learn.org/stable/modules/linear_model.html#logistic-regression\n",
      "  extra_warning_msg=_LOGISTIC_SOLVER_CONVERGENCE_MSG)\n",
      "/usr/local/lib/python3.7/dist-packages/sklearn/linear_model/_logistic.py:765: ConvergenceWarning: lbfgs failed to converge (status=1):\n",
      "STOP: TOTAL NO. of ITERATIONS REACHED LIMIT.\n",
      "\n",
      "Increase the number of iterations (max_iter) or scale the data as shown in:\n",
      "    https://scikit-learn.org/stable/modules/preprocessing.html\n",
      "Please also refer to the documentation for alternative solver options:\n",
      "    https://scikit-learn.org/stable/modules/linear_model.html#logistic-regression\n",
      "  extra_warning_msg=_LOGISTIC_SOLVER_CONVERGENCE_MSG)\n",
      "/usr/local/lib/python3.7/dist-packages/sklearn/linear_model/_logistic.py:765: ConvergenceWarning: lbfgs failed to converge (status=1):\n",
      "STOP: TOTAL NO. of ITERATIONS REACHED LIMIT.\n",
      "\n",
      "Increase the number of iterations (max_iter) or scale the data as shown in:\n",
      "    https://scikit-learn.org/stable/modules/preprocessing.html\n",
      "Please also refer to the documentation for alternative solver options:\n",
      "    https://scikit-learn.org/stable/modules/linear_model.html#logistic-regression\n",
      "  extra_warning_msg=_LOGISTIC_SOLVER_CONVERGENCE_MSG)\n",
      "/usr/local/lib/python3.7/dist-packages/sklearn/linear_model/_logistic.py:765: ConvergenceWarning: lbfgs failed to converge (status=1):\n",
      "STOP: TOTAL NO. of ITERATIONS REACHED LIMIT.\n",
      "\n",
      "Increase the number of iterations (max_iter) or scale the data as shown in:\n",
      "    https://scikit-learn.org/stable/modules/preprocessing.html\n",
      "Please also refer to the documentation for alternative solver options:\n",
      "    https://scikit-learn.org/stable/modules/linear_model.html#logistic-regression\n",
      "  extra_warning_msg=_LOGISTIC_SOLVER_CONVERGENCE_MSG)\n"
     ]
    },
    {
     "name": "stdout",
     "output_type": "stream",
     "text": [
      "{'C': 5, 'class_weight': {1: 1}, 'penalty': 'l2', 'solver': 'lbfgs'}\n",
      "0.9707313686272283\n"
     ]
    },
    {
     "data": {
      "image/png": "[encoded data removed]",
      "text/plain": [
       "<Figure size 1800x720 with 1 Axes>"
      ]
     },
     "metadata": {
      "needs_background": "light"
     },
     "output_type": "display_data"
    }
   ],
   "source": [
    "# Logistic Regression model\n",
    "lr = LogisticRegression(random_state = 24)\n",
    "\n",
    "lr2_param = {\n",
    "    'penalty':['l2'],\n",
    "    'C':[5],\n",
    "    'class_weight':[{1:1}],\n",
    "    'solver':['lbfgs'],\n",
    "    }\n",
    "\n",
    "lr_CV = GridSearchCV(lr, param_grid = [lr2_param], cv = kfold, scoring = 'roc_auc', n_jobs = 1, verbose = 1)\n",
    "lr_CV.fit(train_tv, Y_train['sentiment'])\n",
    "print(lr_CV.best_params_)\n",
    "logi_best = lr_CV.best_estimator_\n",
    "\n",
    "\n",
    "print(lr_CV.best_score_)\n",
    "\n",
    "# Extract the coefficients from the best model Logistic Regression and sort them by index.\n",
    "coefficients = logi_best.coef_\n",
    "index = coefficients.argsort()\n",
    "\n",
    "# Extract the feature names.\n",
    "feature_names = np.array(tfidf.get_feature_names())\n",
    "\n",
    "feature_names[index][0][:30]\n",
    "\n",
    "feature_names[index][0][-30::]\n",
    "\n",
    "index_comb = list(coefficients[0][index[0][:30]]) + list(coefficients[0][index[0][-30::]])\n",
    "feature_names = list(feature_names[index][0][:30]) + list(feature_names[index][0][-30::])\n",
    "plt.figure(figsize=(25,10))\n",
    "barlist = plt.bar(list(i for i in range(60)), index_comb)\n",
    "plt.xticks(list(i for i in range(61)) , feature_names, rotation=60 , size=15)\n",
    "plt.ylabel('Coefficient magnitude',size=20)\n",
    "plt.xlabel('Features',size=20)\n",
    "\n",
    "# color the first smallest 30 bars red\n",
    "for i in range(30):\n",
    "    barlist[i].set_color('orange')\n",
    "\n",
    "plt.show()\n"
   ]
  },
  {
   "cell_type": "code",
   "execution_count": null,
   "metadata": {
    "colab": {
     "base_uri": "https://localhost:8080/"
    },
    "id": "FoYmTBMINJbD",
    "outputId": "c290ba75-f4ed-480d-c760-bae1827b069a"
   },
   "outputs": [
    {
     "name": "stdout",
     "output_type": "stream",
     "text": [
      "Train accuracy: 0.9736875\n",
      "Test accuracy: 0.9165\n"
     ]
    }
   ],
   "source": [
    "# LR evaluation\n",
    "train_predict = logi_best.predict(train_tv)\n",
    "test_predict = logi_best.predict(test_tv)\n",
    "acc_train= sum(train_predict==Y_train['sentiment'])/len(train_predict)\n",
    "acc_test= sum(test_predict==Y_test['sentiment'])/len(test_predict)\n",
    "print(\"Train accuracy:\",acc_train)\n",
    "print(\"Test accuracy:\",acc_test)"
   ]
  },
  {
   "cell_type": "markdown",
   "metadata": {
    "id": "rNg4eVmhgVvG"
   },
   "source": [
    "# Bigram Network"
   ]
  },
  {
   "cell_type": "code",
   "execution_count": null,
   "metadata": {
    "id": "q0Yqy2n0qMHW"
   },
   "outputs": [],
   "source": [
    "#preparation\n",
    "from pydrive.auth import GoogleAuth\n",
    "from pydrive.drive import GoogleDrive\n",
    "from google.colab import auth\n",
    "from oauth2client.client import GoogleCredentials\n",
    "from google.colab import drive\n",
    "drive.mount('/content/drive')\n",
    "import numpy as np\n",
    "import pandas as pd\n",
    "import matplotlib.pyplot as plt\n",
    "import seaborn as snsq\n",
    "import statsmodels\n",
    "import sklearn \n",
    "import nltk\n",
    "import json\n",
    "import numpy as np\n",
    "\n",
    "#data loading\n",
    "def load_data(filepath):\n",
    "    data = []\n",
    "    # Open file and read in line by line\n",
    "    with open(filepath, encoding=\"utf-8\") as file:\n",
    "        for line in file:\n",
    "            # Strip out trailing whitespace at the end of the line\n",
    "            data.append(json.loads(line.rstrip()))\n",
    "    return data\n",
    "\n",
    "\n",
    "review_data = load_data('/content/drive/MyDrive/DAT 562 Project/yelp_academic_dataset_review.json')\n",
    "business_data = load_data('/content/drive/MyDrive/DAT 562 Project/yelp_academic_dataset_business.json')\n",
    "review_data = pd.DataFrame.from_dict(review_data)\n",
    "business_data = pd.DataFrame.from_dict(business_data)\n",
    "business_data = business_data.drop(columns=[\"stars\",\"type\"])\n",
    "df_big=pd.merge(review_data,business_data,how=\"left\",left_on=\"business_id\",right_on=\"business_id\")\n",
    "df_big[\"restaurant\"]=df_big.categories.apply(lambda x: 1 if x is not None and \"Restaurants\" in x else 0)\n",
    "df_review = df_big[df_big['restaurant'] == 1]\n"
   ]
  },
  {
   "cell_type": "code",
   "execution_count": null,
   "metadata": {
    "id": "cyCg6eLrq8xh"
   },
   "outputs": [],
   "source": [
    "#filter out the most popular restaurant\n",
    "Popular = df_review[df_review['business_id']==bid_pop] "
   ]
  },
  {
   "cell_type": "code",
   "execution_count": null,
   "metadata": {
    "id": "OGhKwR9qqwck"
   },
   "outputs": [],
   "source": [
    "# use bigram to analyze co-occurence words\n",
    "import nltk\n",
    "from nltk import bigrams\n",
    "from nltk.corpus import stopwords\n",
    "from nltk import sent_tokenize, word_tokenize\n",
    "from collections import Counter\n",
    "import re\n",
    "import networkx as nx\n",
    "import warnings\n",
    "warnings.filterwarnings(\"ignore\")\n",
    "\n"
   ]
  },
  {
   "cell_type": "code",
   "execution_count": null,
   "metadata": {
    "colab": {
     "base_uri": "https://localhost:8080/",
     "height": 70
    },
    "id": "3ZJtrqTwylpw",
    "outputId": "445a200d-e952-44ce-d313-e2c39bff464e"
   },
   "outputs": [
    {
     "data": {
      "application/vnd.google.colaboratory.intrinsic+json": {
       "type": "string"
      },
      "text/plain": [
       "'Great ambiance, great service , great food. Love, love this place. I also appreciate that they have a gluten free menu and gave gluten free bread with the best olives I have had.\\nI ordered the strak classique with cooked spinachand it was really tender and absolutely delicious. I will come back and try their other dishes.'"
      ]
     },
     "execution_count": 37,
     "metadata": {},
     "output_type": "execute_result"
    }
   ],
   "source": [
    "review_text = Popular[\"text\"].tolist()\n",
    "review_text[2]"
   ]
  },
  {
   "cell_type": "code",
   "execution_count": null,
   "metadata": {
    "colab": {
     "base_uri": "https://localhost:8080/"
    },
    "id": "irwvvw5yw2mS",
    "outputId": "46e28507-fdf2-4a6b-c4d6-f318aa73e26d"
   },
   "outputs": [
    {
     "name": "stdout",
     "output_type": "stream",
     "text": [
      "[nltk_data] Downloading package punkt to /root/nltk_data...\n",
      "[nltk_data]   Package punkt is already up-to-date!\n",
      "[nltk_data] Downloading package stopwords to /root/nltk_data...\n",
      "[nltk_data]   Package stopwords is already up-to-date!\n",
      "[nltk_data] Downloading package wordnet to /root/nltk_data...\n",
      "[nltk_data]   Package wordnet is already up-to-date!\n"
     ]
    },
    {
     "data": {
      "text/plain": [
       "['great',\n",
       " 'ambiance',\n",
       " 'great',\n",
       " 'service',\n",
       " 'great',\n",
       " 'food',\n",
       " 'love',\n",
       " 'love',\n",
       " 'place',\n",
       " 'also',\n",
       " 'appreciate',\n",
       " 'gluten',\n",
       " 'free',\n",
       " 'menu',\n",
       " 'give',\n",
       " 'gluten',\n",
       " 'free',\n",
       " 'bread',\n",
       " 'best',\n",
       " 'olive',\n",
       " 'order',\n",
       " 'strak',\n",
       " 'classique',\n",
       " 'cook',\n",
       " 'spinachand',\n",
       " 'really',\n",
       " 'tender',\n",
       " 'absolutely',\n",
       " 'delicious',\n",
       " 'come',\n",
       " 'back',\n",
       " 'try',\n",
       " 'dish']"
      ]
     },
     "execution_count": 36,
     "metadata": {},
     "output_type": "execute_result"
    }
   ],
   "source": [
    "#tokenize review\n",
    "from nltk import sent_tokenize, word_tokenize\n",
    "from nltk.corpus import stopwords\n",
    "from nltk import WordNetLemmatizer\n",
    "nltk.download('punkt')\n",
    "nltk.download('stopwords')\n",
    "nltk.download('wordnet')\n",
    "\n",
    "\n",
    "def clean_text(text):\n",
    "    \"\"\"\n",
    "    This function takes as input a text on which several \n",
    "    NLTK algorithms will be applied in order to preprocess it\n",
    "    \"\"\"\n",
    "    tokens = word_tokenize(text)\n",
    "    # Remove the punctuations\n",
    "    tokens = [word for word in tokens if word.isalpha()]\n",
    "    # Lower the tokens\n",
    "    tokens = [word.lower() for word in tokens]\n",
    "    # Remove stopword\n",
    "    tokens = [word for word in tokens if not word in stopwords.words(\"english\")]\n",
    "    # Lemmatize\n",
    "    lemma = WordNetLemmatizer()\n",
    "    tokens = [lemma.lemmatize(word, pos = \"v\") for word in tokens]\n",
    "    tokens = [lemma.lemmatize(word, pos = \"n\") for word in tokens]\n",
    "    return tokens\n",
    "# clean_review = clean_text(review_text[2])\n",
    "# clean_review"
   ]
  },
  {
   "cell_type": "code",
   "execution_count": null,
   "metadata": {
    "id": "R_1fo66YAcHj"
   },
   "outputs": [],
   "source": [
    "# all_text = []\n",
    "# for i in range (len(review_text)):\n",
    "#   clean_review = clean_text(review_text[i])\n",
    "#   all_text.append(clean_review)\n",
    "# all_text  "
   ]
  },
  {
   "cell_type": "code",
   "execution_count": null,
   "metadata": {
    "id": "1Lp5Bku2Fg2Q"
   },
   "outputs": [],
   "source": [
    "text2 = []\n",
    "for i in range(len(review_text)):\n",
    "  unit_text2 = [word for word in review_text[i].split() if (word.isalpha() & (word not in stopwords.words(\"english\")))]\n",
    "  text2 += unit_text2"
   ]
  },
  {
   "cell_type": "code",
   "execution_count": null,
   "metadata": {
    "id": "0hqmuF2wRvEa"
   },
   "outputs": [],
   "source": [
    "# term_all = []\n",
    "# for i in range(len(review_text)):\n",
    "#     bbb = list(nltk.bigrams(text2[i]))\n",
    "#     term_all += bbb"
   ]
  },
  {
   "cell_type": "code",
   "execution_count": null,
   "metadata": {
    "id": "4ln_31-vLeQm"
   },
   "outputs": [],
   "source": []
  },
  {
   "cell_type": "code",
   "execution_count": null,
   "metadata": {
    "colab": {
     "base_uri": "https://localhost:8080/",
     "height": 1000
    },
    "id": "fS2NJIutLch3",
    "outputId": "f264f48b-f569-48bb-9426-eb1dac30a3a5"
   },
   "outputs": [
    {
     "data": {
      "text/html": [
       "<div>\n",
       "<style scoped>\n",
       "    .dataframe tbody tr th:only-of-type {\n",
       "        vertical-align: middle;\n",
       "    }\n",
       "\n",
       "    .dataframe tbody tr th {\n",
       "        vertical-align: top;\n",
       "    }\n",
       "\n",
       "    .dataframe thead th {\n",
       "        text-align: right;\n",
       "    }\n",
       "</style>\n",
       "<table border=\"1\" class=\"dataframe\">\n",
       "  <thead>\n",
       "    <tr style=\"text-align: right;\">\n",
       "      <th></th>\n",
       "      <th>bigram</th>\n",
       "      <th>count</th>\n",
       "    </tr>\n",
       "  </thead>\n",
       "  <tbody>\n",
       "    <tr>\n",
       "      <th>0</th>\n",
       "      <td>(Mon, Ami)</td>\n",
       "      <td>1522</td>\n",
       "    </tr>\n",
       "    <tr>\n",
       "      <th>1</th>\n",
       "      <td>(Ami, Gabi)</td>\n",
       "      <td>942</td>\n",
       "    </tr>\n",
       "    <tr>\n",
       "      <th>2</th>\n",
       "      <td>(I, would)</td>\n",
       "      <td>825</td>\n",
       "    </tr>\n",
       "    <tr>\n",
       "      <th>3</th>\n",
       "      <td>(I, ordered)</td>\n",
       "      <td>778</td>\n",
       "    </tr>\n",
       "    <tr>\n",
       "      <th>4</th>\n",
       "      <td>(The, food)</td>\n",
       "      <td>696</td>\n",
       "    </tr>\n",
       "    <tr>\n",
       "      <th>5</th>\n",
       "      <td>(view, Bellagio)</td>\n",
       "      <td>580</td>\n",
       "    </tr>\n",
       "    <tr>\n",
       "      <th>6</th>\n",
       "      <td>(The, service)</td>\n",
       "      <td>494</td>\n",
       "    </tr>\n",
       "    <tr>\n",
       "      <th>7</th>\n",
       "      <td>(I, think)</td>\n",
       "      <td>436</td>\n",
       "    </tr>\n",
       "    <tr>\n",
       "      <th>8</th>\n",
       "      <td>(onion, soup)</td>\n",
       "      <td>389</td>\n",
       "    </tr>\n",
       "    <tr>\n",
       "      <th>9</th>\n",
       "      <td>(I, love)</td>\n",
       "      <td>387</td>\n",
       "    </tr>\n",
       "    <tr>\n",
       "      <th>10</th>\n",
       "      <td>(time, I)</td>\n",
       "      <td>380</td>\n",
       "    </tr>\n",
       "    <tr>\n",
       "      <th>11</th>\n",
       "      <td>(This, place)</td>\n",
       "      <td>357</td>\n",
       "    </tr>\n",
       "    <tr>\n",
       "      <th>12</th>\n",
       "      <td>(I, got)</td>\n",
       "      <td>356</td>\n",
       "    </tr>\n",
       "    <tr>\n",
       "      <th>13</th>\n",
       "      <td>(Las, Vegas)</td>\n",
       "      <td>325</td>\n",
       "    </tr>\n",
       "    <tr>\n",
       "      <th>14</th>\n",
       "      <td>(Bellagio, fountains)</td>\n",
       "      <td>309</td>\n",
       "    </tr>\n",
       "    <tr>\n",
       "      <th>15</th>\n",
       "      <td>(I, went)</td>\n",
       "      <td>292</td>\n",
       "    </tr>\n",
       "    <tr>\n",
       "      <th>16</th>\n",
       "      <td>(We, ordered)</td>\n",
       "      <td>290</td>\n",
       "    </tr>\n",
       "    <tr>\n",
       "      <th>17</th>\n",
       "      <td>(I, really)</td>\n",
       "      <td>288</td>\n",
       "    </tr>\n",
       "    <tr>\n",
       "      <th>18</th>\n",
       "      <td>(come, back)</td>\n",
       "      <td>280</td>\n",
       "    </tr>\n",
       "    <tr>\n",
       "      <th>19</th>\n",
       "      <td>(The, steak)</td>\n",
       "      <td>274</td>\n",
       "    </tr>\n",
       "    <tr>\n",
       "      <th>20</th>\n",
       "      <td>(steak, frites)</td>\n",
       "      <td>267</td>\n",
       "    </tr>\n",
       "    <tr>\n",
       "      <th>21</th>\n",
       "      <td>(french, onion)</td>\n",
       "      <td>247</td>\n",
       "    </tr>\n",
       "    <tr>\n",
       "      <th>22</th>\n",
       "      <td>(I, could)</td>\n",
       "      <td>244</td>\n",
       "    </tr>\n",
       "    <tr>\n",
       "      <th>23</th>\n",
       "      <td>(go, back)</td>\n",
       "      <td>233</td>\n",
       "    </tr>\n",
       "    <tr>\n",
       "      <th>24</th>\n",
       "      <td>(Our, server)</td>\n",
       "      <td>230</td>\n",
       "    </tr>\n",
       "    <tr>\n",
       "      <th>25</th>\n",
       "      <td>(filet, mignon)</td>\n",
       "      <td>229</td>\n",
       "    </tr>\n",
       "    <tr>\n",
       "      <th>26</th>\n",
       "      <td>(sit, outside)</td>\n",
       "      <td>229</td>\n",
       "    </tr>\n",
       "    <tr>\n",
       "      <th>27</th>\n",
       "      <td>(I, know)</td>\n",
       "      <td>225</td>\n",
       "    </tr>\n",
       "    <tr>\n",
       "      <th>28</th>\n",
       "      <td>(I, also)</td>\n",
       "      <td>222</td>\n",
       "    </tr>\n",
       "    <tr>\n",
       "      <th>29</th>\n",
       "      <td>(water, show)</td>\n",
       "      <td>221</td>\n",
       "    </tr>\n",
       "    <tr>\n",
       "      <th>30</th>\n",
       "      <td>(I, I)</td>\n",
       "      <td>213</td>\n",
       "    </tr>\n",
       "    <tr>\n",
       "      <th>31</th>\n",
       "      <td>(people, watching)</td>\n",
       "      <td>213</td>\n",
       "    </tr>\n",
       "    <tr>\n",
       "      <th>32</th>\n",
       "      <td>(great, view)</td>\n",
       "      <td>212</td>\n",
       "    </tr>\n",
       "    <tr>\n",
       "      <th>33</th>\n",
       "      <td>(Bellagio, water)</td>\n",
       "      <td>210</td>\n",
       "    </tr>\n",
       "    <tr>\n",
       "      <th>34</th>\n",
       "      <td>(Bellagio, fountain)</td>\n",
       "      <td>207</td>\n",
       "    </tr>\n",
       "    <tr>\n",
       "      <th>35</th>\n",
       "      <td>(food, I)</td>\n",
       "      <td>204</td>\n",
       "    </tr>\n",
       "    <tr>\n",
       "      <th>36</th>\n",
       "      <td>(next, time)</td>\n",
       "      <td>202</td>\n",
       "    </tr>\n",
       "    <tr>\n",
       "      <th>37</th>\n",
       "      <td>(I, like)</td>\n",
       "      <td>201</td>\n",
       "    </tr>\n",
       "    <tr>\n",
       "      <th>38</th>\n",
       "      <td>(I, thought)</td>\n",
       "      <td>200</td>\n",
       "    </tr>\n",
       "    <tr>\n",
       "      <th>39</th>\n",
       "      <td>(I, came)</td>\n",
       "      <td>198</td>\n",
       "    </tr>\n",
       "    <tr>\n",
       "      <th>40</th>\n",
       "      <td>(one, best)</td>\n",
       "      <td>196</td>\n",
       "    </tr>\n",
       "    <tr>\n",
       "      <th>41</th>\n",
       "      <td>(French, onion)</td>\n",
       "      <td>195</td>\n",
       "    </tr>\n",
       "    <tr>\n",
       "      <th>42</th>\n",
       "      <td>(goat, cheese)</td>\n",
       "      <td>194</td>\n",
       "    </tr>\n",
       "    <tr>\n",
       "      <th>43</th>\n",
       "      <td>(We, also)</td>\n",
       "      <td>191</td>\n",
       "    </tr>\n",
       "    <tr>\n",
       "      <th>44</th>\n",
       "      <td>(We, got)</td>\n",
       "      <td>181</td>\n",
       "    </tr>\n",
       "    <tr>\n",
       "      <th>45</th>\n",
       "      <td>(My, husband)</td>\n",
       "      <td>180</td>\n",
       "    </tr>\n",
       "    <tr>\n",
       "      <th>46</th>\n",
       "      <td>(highly, recommend)</td>\n",
       "      <td>178</td>\n",
       "    </tr>\n",
       "    <tr>\n",
       "      <th>47</th>\n",
       "      <td>(We, sat)</td>\n",
       "      <td>168</td>\n",
       "    </tr>\n",
       "    <tr>\n",
       "      <th>48</th>\n",
       "      <td>(good, I)</td>\n",
       "      <td>165</td>\n",
       "    </tr>\n",
       "    <tr>\n",
       "      <th>49</th>\n",
       "      <td>(like, I)</td>\n",
       "      <td>163</td>\n",
       "    </tr>\n",
       "  </tbody>\n",
       "</table>\n",
       "</div>"
      ],
      "text/plain": [
       "                   bigram  count\n",
       "0              (Mon, Ami)   1522\n",
       "1             (Ami, Gabi)    942\n",
       "2              (I, would)    825\n",
       "3            (I, ordered)    778\n",
       "4             (The, food)    696\n",
       "5        (view, Bellagio)    580\n",
       "6          (The, service)    494\n",
       "7              (I, think)    436\n",
       "8           (onion, soup)    389\n",
       "9               (I, love)    387\n",
       "10              (time, I)    380\n",
       "11          (This, place)    357\n",
       "12               (I, got)    356\n",
       "13           (Las, Vegas)    325\n",
       "14  (Bellagio, fountains)    309\n",
       "15              (I, went)    292\n",
       "16          (We, ordered)    290\n",
       "17            (I, really)    288\n",
       "18           (come, back)    280\n",
       "19           (The, steak)    274\n",
       "20        (steak, frites)    267\n",
       "21        (french, onion)    247\n",
       "22             (I, could)    244\n",
       "23             (go, back)    233\n",
       "24          (Our, server)    230\n",
       "25        (filet, mignon)    229\n",
       "26         (sit, outside)    229\n",
       "27              (I, know)    225\n",
       "28              (I, also)    222\n",
       "29          (water, show)    221\n",
       "30                 (I, I)    213\n",
       "31     (people, watching)    213\n",
       "32          (great, view)    212\n",
       "33      (Bellagio, water)    210\n",
       "34   (Bellagio, fountain)    207\n",
       "35              (food, I)    204\n",
       "36           (next, time)    202\n",
       "37              (I, like)    201\n",
       "38           (I, thought)    200\n",
       "39              (I, came)    198\n",
       "40            (one, best)    196\n",
       "41        (French, onion)    195\n",
       "42         (goat, cheese)    194\n",
       "43             (We, also)    191\n",
       "44              (We, got)    181\n",
       "45          (My, husband)    180\n",
       "46    (highly, recommend)    178\n",
       "47              (We, sat)    168\n",
       "48              (good, I)    165\n",
       "49              (like, I)    163"
      ]
     },
     "execution_count": 119,
     "metadata": {},
     "output_type": "execute_result"
    }
   ],
   "source": [
    "bigram_all = list(nltk.bigrams(text2))\n",
    "bigram_counts = collections.Counter(bigram_all)\n",
    "bigram_counts.most_common(20)=\n",
    "bigram_df = pd.DataFrame(bigram_counts.most_common(50),\n",
    "                             columns=['bigram', 'count'])\n",
    "\n",
    "bigram_df"
   ]
  },
  {
   "cell_type": "code",
   "execution_count": null,
   "metadata": {
    "colab": {
     "base_uri": "https://localhost:8080/",
     "height": 1000
    },
    "id": "v775RcC4UjPq",
    "outputId": "1f84cc23-2d09-4ef9-b7e5-f01d95d8adf0"
   },
   "outputs": [
    {
     "data": {
      "image/png": "[encoded data removed]",
      "text/plain": [
       "<Figure size 1800x1440 with 1 Axes>"
      ]
     },
     "metadata": {},
     "output_type": "display_data"
    }
   ],
   "source": [
    "d = bigram_df.set_index('bigram').T.to_dict('records')\n",
    "# Create network plot \n",
    "G = nx.Graph()\n",
    "\n",
    "# Create connections between nodes\n",
    "for k, v in d[0].items():\n",
    "    G.add_edge(k[0], k[1], weight=(v * 10))\n",
    "\n",
    "G.add_node(\"china\", weight=100)\n",
    "\n",
    "fig, ax = plt.subplots(figsize=(25, 20))\n",
    "\n",
    "pos = nx.spring_layout(G, k=2)\n",
    "\n",
    "# Plot networks\n",
    "nx.draw_networkx(G, pos,\n",
    "                 font_size=16,\n",
    "                 width=3,\n",
    "                 edge_color='grey',\n",
    "                 node_color='purple',\n",
    "                 with_labels = False,\n",
    "                 ax=ax)\n",
    "\n",
    "# Create offset labels\n",
    "for key, value in pos.items():\n",
    "    x, y = value[0]+.135, value[1]+.045\n",
    "    ax.text(x, y,\n",
    "            s=key,\n",
    "            bbox=dict(facecolor='red', alpha=0.25),\n",
    "            horizontalalignment='center', fontsize=13)\n",
    "    \n",
    "plt.show()\n"
   ]
  }
 ],
 "metadata": {
  "accelerator": "GPU",
  "colab": {
   "collapsed_sections": [],
   "machine_shape": "hm",
   "name": "Final Group Project Code-YELP.ipynb",
   "provenance": [],
   "toc_visible": true
  },
  "kernelspec": {
   "display_name": "Python 3",
   "language": "python",
   "name": "python3"
  },
  "language_info": {
   "codemirror_mode": {
    "name": "ipython",
    "version": 3
   },
   "file_extension": ".py",
   "mimetype": "text/x-python",
   "name": "python",
   "nbconvert_exporter": "python",
   "pygments_lexer": "ipython3",
   "version": "3.8.3"
  }
 },
 "nbformat": 4,
 "nbformat_minor": 5
}
